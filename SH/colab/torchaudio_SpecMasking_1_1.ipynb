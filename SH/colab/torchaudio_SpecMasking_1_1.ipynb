{
  "nbformat": 4,
  "nbformat_minor": 0,
  "metadata": {
    "colab": {
      "name": "Torchaudio SpecMasking 1.1",
      "provenance": [],
      "collapsed_sections": [],
      "authorship_tag": "ABX9TyOETiiq+FavMY13LFKhGG0n",
      "include_colab_link": true
    },
    "kernelspec": {
      "name": "python3",
      "display_name": "Python 3"
    },
    "language_info": {
      "name": "python"
    }
  },
  "cells": [
    {
      "cell_type": "markdown",
      "metadata": {
        "id": "view-in-github",
        "colab_type": "text"
      },
      "source": [
        "<a href=\"https://colab.research.google.com/github/YuanGongND/ast/blob/master/colab/torchaudio_SpecMasking_1_1.ipynb\" target=\"_parent\"><img src=\"https://colab.research.google.com/assets/colab-badge.svg\" alt=\"Open In Colab\"/></a>"
      ]
    },
    {
      "cell_type": "code",
      "source": [
        "import torch, torchaudio\n",
        "from matplotlib import pyplot as plt\n",
        "\n",
        "print(torchaudio.__version__)\n",
        "\n",
        "!wget https://github.com/karolpiczak/ESC-50/raw/master/audio/1-100032-A-0.wav -O test.wav\n",
        "waveform, _ = torchaudio.load('test.wav')\n",
        "fbank = torchaudio.compliance.kaldi.fbank(waveform, htk_compat=True, sample_frequency=16000, use_energy=False, window_type='hanning', num_mel_bins=128, dither=0.0, frame_shift=10)\n",
        "\n",
        "freqm = torchaudio.transforms.FrequencyMasking(48)\n",
        "timem = torchaudio.transforms.TimeMasking(1000)\n",
        "fbank = torch.transpose(fbank, 0, 1)\n",
        "\n",
        "# NOTE this line, this is the trick, new torchaudio expect [1, freq, time] while old support [freq, time]\n",
        "# comment this line will lead to an issue.\n",
        "fbank = fbank.unsqueeze(0)\n",
        "print(fbank.shape)\n",
        "fbank = freqm(fbank)\n",
        "\n",
        "plt.imshow(fbank[0].cpu().numpy())\n",
        "\n",
        "fbank = timem(fbank)\n",
        "\n",
        "plt.imshow(fbank[0].cpu().numpy())\n",
        "fbank = fbank.squeeze(0)\n",
        "print(fbank.shape)"
      ],
      "metadata": {
        "colab": {
          "base_uri": "https://localhost:8080/",
          "height": 422
        },
        "id": "CETT3eiOjojw",
        "outputId": "6ec20286-ebc1-4109-e2bd-eb4160ed0316"
      },
      "execution_count": null,
      "outputs": [
        {
          "output_type": "stream",
          "name": "stdout",
          "text": [
            "0.11.0+cu113\n",
            "--2022-05-08 21:44:59--  https://github.com/karolpiczak/ESC-50/raw/master/audio/1-100032-A-0.wav\n",
            "Resolving github.com (github.com)... 140.82.113.4\n",
            "Connecting to github.com (github.com)|140.82.113.4|:443... connected.\n",
            "HTTP request sent, awaiting response... 302 Found\n",
            "Location: https://raw.githubusercontent.com/karolpiczak/ESC-50/master/audio/1-100032-A-0.wav [following]\n",
            "--2022-05-08 21:44:59--  https://raw.githubusercontent.com/karolpiczak/ESC-50/master/audio/1-100032-A-0.wav\n",
            "Resolving raw.githubusercontent.com (raw.githubusercontent.com)... 185.199.108.133, 185.199.110.133, 185.199.111.133, ...\n",
            "Connecting to raw.githubusercontent.com (raw.githubusercontent.com)|185.199.108.133|:443... connected.\n",
            "HTTP request sent, awaiting response... 200 OK\n",
            "Length: 441044 (431K) [audio/wav]\n",
            "Saving to: ‘test.wav’\n",
            "\n",
            "test.wav            100%[===================>] 430.71K  --.-KB/s    in 0.04s   \n",
            "\n",
            "2022-05-08 21:44:59 (11.9 MB/s) - ‘test.wav’ saved [441044/441044]\n",
            "\n",
            "torch.Size([1, 128, 1376])\n"
          ]
        },
        {
          "output_type": "execute_result",
          "data": {
            "text/plain": [
              "<matplotlib.image.AxesImage at 0x7fa3c036d890>"
            ]
          },
          "metadata": {},
          "execution_count": 34
        },
        {
          "output_type": "display_data",
          "data": {
            "text/plain": [
              "<Figure size 432x288 with 1 Axes>"
            ],
            "image/png": "[encoded data removed]"
          },
          "metadata": {
            "needs_background": "light"
          }
        }
      ]
    }
  ]
}