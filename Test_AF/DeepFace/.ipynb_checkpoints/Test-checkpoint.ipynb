{
 "cells": [
  {
   "cell_type": "code",
   "execution_count": 6,
   "metadata": {},
   "outputs": [
    {
     "ename": "ModuleNotFoundError",
     "evalue": "No module named 'deepface'",
     "output_type": "error",
     "traceback": [
      "\u001b[1;31m---------------------------------------------------------------------------\u001b[0m",
      "\u001b[1;31mModuleNotFoundError\u001b[0m                       Traceback (most recent call last)",
      "\u001b[1;32mc:\\Users\\mohda\\Downloads\\Downloads\\Last week\\deepface\\.ipynb_checkpoints\\Test-checkpoint.ipynb Cell 1'\u001b[0m in \u001b[0;36m<cell line: 10>\u001b[1;34m()\u001b[0m\n\u001b[0;32m      <a href='vscode-notebook-cell:/c%3A/Users/mohda/Downloads/Downloads/Last%20week/deepface/.ipynb_checkpoints/Test-checkpoint.ipynb#ch0000000?line=7'>8</a>\u001b[0m get_ipython()\u001b[39m.\u001b[39msystem(\u001b[39m'\u001b[39m\u001b[39mpip install retina-face\u001b[39m\u001b[39m'\u001b[39m)\n\u001b[0;32m      <a href='vscode-notebook-cell:/c%3A/Users/mohda/Downloads/Downloads/Last%20week/deepface/.ipynb_checkpoints/Test-checkpoint.ipynb#ch0000000?line=8'>9</a>\u001b[0m get_ipython()\u001b[39m.\u001b[39msystem(\u001b[39m'\u001b[39m\u001b[39mpip install mediapipe\u001b[39m\u001b[39m'\u001b[39m)\n\u001b[1;32m---> <a href='vscode-notebook-cell:/c%3A/Users/mohda/Downloads/Downloads/Last%20week/deepface/.ipynb_checkpoints/Test-checkpoint.ipynb#ch0000000?line=9'>10</a>\u001b[0m \u001b[39mfrom\u001b[39;00m \u001b[39mdeepface\u001b[39;00m \u001b[39mimport\u001b[39;00m DeepFace\n\u001b[0;32m     <a href='vscode-notebook-cell:/c%3A/Users/mohda/Downloads/Downloads/Last%20week/deepface/.ipynb_checkpoints/Test-checkpoint.ipynb#ch0000000?line=10'>11</a>\u001b[0m \u001b[39mimport\u001b[39;00m \u001b[39mtensorflow\u001b[39;00m \u001b[39mas\u001b[39;00m \u001b[39mtf\u001b[39;00m\n",
      "\u001b[1;31mModuleNotFoundError\u001b[0m: No module named 'deepface'"
     ]
    }
   ],
   "source": [
    "!pip install pandas\n",
    "!pip install numpy\n",
    "!pip install tqdm\n",
    "!pip install gdown\n",
    "!pip install opencv-python\n",
    "!pip install Pillow\n",
    "!pip install tensorflow\n",
    "!pip install retina-face\n",
    "!pip install mediapipe\n",
    "from deepface import DeepFace\n",
    "import tensorflow as tf"
   ]
  },
  {
   "cell_type": "code",
   "execution_count": null,
   "metadata": {},
   "outputs": [],
   "source": [
    "metrics = [\"cosine\", \"euclidean\", \"euclidean_l2\"]\n",
    "models = [\"VGG-Face\", \"Facenet\", \"Facenet512\", \"OpenFace\", \"DeepFace\", \"DeepID\", \"ArcFace\", \"Dlib\", \"SFace\"]\n",
    "backends = ['opencv', 'ssd', 'dlib', 'mtcnn', 'retinaface', 'mediapipe']\n"
   ]
  },
  {
   "cell_type": "code",
   "execution_count": 4,
   "metadata": {},
   "outputs": [
    {
     "name": "stdout",
     "output_type": "stream",
     "text": [
      "Num GPUs Available:  1\n"
     ]
    }
   ],
   "source": [
    "import tensorflow as tf\n",
    "print(\"Num GPUs Available: \", len(tf.config.list_physical_devices('GPU')))"
   ]
  },
  {
   "cell_type": "code",
   "execution_count": 5,
   "metadata": {},
   "outputs": [],
   "source": [
    "# Avoid OOM errors by setting GPU Memory Consumption Growth\n",
    "gpus = tf.config.experimental.list_physical_devices('GPU')\n",
    "for gpu in gpus: \n",
    "    tf.config.experimental.set_memory_growth(gpu, True)"
   ]
  },
  {
   "cell_type": "code",
   "execution_count": 6,
   "metadata": {},
   "outputs": [
    {
     "data": {
      "text/plain": [
       "[PhysicalDevice(name='/physical_device:GPU:0', device_type='GPU')]"
      ]
     },
     "execution_count": 6,
     "metadata": {},
     "output_type": "execute_result"
    }
   ],
   "source": [
    "tf.config.list_physical_devices('GPU')"
   ]
  },
  {
   "cell_type": "code",
   "execution_count": null,
   "metadata": {},
   "outputs": [],
   "source": [
    "result = DeepFace.verify(img1_path = \"100061914_Mohamad Alansari_Masters.jpeg\", img2_path = \"WhatsApp Image 2022-06-23 at 10.26.37 AM.jpeg\")"
   ]
  },
  {
   "cell_type": "code",
   "execution_count": null,
   "metadata": {},
   "outputs": [],
   "source": [
    "result"
   ]
  },
  {
   "cell_type": "code",
   "execution_count": null,
   "metadata": {},
   "outputs": [],
   "source": [
    "df = DeepFace.find(img_path = \"100061914_Mohamad Alansari_Masters.jpeg\", db_path = \"C:/Users/mohda/Downloads/deepface/Mood\")"
   ]
  },
  {
   "cell_type": "code",
   "execution_count": 18,
   "metadata": {},
   "outputs": [
    {
     "data": {
      "text/html": [
       "<div>\n",
       "<style scoped>\n",
       "    .dataframe tbody tr th:only-of-type {\n",
       "        vertical-align: middle;\n",
       "    }\n",
       "\n",
       "    .dataframe tbody tr th {\n",
       "        vertical-align: top;\n",
       "    }\n",
       "\n",
       "    .dataframe thead th {\n",
       "        text-align: right;\n",
       "    }\n",
       "</style>\n",
       "<table border=\"1\" class=\"dataframe\">\n",
       "  <thead>\n",
       "    <tr style=\"text-align: right;\">\n",
       "      <th></th>\n",
       "      <th>identity</th>\n",
       "      <th>VGG-Face_cosine</th>\n",
       "    </tr>\n",
       "  </thead>\n",
       "  <tbody>\n",
       "    <tr>\n",
       "      <th>0</th>\n",
       "      <td>C:/Users/mohda/Downloads/deepface/Mood/Snapcha...</td>\n",
       "      <td>0.208527</td>\n",
       "    </tr>\n",
       "    <tr>\n",
       "      <th>1</th>\n",
       "      <td>C:/Users/mohda/Downloads/deepface/Mood/Snapcha...</td>\n",
       "      <td>0.212855</td>\n",
       "    </tr>\n",
       "    <tr>\n",
       "      <th>2</th>\n",
       "      <td>C:/Users/mohda/Downloads/deepface/Mood/Snapcha...</td>\n",
       "      <td>0.276560</td>\n",
       "    </tr>\n",
       "    <tr>\n",
       "      <th>3</th>\n",
       "      <td>C:/Users/mohda/Downloads/deepface/Mood/Snapcha...</td>\n",
       "      <td>0.296002</td>\n",
       "    </tr>\n",
       "  </tbody>\n",
       "</table>\n",
       "</div>"
      ],
      "text/plain": [
       "                                            identity  VGG-Face_cosine\n",
       "0  C:/Users/mohda/Downloads/deepface/Mood/Snapcha...         0.208527\n",
       "1  C:/Users/mohda/Downloads/deepface/Mood/Snapcha...         0.212855\n",
       "2  C:/Users/mohda/Downloads/deepface/Mood/Snapcha...         0.276560\n",
       "3  C:/Users/mohda/Downloads/deepface/Mood/Snapcha...         0.296002"
      ]
     },
     "execution_count": 18,
     "metadata": {},
     "output_type": "execute_result"
    }
   ],
   "source": [
    "df"
   ]
  },
  {
   "cell_type": "code",
   "execution_count": 25,
   "metadata": {},
   "outputs": [
    {
     "name": "stdout",
     "output_type": "stream",
     "text": [
      "1/1 [==============================] - 0s 52ms/step\n",
      "1/1 [==============================] - 0s 45ms/step\n",
      "WARNING: Representations for images in  C:/Users/mohda/Downloads/deepface/Mood  folder were previously stored in  representations_facenet.pkl . If you added new instances after this file creation, then please delete this file and call find function again. It will create it again.\n",
      "There are  5  representations found in  representations_facenet.pkl\n",
      "1/1 [==============================] - 0s 54ms/step\n",
      "find function lasts  0.2969777584075928  seconds\n"
     ]
    }
   ],
   "source": [
    "models = [\"VGG-Face\", \"Facenet\", \"Facenet512\", \"OpenFace\", \"DeepFace\", \"DeepID\", \"ArcFace\", \"Dlib\", \"SFace\"]\n",
    "\n",
    "#face verification\n",
    "result = DeepFace.verify(img1_path = \"100061914_Mohamad Alansari_Masters.jpeg\", img2_path = \"C:/Users/mohda/Downloads/deepface/Mood/Snapchat-1554979277.jpg\", model_name = models[1])\n",
    "\n",
    "#face recognition\n",
    "df = DeepFace.find(img_path = \"WhatsApp Image 2022-06-23 at 10.26.37 AM.jpeg\", db_path = \"C:/Users/mohda/Downloads/deepface/Mood\", model_name = models[1])"
   ]
  },
  {
   "cell_type": "code",
   "execution_count": 26,
   "metadata": {},
   "outputs": [
    {
     "data": {
      "text/plain": [
       "{'verified': True,\n",
       " 'distance': 0.2995327328503461,\n",
       " 'threshold': 0.4,\n",
       " 'model': 'Facenet',\n",
       " 'detector_backend': 'opencv',\n",
       " 'similarity_metric': 'cosine'}"
      ]
     },
     "execution_count": 26,
     "metadata": {},
     "output_type": "execute_result"
    }
   ],
   "source": [
    "result"
   ]
  },
  {
   "cell_type": "code",
   "execution_count": 24,
   "metadata": {},
   "outputs": [
    {
     "data": {
      "text/html": [
       "<div>\n",
       "<style scoped>\n",
       "    .dataframe tbody tr th:only-of-type {\n",
       "        vertical-align: middle;\n",
       "    }\n",
       "\n",
       "    .dataframe tbody tr th {\n",
       "        vertical-align: top;\n",
       "    }\n",
       "\n",
       "    .dataframe thead th {\n",
       "        text-align: right;\n",
       "    }\n",
       "</style>\n",
       "<table border=\"1\" class=\"dataframe\">\n",
       "  <thead>\n",
       "    <tr style=\"text-align: right;\">\n",
       "      <th></th>\n",
       "      <th>identity</th>\n",
       "      <th>Facenet_cosine</th>\n",
       "    </tr>\n",
       "  </thead>\n",
       "  <tbody>\n",
       "  </tbody>\n",
       "</table>\n",
       "</div>"
      ],
      "text/plain": [
       "Empty DataFrame\n",
       "Columns: [identity, Facenet_cosine]\n",
       "Index: []"
      ]
     },
     "execution_count": 24,
     "metadata": {},
     "output_type": "execute_result"
    }
   ],
   "source": [
    "df"
   ]
  },
  {
   "cell_type": "code",
   "execution_count": 36,
   "metadata": {},
   "outputs": [
    {
     "data": {
      "text/plain": [
       "['VGG-Face',\n",
       " 'Facenet',\n",
       " 'Facenet512',\n",
       " 'OpenFace',\n",
       " 'DeepFace',\n",
       " 'DeepID',\n",
       " 'ArcFace',\n",
       " 'Dlib',\n",
       " 'SFace']"
      ]
     },
     "execution_count": 36,
     "metadata": {},
     "output_type": "execute_result"
    }
   ],
   "source": [
    "models"
   ]
  },
  {
   "cell_type": "code",
   "execution_count": 28,
   "metadata": {},
   "outputs": [
    {
     "name": "stdout",
     "output_type": "stream",
     "text": [
      "1/1 [==============================] - 0s 176ms/step\n",
      "1/1 [==============================] - 0s 185ms/step\n"
     ]
    },
    {
     "data": {
      "text/plain": [
       "{'verified': True,\n",
       " 'distance': 0.21285450651254723,\n",
       " 'threshold': 0.4,\n",
       " 'model': 'VGG-Face',\n",
       " 'detector_backend': 'opencv',\n",
       " 'similarity_metric': 'cosine'}"
      ]
     },
     "execution_count": 28,
     "metadata": {},
     "output_type": "execute_result"
    }
   ],
   "source": [
    "#face verification\n",
    "result = DeepFace.verify(img1_path = \"100061914_Mohamad Alansari_Masters.jpeg\", img2_path = \"C:/Users/mohda/Downloads/deepface/Mood/Snapchat-1554979277.jpg\", model_name = models[0])\n",
    "result"
   ]
  },
  {
   "cell_type": "code",
   "execution_count": 29,
   "metadata": {},
   "outputs": [
    {
     "name": "stdout",
     "output_type": "stream",
     "text": [
      "1/1 [==============================] - 0s 55ms/step\n",
      "1/1 [==============================] - 0s 50ms/step\n"
     ]
    },
    {
     "data": {
      "text/plain": [
       "{'verified': True,\n",
       " 'distance': 0.2995327328503461,\n",
       " 'threshold': 0.4,\n",
       " 'model': 'Facenet',\n",
       " 'detector_backend': 'opencv',\n",
       " 'similarity_metric': 'cosine'}"
      ]
     },
     "execution_count": 29,
     "metadata": {},
     "output_type": "execute_result"
    }
   ],
   "source": [
    "#face verification\n",
    "result = DeepFace.verify(img1_path = \"100061914_Mohamad Alansari_Masters.jpeg\", img2_path = \"C:/Users/mohda/Downloads/deepface/Mood/Snapchat-1554979277.jpg\", model_name = models[1])\n",
    "result\n"
   ]
  },
  {
   "cell_type": "code",
   "execution_count": 30,
   "metadata": {},
   "outputs": [
    {
     "name": "stdout",
     "output_type": "stream",
     "text": [
      "facenet512_weights.h5 will be downloaded...\n"
     ]
    },
    {
     "name": "stderr",
     "output_type": "stream",
     "text": [
      "Downloading...\n",
      "From: https://github.com/serengil/deepface_models/releases/download/v1.0/facenet512_weights.h5\n",
      "To: C:\\Users\\mohda\\.deepface\\weights\\facenet512_weights.h5\n",
      "100%|██████████| 95.0M/95.0M [00:16<00:00, 5.88MB/s]\n"
     ]
    },
    {
     "name": "stdout",
     "output_type": "stream",
     "text": [
      "1/1 [==============================] - 1s 1s/step\n",
      "1/1 [==============================] - 0s 69ms/step\n"
     ]
    },
    {
     "data": {
      "text/plain": [
       "{'verified': True,\n",
       " 'distance': 0.2529420609697396,\n",
       " 'threshold': 0.3,\n",
       " 'model': 'Facenet512',\n",
       " 'detector_backend': 'opencv',\n",
       " 'similarity_metric': 'cosine'}"
      ]
     },
     "execution_count": 30,
     "metadata": {},
     "output_type": "execute_result"
    }
   ],
   "source": [
    "#face verification\n",
    "result = DeepFace.verify(img1_path = \"100061914_Mohamad Alansari_Masters.jpeg\", img2_path = \"C:/Users/mohda/Downloads/deepface/Mood/Snapchat-1554979277.jpg\", model_name = models[2])\n",
    "result"
   ]
  },
  {
   "cell_type": "code",
   "execution_count": 31,
   "metadata": {},
   "outputs": [
    {
     "name": "stdout",
     "output_type": "stream",
     "text": [
      "openface_weights.h5 will be downloaded...\n"
     ]
    },
    {
     "name": "stderr",
     "output_type": "stream",
     "text": [
      "Downloading...\n",
      "From: https://github.com/serengil/deepface_models/releases/download/v1.0/openface_weights.h5\n",
      "To: C:\\Users\\mohda\\.deepface\\weights\\openface_weights.h5\n",
      "100%|██████████| 15.3M/15.3M [00:02<00:00, 5.71MB/s]\n"
     ]
    },
    {
     "name": "stdout",
     "output_type": "stream",
     "text": [
      "1/1 [==============================] - 1s 702ms/step\n",
      "1/1 [==============================] - 0s 27ms/step\n"
     ]
    },
    {
     "data": {
      "text/plain": [
       "{'verified': False,\n",
       " 'distance': 0.29322646188282053,\n",
       " 'threshold': 0.1,\n",
       " 'model': 'OpenFace',\n",
       " 'detector_backend': 'opencv',\n",
       " 'similarity_metric': 'cosine'}"
      ]
     },
     "execution_count": 31,
     "metadata": {},
     "output_type": "execute_result"
    }
   ],
   "source": [
    "#face verification\n",
    "result = DeepFace.verify(img1_path = \"100061914_Mohamad Alansari_Masters.jpeg\", img2_path = \"C:/Users/mohda/Downloads/deepface/Mood/Snapchat-1554979277.jpg\", model_name = models[3])\n",
    "result"
   ]
  },
  {
   "cell_type": "code",
   "execution_count": 32,
   "metadata": {},
   "outputs": [
    {
     "name": "stdout",
     "output_type": "stream",
     "text": [
      "VGGFace2_DeepFace_weights_val-0.9034.h5 will be downloaded...\n"
     ]
    },
    {
     "name": "stderr",
     "output_type": "stream",
     "text": [
      "Downloading...\n",
      "From: https://github.com/swghosh/DeepFace/releases/download/weights-vggface2-2d-aligned/VGGFace2_DeepFace_weights_val-0.9034.h5.zip\n",
      "To: C:\\Users\\mohda\\.deepface\\weights\\VGGFace2_DeepFace_weights_val-0.9034.h5.zip\n",
      "100%|██████████| 511M/511M [01:29<00:00, 5.74MB/s] \n"
     ]
    },
    {
     "name": "stdout",
     "output_type": "stream",
     "text": [
      "1/1 [==============================] - 16s 16s/step\n",
      "1/1 [==============================] - 0s 55ms/step\n"
     ]
    },
    {
     "data": {
      "text/plain": [
       "{'verified': False,\n",
       " 'distance': 0.2462734427118095,\n",
       " 'threshold': 0.23,\n",
       " 'model': 'DeepFace',\n",
       " 'detector_backend': 'opencv',\n",
       " 'similarity_metric': 'cosine'}"
      ]
     },
     "execution_count": 32,
     "metadata": {},
     "output_type": "execute_result"
    }
   ],
   "source": [
    "#face verification\n",
    "result = DeepFace.verify(img1_path = \"100061914_Mohamad Alansari_Masters.jpeg\", img2_path = \"C:/Users/mohda/Downloads/deepface/Mood/Snapchat-1554979277.jpg\", model_name = models[4])\n",
    "result"
   ]
  },
  {
   "cell_type": "code",
   "execution_count": 33,
   "metadata": {},
   "outputs": [
    {
     "name": "stdout",
     "output_type": "stream",
     "text": [
      "deepid_keras_weights.h5 will be downloaded...\n"
     ]
    },
    {
     "name": "stderr",
     "output_type": "stream",
     "text": [
      "Downloading...\n",
      "From: https://github.com/serengil/deepface_models/releases/download/v1.0/deepid_keras_weights.h5\n",
      "To: C:\\Users\\mohda\\.deepface\\weights\\deepid_keras_weights.h5\n",
      "100%|██████████| 1.61M/1.61M [00:00<00:00, 5.76MB/s]\n"
     ]
    },
    {
     "name": "stdout",
     "output_type": "stream",
     "text": [
      "1/1 [==============================] - 0s 65ms/step\n",
      "1/1 [==============================] - 0s 20ms/step\n"
     ]
    },
    {
     "data": {
      "text/plain": [
       "{'verified': False,\n",
       " 'distance': 0.11902613083924829,\n",
       " 'threshold': 0.015,\n",
       " 'model': 'DeepID',\n",
       " 'detector_backend': 'opencv',\n",
       " 'similarity_metric': 'cosine'}"
      ]
     },
     "execution_count": 33,
     "metadata": {},
     "output_type": "execute_result"
    }
   ],
   "source": [
    "#face verification\n",
    "result = DeepFace.verify(img1_path = \"100061914_Mohamad Alansari_Masters.jpeg\", img2_path = \"C:/Users/mohda/Downloads/deepface/Mood/Snapchat-1554979277.jpg\", model_name = models[5])\n",
    "result"
   ]
  },
  {
   "cell_type": "code",
   "execution_count": 34,
   "metadata": {},
   "outputs": [
    {
     "name": "stdout",
     "output_type": "stream",
     "text": [
      "dlib_face_recognition_resnet_model_v1.dat is going to be downloaded\n"
     ]
    },
    {
     "name": "stderr",
     "output_type": "stream",
     "text": [
      "Downloading...\n",
      "From: http://dlib.net/files/dlib_face_recognition_resnet_model_v1.dat.bz2\n",
      "To: C:\\Users\\mohda\\.deepface\\weights\\dlib_face_recognition_resnet_model_v1.dat.bz2\n",
      "100%|██████████| 21.4M/21.4M [03:40<00:00, 97.0kB/s]\n"
     ]
    },
    {
     "data": {
      "text/plain": [
       "{'verified': True,\n",
       " 'distance': 0.059477552102932485,\n",
       " 'threshold': 0.07,\n",
       " 'model': 'Dlib',\n",
       " 'detector_backend': 'opencv',\n",
       " 'similarity_metric': 'cosine'}"
      ]
     },
     "execution_count": 34,
     "metadata": {},
     "output_type": "execute_result"
    }
   ],
   "source": [
    "#face verification\n",
    "result = DeepFace.verify(img1_path = \"100061914_Mohamad Alansari_Masters.jpeg\", img2_path = \"C:/Users/mohda/Downloads/deepface/Mood/Snapchat-1554979277.jpg\", model_name = models[7])\n",
    "result"
   ]
  },
  {
   "cell_type": "code",
   "execution_count": 35,
   "metadata": {},
   "outputs": [
    {
     "name": "stdout",
     "output_type": "stream",
     "text": [
      "sface weights will be downloaded...\n"
     ]
    },
    {
     "name": "stderr",
     "output_type": "stream",
     "text": [
      "Downloading...\n",
      "From: https://github.com/opencv/opencv_zoo/raw/master/models/face_recognition_sface/face_recognition_sface_2021dec.onnx\n",
      "To: C:\\Users\\mohda\\.deepface\\weights\\face_recognition_sface_2021dec.onnx\n",
      "100%|██████████| 38.7M/38.7M [00:09<00:00, 4.13MB/s]\n"
     ]
    },
    {
     "data": {
      "text/plain": [
       "{'verified': True,\n",
       " 'distance': 0.4456890242848276,\n",
       " 'threshold': 0.5932763306134152,\n",
       " 'model': 'SFace',\n",
       " 'detector_backend': 'opencv',\n",
       " 'similarity_metric': 'cosine'}"
      ]
     },
     "execution_count": 35,
     "metadata": {},
     "output_type": "execute_result"
    }
   ],
   "source": [
    "#face verification\n",
    "result = DeepFace.verify(img1_path = \"100061914_Mohamad Alansari_Masters.jpeg\", img2_path = \"C:/Users/mohda/Downloads/deepface/Mood/Snapchat-1554979277.jpg\", model_name = models[8])\n",
    "result"
   ]
  },
  {
   "cell_type": "code",
   "execution_count": 40,
   "metadata": {},
   "outputs": [
    {
     "name": "stdout",
     "output_type": "stream",
     "text": [
      "1/1 [==============================] - 0s 49ms/step\n",
      "1/1 [==============================] - 0s 55ms/step\n"
     ]
    },
    {
     "data": {
      "text/plain": [
       "{'verified': True,\n",
       " 'distance': 63.595411777443104,\n",
       " 'threshold': 64,\n",
       " 'model': 'DeepFace',\n",
       " 'detector_backend': 'opencv',\n",
       " 'similarity_metric': 'euclidean'}"
      ]
     },
     "execution_count": 40,
     "metadata": {},
     "output_type": "execute_result"
    }
   ],
   "source": [
    "metrics = [\"cosine\", \"euclidean\", \"euclidean_l2\"]\n",
    "\n",
    "#face verification\n",
    "result = DeepFace.verify(img1_path = \"100061914_Mohamad Alansari_Masters.jpeg\", img2_path = \"C:/Users/mohda/Downloads/deepface/Mood/Snapchat-1554979277.jpg\", model_name = models[4], distance_metric = metrics[1])\n",
    "result"
   ]
  },
  {
   "cell_type": "code",
   "execution_count": 45,
   "metadata": {},
   "outputs": [
    {
     "name": "stderr",
     "output_type": "stream",
     "text": [
      "Action: age:   0%|          | 0/4 [00:00<?, ?it/s]    "
     ]
    },
    {
     "name": "stdout",
     "output_type": "stream",
     "text": [
      "1/1 [==============================] - 0s 200ms/step\n"
     ]
    },
    {
     "name": "stderr",
     "output_type": "stream",
     "text": [
      "Action: gender:  25%|██▌       | 1/4 [00:00<00:02,  1.22it/s]"
     ]
    },
    {
     "name": "stdout",
     "output_type": "stream",
     "text": [
      "1/1 [==============================] - 0s 210ms/step\n"
     ]
    },
    {
     "name": "stderr",
     "output_type": "stream",
     "text": [
      "Action: race:  50%|█████     | 2/4 [00:01<00:00,  2.05it/s]  "
     ]
    },
    {
     "name": "stdout",
     "output_type": "stream",
     "text": [
      "1/1 [==============================] - 0s 184ms/step\n"
     ]
    },
    {
     "name": "stderr",
     "output_type": "stream",
     "text": [
      "Action: emotion:  75%|███████▌  | 3/4 [00:01<00:00,  2.76it/s]"
     ]
    },
    {
     "name": "stdout",
     "output_type": "stream",
     "text": [
      "1/1 [==============================] - 0s 30ms/step\n"
     ]
    },
    {
     "name": "stderr",
     "output_type": "stream",
     "text": [
      "Action: emotion: 100%|██████████| 4/4 [00:01<00:00,  2.67it/s]\n"
     ]
    },
    {
     "data": {
      "text/plain": [
       "{'age': 28,\n",
       " 'region': {'x': 120, 'y': 386, 'w': 446, 'h': 446},\n",
       " 'gender': {'Woman': 0.608781399205327, 'Man': 99.39122200012207},\n",
       " 'dominant_gender': 'Man',\n",
       " 'race': {'asian': 7.991237669660906,\n",
       "  'indian': 12.086278175489793,\n",
       "  'black': 4.084574674640576,\n",
       "  'white': 20.60505572587584,\n",
       "  'middle eastern': 26.58219495905608,\n",
       "  'latino hispanic': 28.650661030451122},\n",
       " 'dominant_race': 'latino hispanic',\n",
       " 'emotion': {'angry': 1.2534121051430702,\n",
       "  'disgust': 5.138992530129283e-10,\n",
       "  'fear': 0.0750892679207027,\n",
       "  'happy': 5.416293191728982e-07,\n",
       "  'sad': 92.87886023521423,\n",
       "  'surprise': 4.6197393133162734e-08,\n",
       "  'neutral': 5.792635306715965},\n",
       " 'dominant_emotion': 'sad'}"
      ]
     },
     "execution_count": 45,
     "metadata": {},
     "output_type": "execute_result"
    }
   ],
   "source": [
    "obj = DeepFace.analyze(img_path = \"Mood/Snapchat-1330826848.jpg\", actions = ['age', 'gender', 'race', 'emotion'])\n",
    "obj"
   ]
  },
  {
   "cell_type": "code",
   "execution_count": null,
   "metadata": {},
   "outputs": [],
   "source": [
    "DeepFace.stream(db_path = \"Mood\")"
   ]
  },
  {
   "cell_type": "code",
   "execution_count": 182,
   "metadata": {},
   "outputs": [
    {
     "name": "stdout",
     "output_type": "stream",
     "text": [
      "retinaface.h5 will be downloaded from the url https://github.com/serengil/deepface_models/releases/download/v1.0/retinaface.h5\n"
     ]
    },
    {
     "name": "stderr",
     "output_type": "stream",
     "text": [
      "Downloading...\n",
      "From: https://github.com/serengil/deepface_models/releases/download/v1.0/retinaface.h5\n",
      "To: C:\\Users\\mohda\\.deepface\\weights\\retinaface.h5\n",
      "100%|██████████| 119M/119M [00:18<00:00, 6.44MB/s] \n"
     ]
    },
    {
     "name": "stdout",
     "output_type": "stream",
     "text": [
      "1/1 [==============================] - 17s 17s/step\n",
      "1/1 [==============================] - 0s 58ms/step\n",
      "WARNING: Representations for images in  Mood  folder were previously stored in  representations_deepface.pkl . If you added new instances after this file creation, then please delete this file and call find function again. It will create it again.\n",
      "There are  8  representations found in  representations_deepface.pkl\n",
      "1/1 [==============================] - 0s 59ms/step\n",
      "find function lasts  2.0395116806030273  seconds\n"
     ]
    },
    {
     "name": "stderr",
     "output_type": "stream",
     "text": [
      "Action: emotion:   0%|          | 0/4 [00:00<?, ?it/s]"
     ]
    },
    {
     "name": "stdout",
     "output_type": "stream",
     "text": [
      "1/1 [==============================] - 0s 367ms/step\n"
     ]
    },
    {
     "name": "stderr",
     "output_type": "stream",
     "text": [
      "Action: age:  25%|██▌       | 1/4 [00:03<00:11,  3.85s/it]    "
     ]
    },
    {
     "name": "stdout",
     "output_type": "stream",
     "text": [
      "1/1 [==============================] - 1s 565ms/step\n"
     ]
    },
    {
     "name": "stderr",
     "output_type": "stream",
     "text": [
      "Action: gender:  50%|█████     | 2/4 [00:07<00:07,  3.63s/it]"
     ]
    },
    {
     "name": "stdout",
     "output_type": "stream",
     "text": [
      "1/1 [==============================] - 0s 445ms/step\n"
     ]
    },
    {
     "name": "stderr",
     "output_type": "stream",
     "text": [
      "Action: race:  75%|███████▌  | 3/4 [00:07<00:02,  2.19s/it]  "
     ]
    },
    {
     "name": "stdout",
     "output_type": "stream",
     "text": [
      "1/1 [==============================] - 0s 403ms/step\n"
     ]
    },
    {
     "name": "stderr",
     "output_type": "stream",
     "text": [
      "Action: race: 100%|██████████| 4/4 [00:08<00:00,  2.06s/it]\n"
     ]
    }
   ],
   "source": [
    "backends = ['opencv', 'ssd', 'dlib', 'mtcnn', 'retinaface', 'mediapipe']\n",
    "\n",
    "#face verification\n",
    "obj = DeepFace.verify(img1_path = \"100061914_Mohamad Alansari_Masters.jpeg\", img2_path = \"Mood/Snapchat-1554979277.jpg\", detector_backend = backends[4], model_name = models[4], distance_metric = metrics[1])\n",
    "\n",
    "#face recognition\n",
    "df = DeepFace.find(img_path = \"100061914_Mohamad Alansari_Masters.jpeg\", db_path = \"Mood\", detector_backend = backends[4], model_name = models[4], distance_metric = metrics[1])\n",
    "\n",
    "#facial analysis\n",
    "demography = DeepFace.analyze(img_path = \"Mood/Snapchat-1554979277.jpg\", detector_backend = backends[4])\n",
    "\n",
    "#face detection and alignment\n",
    "face = DeepFace.detectFace(img_path = \"Mood/Snapchat-1554979277.jpg\", target_size = (224, 224), detector_backend = backends[4])"
   ]
  },
  {
   "cell_type": "code",
   "execution_count": 24,
   "metadata": {},
   "outputs": [
    {
     "name": "stdout",
     "output_type": "stream",
     "text": [
      "1/1 [==============================] - 1s 1s/step\n"
     ]
    }
   ],
   "source": [
    "embedding = DeepFace.represent(img_path = \" img1.jpg\", model_name = 'Facenet')"
   ]
  },
  {
   "cell_type": "code",
   "execution_count": 25,
   "metadata": {},
   "outputs": [
    {
     "data": {
      "text/plain": [
       "[0.8134609460830688,\n",
       " 1.0957109928131104,\n",
       " 1.4779812097549438,\n",
       " -1.6971186399459839,\n",
       " 0.49749720096588135,\n",
       " -0.6081871390342712,\n",
       " 0.8573169112205505,\n",
       " 0.8738703727722168,\n",
       " 1.932036280632019,\n",
       " 0.9692341089248657,\n",
       " -0.8098961114883423,\n",
       " 0.44031575322151184,\n",
       " -1.026122808456421,\n",
       " -0.5067419409751892,\n",
       " -1.857983946800232,\n",
       " 0.46428728103637695,\n",
       " -1.5048508644104004,\n",
       " -0.31784558296203613,\n",
       " 0.7794394493103027,\n",
       " -0.5378937125205994,\n",
       " 1.4967315196990967,\n",
       " -0.2142357975244522,\n",
       " -0.7199378609657288,\n",
       " -1.251033067703247,\n",
       " -2.543149709701538,\n",
       " 2.1600759029388428,\n",
       " -0.6341387033462524,\n",
       " -0.6525232195854187,\n",
       " -0.7509151697158813,\n",
       " 0.7207618355751038,\n",
       " -0.8355487585067749,\n",
       " 1.136967420578003,\n",
       " 0.8581037521362305,\n",
       " -1.9811880588531494,\n",
       " 0.21075019240379333,\n",
       " 0.02995629981160164,\n",
       " -1.4973468780517578,\n",
       " 0.6676220893859863,\n",
       " 1.4576501846313477,\n",
       " -0.10286419093608856,\n",
       " -0.5437474250793457,\n",
       " 0.09062724560499191,\n",
       " -1.4101024866104126,\n",
       " -0.4391133785247803,\n",
       " -0.08938591182231903,\n",
       " 1.6649171113967896,\n",
       " -1.8908052444458008,\n",
       " 1.0183922052383423,\n",
       " -0.276518315076828,\n",
       " 0.09515219926834106,\n",
       " 1.4157123565673828,\n",
       " 0.7491276860237122,\n",
       " -0.2604241967201233,\n",
       " -1.209367275238037,\n",
       " 1.4259260892868042,\n",
       " -0.7012544870376587,\n",
       " -0.6730754375457764,\n",
       " -1.0727516412734985,\n",
       " 0.7552026510238647,\n",
       " 1.8265422582626343,\n",
       " -0.2737428545951843,\n",
       " 0.05248653143644333,\n",
       " -2.053361177444458,\n",
       " -0.8455162644386292,\n",
       " 1.6706434488296509,\n",
       " -0.5768936276435852,\n",
       " -0.2599724531173706,\n",
       " 0.025283128023147583,\n",
       " 1.369476318359375,\n",
       " 1.746811032295227,\n",
       " -0.5125144720077515,\n",
       " 0.6163622140884399,\n",
       " -0.04037834331393242,\n",
       " -0.5490090250968933,\n",
       " 0.7309162616729736,\n",
       " -0.27647796273231506,\n",
       " -1.6310821771621704,\n",
       " -0.35453763604164124,\n",
       " 0.37846776843070984,\n",
       " -1.2693065404891968,\n",
       " 0.6742205619812012,\n",
       " -1.3135991096496582,\n",
       " 1.2029304504394531,\n",
       " -2.3487212657928467,\n",
       " -1.5839288234710693,\n",
       " -0.9781301617622375,\n",
       " -1.5516142845153809,\n",
       " -0.4012022614479065,\n",
       " 0.5299221277236938,\n",
       " 0.03075149841606617,\n",
       " -0.5006771683692932,\n",
       " 1.9450886249542236,\n",
       " -0.4046870172023773,\n",
       " -0.5481089353561401,\n",
       " 0.45097747445106506,\n",
       " 0.0682365670800209,\n",
       " -0.018743081018328667,\n",
       " 0.9393965005874634,\n",
       " -0.564030110836029,\n",
       " -0.836505651473999,\n",
       " 0.8715734481811523,\n",
       " -1.1882719993591309,\n",
       " -2.572815418243408,\n",
       " -1.0660161972045898,\n",
       " -0.9811158776283264,\n",
       " -0.4183311462402344,\n",
       " 1.3918012380599976,\n",
       " 0.14703968167304993,\n",
       " -0.21169911324977875,\n",
       " 1.4766470193862915,\n",
       " 0.34293699264526367,\n",
       " -0.7635481953620911,\n",
       " -1.677361011505127,\n",
       " 0.41277605295181274,\n",
       " 0.5167750716209412,\n",
       " 1.5296767950057983,\n",
       " 0.5312422513961792,\n",
       " -0.24782395362854004,\n",
       " 0.44737327098846436,\n",
       " -0.4252735376358032,\n",
       " 0.7076842188835144,\n",
       " -0.2825947105884552,\n",
       " -1.3706164360046387,\n",
       " 0.1374659240245819,\n",
       " -0.13659609854221344,\n",
       " -1.3837231397628784,\n",
       " -0.537477970123291,\n",
       " -0.41823872923851013]"
      ]
     },
     "execution_count": 25,
     "metadata": {},
     "output_type": "execute_result"
    }
   ],
   "source": [
    "embedding"
   ]
  },
  {
   "cell_type": "code",
   "execution_count": 4,
   "metadata": {},
   "outputs": [
    {
     "name": "stdout",
     "output_type": "stream",
     "text": [
      "1/1 [==============================] - 0s 322ms/step\n"
     ]
    },
    {
     "ename": "ValueError",
     "evalue": "Face could not be detected. Please confirm that the picture is a face photo or consider to set enforce_detection param to False.",
     "output_type": "error",
     "traceback": [
      "\u001b[1;31m---------------------------------------------------------------------------\u001b[0m",
      "\u001b[1;31mValueError\u001b[0m                                Traceback (most recent call last)",
      "\u001b[1;32mc:\\Users\\mohda\\Downloads\\deepface\\Test.ipynb Cell 3'\u001b[0m in \u001b[0;36m<cell line: 1>\u001b[1;34m()\u001b[0m\n\u001b[1;32m----> <a href='vscode-notebook-cell:/c%3A/Users/mohda/Downloads/deepface/Test.ipynb#ch0000002?line=0'>1</a>\u001b[0m result \u001b[39m=\u001b[39m DeepFace\u001b[39m.\u001b[39;49mverify(img1_path \u001b[39m=\u001b[39;49m \u001b[39m\"\u001b[39;49m\u001b[39m100061914_Mohamad Alansari_Masters.jpeg\u001b[39;49m\u001b[39m\"\u001b[39;49m, img2_path \u001b[39m=\u001b[39;49m \u001b[39m\"\u001b[39;49m\u001b[39mMood/Snapchat-1294384712.jpg\u001b[39;49m\u001b[39m\"\u001b[39;49m)\n",
      "File \u001b[1;32mc:\\Users\\mohda\\Downloads\\deepface\\deepface\\DeepFace.py:169\u001b[0m, in \u001b[0;36mverify\u001b[1;34m(img1_path, img2_path, model_name, distance_metric, model, enforce_detection, detector_backend, align, prog_bar, normalization)\u001b[0m\n\u001b[0;32m    161\u001b[0m \u001b[39m#img_path, model_name = 'VGG-Face', model = None, enforce_detection = True, detector_backend = 'mtcnn'\u001b[39;00m\n\u001b[0;32m    162\u001b[0m img1_representation \u001b[39m=\u001b[39m represent(img_path \u001b[39m=\u001b[39m img1_path\n\u001b[0;32m    163\u001b[0m \t\t, model_name \u001b[39m=\u001b[39m model_name, model \u001b[39m=\u001b[39m custom_model\n\u001b[0;32m    164\u001b[0m \t\t, enforce_detection \u001b[39m=\u001b[39m enforce_detection, detector_backend \u001b[39m=\u001b[39m detector_backend\n\u001b[0;32m    165\u001b[0m \t\t, align \u001b[39m=\u001b[39m align\n\u001b[0;32m    166\u001b[0m \t\t, normalization \u001b[39m=\u001b[39m normalization\n\u001b[0;32m    167\u001b[0m \t\t)\n\u001b[1;32m--> 169\u001b[0m img2_representation \u001b[39m=\u001b[39m represent(img_path \u001b[39m=\u001b[39;49m img2_path\n\u001b[0;32m    170\u001b[0m \t\t, model_name \u001b[39m=\u001b[39;49m model_name, model \u001b[39m=\u001b[39;49m custom_model\n\u001b[0;32m    171\u001b[0m \t\t, enforce_detection \u001b[39m=\u001b[39;49m enforce_detection, detector_backend \u001b[39m=\u001b[39;49m detector_backend\n\u001b[0;32m    172\u001b[0m \t\t, align \u001b[39m=\u001b[39;49m align\n\u001b[0;32m    173\u001b[0m \t\t, normalization \u001b[39m=\u001b[39;49m normalization\n\u001b[0;32m    174\u001b[0m \t\t)\n\u001b[0;32m    176\u001b[0m \u001b[39m#----------------------\u001b[39;00m\n\u001b[0;32m    177\u001b[0m \u001b[39m#find distances between embeddings\u001b[39;00m\n\u001b[0;32m    179\u001b[0m \u001b[39mfor\u001b[39;00m j \u001b[39min\u001b[39;00m metrics:\n",
      "File \u001b[1;32mc:\\Users\\mohda\\Downloads\\deepface\\deepface\\DeepFace.py:754\u001b[0m, in \u001b[0;36mrepresent\u001b[1;34m(img_path, model_name, model, enforce_detection, detector_backend, align, normalization)\u001b[0m\n\u001b[0;32m    751\u001b[0m input_shape_x, input_shape_y \u001b[39m=\u001b[39m functions\u001b[39m.\u001b[39mfind_input_shape(model)\n\u001b[0;32m    753\u001b[0m \u001b[39m#detect and align\u001b[39;00m\n\u001b[1;32m--> 754\u001b[0m img \u001b[39m=\u001b[39m functions\u001b[39m.\u001b[39;49mpreprocess_face(img \u001b[39m=\u001b[39;49m img_path\n\u001b[0;32m    755\u001b[0m \t, target_size\u001b[39m=\u001b[39;49m(input_shape_y, input_shape_x)\n\u001b[0;32m    756\u001b[0m \t, enforce_detection \u001b[39m=\u001b[39;49m enforce_detection\n\u001b[0;32m    757\u001b[0m \t, detector_backend \u001b[39m=\u001b[39;49m detector_backend\n\u001b[0;32m    758\u001b[0m \t, align \u001b[39m=\u001b[39;49m align)\n\u001b[0;32m    760\u001b[0m \u001b[39m#---------------------------------\u001b[39;00m\n\u001b[0;32m    761\u001b[0m \u001b[39m#custom normalization\u001b[39;00m\n\u001b[0;32m    763\u001b[0m img \u001b[39m=\u001b[39m functions\u001b[39m.\u001b[39mnormalize_input(img \u001b[39m=\u001b[39m img, normalization \u001b[39m=\u001b[39m normalization)\n",
      "File \u001b[1;32mc:\\Users\\mohda\\Downloads\\deepface\\deepface\\commons\\functions.py:178\u001b[0m, in \u001b[0;36mpreprocess_face\u001b[1;34m(img, target_size, grayscale, enforce_detection, detector_backend, return_region, align)\u001b[0m\n\u001b[0;32m    175\u001b[0m img \u001b[39m=\u001b[39m load_image(img)\n\u001b[0;32m    176\u001b[0m base_img \u001b[39m=\u001b[39m img\u001b[39m.\u001b[39mcopy()\n\u001b[1;32m--> 178\u001b[0m img, region \u001b[39m=\u001b[39m detect_face(img \u001b[39m=\u001b[39;49m img, detector_backend \u001b[39m=\u001b[39;49m detector_backend, grayscale \u001b[39m=\u001b[39;49m grayscale, enforce_detection \u001b[39m=\u001b[39;49m enforce_detection, align \u001b[39m=\u001b[39;49m align)\n\u001b[0;32m    180\u001b[0m \u001b[39m#--------------------------\u001b[39;00m\n\u001b[0;32m    182\u001b[0m \u001b[39mif\u001b[39;00m img\u001b[39m.\u001b[39mshape[\u001b[39m0\u001b[39m] \u001b[39m==\u001b[39m \u001b[39m0\u001b[39m \u001b[39mor\u001b[39;00m img\u001b[39m.\u001b[39mshape[\u001b[39m1\u001b[39m] \u001b[39m==\u001b[39m \u001b[39m0\u001b[39m:\n",
      "File \u001b[1;32mc:\\Users\\mohda\\Downloads\\deepface\\deepface\\commons\\functions.py:124\u001b[0m, in \u001b[0;36mdetect_face\u001b[1;34m(img, detector_backend, grayscale, enforce_detection, align)\u001b[0m\n\u001b[0;32m    122\u001b[0m \t\u001b[39mreturn\u001b[39;00m img, img_region\n\u001b[0;32m    123\u001b[0m \u001b[39melse\u001b[39;00m:\n\u001b[1;32m--> 124\u001b[0m \t\u001b[39mraise\u001b[39;00m \u001b[39mValueError\u001b[39;00m(\u001b[39m\"\u001b[39m\u001b[39mFace could not be detected. Please confirm that the picture is a face photo or consider to set enforce_detection param to False.\u001b[39m\u001b[39m\"\u001b[39m)\n",
      "\u001b[1;31mValueError\u001b[0m: Face could not be detected. Please confirm that the picture is a face photo or consider to set enforce_detection param to False."
     ]
    }
   ],
   "source": [
    "result = DeepFace.verify(img1_path = \"100061914_Mohamad Alansari_Masters.jpeg\", img2_path = \"Mood/Snapchat-1294384712.jpg\")"
   ]
  },
  {
   "cell_type": "code",
   "execution_count": 60,
   "metadata": {},
   "outputs": [
    {
     "name": "stdout",
     "output_type": "stream",
     "text": [
      "1/1 [==============================] - 0s 50ms/step\n",
      "1/1 [==============================] - 0s 48ms/step\n"
     ]
    }
   ],
   "source": [
    "#face verification\n",
    "obj = DeepFace.verify(img1_path = \"100061914_Mohamad Alansari_Masters.jpeg\", img2_path = \"Mood/Snapchat-1554979277.jpg\", detector_backend = backends[0], model_name = models[4], distance_metric = metrics[1])\n"
   ]
  },
  {
   "cell_type": "code",
   "execution_count": 5,
   "metadata": {},
   "outputs": [
    {
     "name": "stdout",
     "output_type": "stream",
     "text": [
      "1/1 [==============================] - 0s 166ms/step\n",
      "1/1 [==============================] - 0s 147ms/step\n"
     ]
    }
   ],
   "source": [
    "result = DeepFace.verify(img1_path = \"100061914_Mohamad Alansari_Masters.jpeg\", img2_path = \"Mood/Snapchat-1294384712.jpg\", enforce_detection = False)\n"
   ]
  },
  {
   "cell_type": "code",
   "execution_count": 6,
   "metadata": {},
   "outputs": [
    {
     "data": {
      "text/plain": [
       "{'verified': False,\n",
       " 'distance': 0.5780661669271436,\n",
       " 'threshold': 0.4,\n",
       " 'model': 'VGG-Face',\n",
       " 'detector_backend': 'opencv',\n",
       " 'similarity_metric': 'cosine'}"
      ]
     },
     "execution_count": 6,
     "metadata": {},
     "output_type": "execute_result"
    }
   ],
   "source": [
    "result"
   ]
  },
  {
   "cell_type": "markdown",
   "metadata": {},
   "source": [
    "TEST1"
   ]
  },
  {
   "cell_type": "code",
   "execution_count": 96,
   "metadata": {},
   "outputs": [],
   "source": [
    "import pandas as pd\n",
    "import itertools\n",
    "from sklearn.metrics import confusion_matrix\n",
    "from tqdm import tqdm\n",
    "tqdm.pandas()"
   ]
  },
  {
   "cell_type": "code",
   "execution_count": 97,
   "metadata": {},
   "outputs": [],
   "source": [
    "# dataset = [\n",
    "# \t['tests/dataset/img1.jpg', 'tests/dataset/img2.jpg', True],\n",
    "# \t['tests/dataset/img5.jpg', 'tests/dataset/img6.jpg', True],\n",
    "# \t['tests/dataset/img6.jpg', 'tests/dataset/img7.jpg', True],\n",
    "# \t['tests/dataset/img8.jpg', 'tests/dataset/img9.jpg', True],\n",
    "# \t['tests/dataset/img1.jpg', 'tests/dataset/img11.jpg', True],\n",
    "# \t['tests/dataset/img2.jpg', 'tests/dataset/img11.jpg', True],\n",
    "\n",
    "# \t['tests/dataset/img1.jpg', 'tests/dataset/img3.jpg', False],\n",
    "# \t['tests/dataset/img2.jpg', 'tests/dataset/img3.jpg', False],\n",
    "# \t['tests/dataset/img6.jpg', 'tests/dataset/img8.jpg', False],\n",
    "# \t['tests/dataset/img6.jpg', 'tests/dataset/img9.jpg', False],\n",
    "# ]\n",
    "\n",
    "# idendities = {\n",
    "#     \"Angelina\": [\"tests/dataset/img1.jpg\", \"tests/dataset/img2.jpg\", \"tests/dataset/img4.jpg\", \"tests/dataset/img5.jpg\", \"tests/dataset/img6.jpg\", \"tests/dataset/img7.jpg\", \"tests/dataset/img10.jpg\", \"tests/dataset/img11.jpg\"],\n",
    "#     \"Scarlett\": [\"tests/dataset/img8.jpg\", \"tests/dataset/img9.jpg\"],\n",
    "#     \"Jennifer\": [\"tests/dataset/img3.jpg\", \"tests/dataset/img12.jpg\"],\n",
    "#     \"Mark\": [\"tests/dataset/img13.jpg\", \"tests/dataset/img14.jpg\", \"tests/dataset/img15.jpg\"],\n",
    "#     \"Jack\": [\"tests/dataset/img16.jpg\", \"tests/dataset/img17.jpg\"],\n",
    "#     \"Elon\": [\"tests/dataset/img18.jpg\", \"tests/dataset/img19.jpg\"],\n",
    "#     \"Jeff\": [\"tests/dataset/img20.jpg\", \"tests/dataset/img21.jpg\"],\n",
    "#     \"Marissa\": [\"tests/dataset/img22.jpg\", \"tests/dataset/img23.jpg\"],\n",
    "#     \"Sundar\": [\"tests/dataset/img24.jpg\", \"tests/dataset/img25.jpg\"]\n",
    "# }\n",
    "idendities = {\n",
    "    \"Angelina\": [\"img1.jpg\", \"img2.jpg\", \"img4.jpg\", \"img5.jpg\", \"img6.jpg\", \"img7.jpg\", \"img10.jpg\", \"img11.jpg\"],\n",
    "    \"Scarlett\": [\"img8.jpg\", \"img9.jpg\"],\n",
    "    \"Jennifer\": [\"img3.jpg\", \"img12.jpg\"],\n",
    "    \"Mark\": [\"img13.jpg\", \"img14.jpg\", \"img15.jpg\"],\n",
    "    \"Jack\": [\"img16.jpg\", \"img17.jpg\"],\n",
    "    \"Elon\": [\"img18.jpg\", \"img19.jpg\"],\n",
    "    \"Jeff\": [\"img20.jpg\", \"img21.jpg\"],\n",
    "    \"Marissa\": [\"img22.jpg\", \"img23.jpg\"],\n",
    "    \"Sundar\": [\"img24.jpg\", \"img25.jpg\"]\n",
    "}"
   ]
  },
  {
   "cell_type": "code",
   "execution_count": 33,
   "metadata": {},
   "outputs": [],
   "source": [
    "positives = []\n",
    "\n",
    "for key, values in idendities.items():\n",
    "    \n",
    "    #print(key)\n",
    "    for i in range(0, len(values)-1):\n",
    "        for j in range(i+1, len(values)):\n",
    "            #print(values[i], \" and \", values[j])\n",
    "            positive = []\n",
    "            positive.append(values[i])\n",
    "            positive.append(values[j])\n",
    "            positives.append(positive)"
   ]
  },
  {
   "cell_type": "code",
   "execution_count": 34,
   "metadata": {},
   "outputs": [],
   "source": [
    "positives = pd.DataFrame(positives, columns = [\"file_x\", \"file_y\"])\n",
    "positives[\"decision\"] = \"Yes\""
   ]
  },
  {
   "cell_type": "code",
   "execution_count": 35,
   "metadata": {},
   "outputs": [],
   "source": [
    "samples_list = list(idendities.values())"
   ]
  },
  {
   "cell_type": "code",
   "execution_count": 36,
   "metadata": {},
   "outputs": [],
   "source": [
    "negatives = []\n",
    "\n",
    "for i in range(0, len(idendities) - 1):\n",
    "    for j in range(i+1, len(idendities)):\n",
    "        #print(samples_list[i], \" vs \",samples_list[j]) \n",
    "        cross_product = itertools.product(samples_list[i], samples_list[j])\n",
    "        cross_product = list(cross_product)\n",
    "        #print(cross_product)\n",
    "        \n",
    "        for cross_sample in cross_product:\n",
    "            #print(cross_sample[0], \" vs \", cross_sample[1])\n",
    "            negative = []\n",
    "            negative.append(cross_sample[0])\n",
    "            negative.append(cross_sample[1])\n",
    "            negatives.append(negative)"
   ]
  },
  {
   "cell_type": "code",
   "execution_count": 37,
   "metadata": {},
   "outputs": [],
   "source": [
    "negatives = pd.DataFrame(negatives, columns = [\"file_x\", \"file_y\"])\n",
    "negatives[\"decision\"] = \"No\""
   ]
  },
  {
   "cell_type": "code",
   "execution_count": 38,
   "metadata": {},
   "outputs": [],
   "source": [
    "df = pd.concat([positives, negatives]).reset_index(drop = True)"
   ]
  },
  {
   "cell_type": "code",
   "execution_count": 39,
   "metadata": {},
   "outputs": [
    {
     "data": {
      "text/plain": [
       "(300, 3)"
      ]
     },
     "execution_count": 39,
     "metadata": {},
     "output_type": "execute_result"
    }
   ],
   "source": [
    "df.shape"
   ]
  },
  {
   "cell_type": "code",
   "execution_count": 40,
   "metadata": {},
   "outputs": [
    {
     "data": {
      "text/plain": [
       "No     262\n",
       "Yes     38\n",
       "Name: decision, dtype: int64"
      ]
     },
     "execution_count": 40,
     "metadata": {},
     "output_type": "execute_result"
    }
   ],
   "source": [
    "df.decision.value_counts()"
   ]
  },
  {
   "cell_type": "code",
   "execution_count": 93,
   "metadata": {},
   "outputs": [],
   "source": [
    "df.file_x = \"tests/dataset/\"+df.file_x\n",
    "df.file_y = \"tests/dataset/\"+df.file_y"
   ]
  },
  {
   "cell_type": "code",
   "execution_count": 42,
   "metadata": {},
   "outputs": [],
   "source": [
    "from deepface import DeepFace"
   ]
  },
  {
   "cell_type": "code",
   "execution_count": 94,
   "metadata": {},
   "outputs": [],
   "source": [
    "instances = df[[\"file_x\", \"file_y\"]].values.tolist()"
   ]
  },
  {
   "cell_type": "code",
   "execution_count": 95,
   "metadata": {},
   "outputs": [
    {
     "data": {
      "text/plain": [
       "[['tests/dataset/tests/dataset/tests/dataset/tests/dataset/img1.jpg',\n",
       "  'tests/dataset/tests/dataset/tests/dataset/tests/dataset/img2.jpg'],\n",
       " ['tests/dataset/tests/dataset/tests/dataset/tests/dataset/img1.jpg',\n",
       "  'tests/dataset/tests/dataset/tests/dataset/tests/dataset/img4.jpg'],\n",
       " ['tests/dataset/tests/dataset/tests/dataset/tests/dataset/img1.jpg',\n",
       "  'tests/dataset/tests/dataset/tests/dataset/tests/dataset/img5.jpg'],\n",
       " ['tests/dataset/tests/dataset/tests/dataset/tests/dataset/img1.jpg',\n",
       "  'tests/dataset/tests/dataset/tests/dataset/tests/dataset/img6.jpg'],\n",
       " ['tests/dataset/tests/dataset/tests/dataset/tests/dataset/img1.jpg',\n",
       "  'tests/dataset/tests/dataset/tests/dataset/tests/dataset/img7.jpg'],\n",
       " ['tests/dataset/tests/dataset/tests/dataset/tests/dataset/img1.jpg',\n",
       "  'tests/dataset/tests/dataset/tests/dataset/tests/dataset/img10.jpg'],\n",
       " ['tests/dataset/tests/dataset/tests/dataset/tests/dataset/img1.jpg',\n",
       "  'tests/dataset/tests/dataset/tests/dataset/tests/dataset/img11.jpg'],\n",
       " ['tests/dataset/tests/dataset/tests/dataset/tests/dataset/img2.jpg',\n",
       "  'tests/dataset/tests/dataset/tests/dataset/tests/dataset/img4.jpg'],\n",
       " ['tests/dataset/tests/dataset/tests/dataset/tests/dataset/img2.jpg',\n",
       "  'tests/dataset/tests/dataset/tests/dataset/tests/dataset/img5.jpg'],\n",
       " ['tests/dataset/tests/dataset/tests/dataset/tests/dataset/img2.jpg',\n",
       "  'tests/dataset/tests/dataset/tests/dataset/tests/dataset/img6.jpg'],\n",
       " ['tests/dataset/tests/dataset/tests/dataset/tests/dataset/img2.jpg',\n",
       "  'tests/dataset/tests/dataset/tests/dataset/tests/dataset/img7.jpg'],\n",
       " ['tests/dataset/tests/dataset/tests/dataset/tests/dataset/img2.jpg',\n",
       "  'tests/dataset/tests/dataset/tests/dataset/tests/dataset/img10.jpg'],\n",
       " ['tests/dataset/tests/dataset/tests/dataset/tests/dataset/img2.jpg',\n",
       "  'tests/dataset/tests/dataset/tests/dataset/tests/dataset/img11.jpg'],\n",
       " ['tests/dataset/tests/dataset/tests/dataset/tests/dataset/img4.jpg',\n",
       "  'tests/dataset/tests/dataset/tests/dataset/tests/dataset/img5.jpg'],\n",
       " ['tests/dataset/tests/dataset/tests/dataset/tests/dataset/img4.jpg',\n",
       "  'tests/dataset/tests/dataset/tests/dataset/tests/dataset/img6.jpg'],\n",
       " ['tests/dataset/tests/dataset/tests/dataset/tests/dataset/img4.jpg',\n",
       "  'tests/dataset/tests/dataset/tests/dataset/tests/dataset/img7.jpg'],\n",
       " ['tests/dataset/tests/dataset/tests/dataset/tests/dataset/img4.jpg',\n",
       "  'tests/dataset/tests/dataset/tests/dataset/tests/dataset/img10.jpg'],\n",
       " ['tests/dataset/tests/dataset/tests/dataset/tests/dataset/img4.jpg',\n",
       "  'tests/dataset/tests/dataset/tests/dataset/tests/dataset/img11.jpg'],\n",
       " ['tests/dataset/tests/dataset/tests/dataset/tests/dataset/img5.jpg',\n",
       "  'tests/dataset/tests/dataset/tests/dataset/tests/dataset/img6.jpg'],\n",
       " ['tests/dataset/tests/dataset/tests/dataset/tests/dataset/img5.jpg',\n",
       "  'tests/dataset/tests/dataset/tests/dataset/tests/dataset/img7.jpg'],\n",
       " ['tests/dataset/tests/dataset/tests/dataset/tests/dataset/img5.jpg',\n",
       "  'tests/dataset/tests/dataset/tests/dataset/tests/dataset/img10.jpg'],\n",
       " ['tests/dataset/tests/dataset/tests/dataset/tests/dataset/img5.jpg',\n",
       "  'tests/dataset/tests/dataset/tests/dataset/tests/dataset/img11.jpg'],\n",
       " ['tests/dataset/tests/dataset/tests/dataset/tests/dataset/img6.jpg',\n",
       "  'tests/dataset/tests/dataset/tests/dataset/tests/dataset/img7.jpg'],\n",
       " ['tests/dataset/tests/dataset/tests/dataset/tests/dataset/img6.jpg',\n",
       "  'tests/dataset/tests/dataset/tests/dataset/tests/dataset/img10.jpg'],\n",
       " ['tests/dataset/tests/dataset/tests/dataset/tests/dataset/img6.jpg',\n",
       "  'tests/dataset/tests/dataset/tests/dataset/tests/dataset/img11.jpg'],\n",
       " ['tests/dataset/tests/dataset/tests/dataset/tests/dataset/img7.jpg',\n",
       "  'tests/dataset/tests/dataset/tests/dataset/tests/dataset/img10.jpg'],\n",
       " ['tests/dataset/tests/dataset/tests/dataset/tests/dataset/img7.jpg',\n",
       "  'tests/dataset/tests/dataset/tests/dataset/tests/dataset/img11.jpg'],\n",
       " ['tests/dataset/tests/dataset/tests/dataset/tests/dataset/img10.jpg',\n",
       "  'tests/dataset/tests/dataset/tests/dataset/tests/dataset/img11.jpg'],\n",
       " ['tests/dataset/tests/dataset/tests/dataset/tests/dataset/img8.jpg',\n",
       "  'tests/dataset/tests/dataset/tests/dataset/tests/dataset/img9.jpg'],\n",
       " ['tests/dataset/tests/dataset/tests/dataset/tests/dataset/img3.jpg',\n",
       "  'tests/dataset/tests/dataset/tests/dataset/tests/dataset/img12.jpg'],\n",
       " ['tests/dataset/tests/dataset/tests/dataset/tests/dataset/img13.jpg',\n",
       "  'tests/dataset/tests/dataset/tests/dataset/tests/dataset/img14.jpg'],\n",
       " ['tests/dataset/tests/dataset/tests/dataset/tests/dataset/img13.jpg',\n",
       "  'tests/dataset/tests/dataset/tests/dataset/tests/dataset/img15.jpg'],\n",
       " ['tests/dataset/tests/dataset/tests/dataset/tests/dataset/img14.jpg',\n",
       "  'tests/dataset/tests/dataset/tests/dataset/tests/dataset/img15.jpg'],\n",
       " ['tests/dataset/tests/dataset/tests/dataset/tests/dataset/img16.jpg',\n",
       "  'tests/dataset/tests/dataset/tests/dataset/tests/dataset/img17.jpg'],\n",
       " ['tests/dataset/tests/dataset/tests/dataset/tests/dataset/img18.jpg',\n",
       "  'tests/dataset/tests/dataset/tests/dataset/tests/dataset/img19.jpg'],\n",
       " ['tests/dataset/tests/dataset/tests/dataset/tests/dataset/img20.jpg',\n",
       "  'tests/dataset/tests/dataset/tests/dataset/tests/dataset/img21.jpg'],\n",
       " ['tests/dataset/tests/dataset/tests/dataset/tests/dataset/img22.jpg',\n",
       "  'tests/dataset/tests/dataset/tests/dataset/tests/dataset/img23.jpg'],\n",
       " ['tests/dataset/tests/dataset/tests/dataset/tests/dataset/img24.jpg',\n",
       "  'tests/dataset/tests/dataset/tests/dataset/tests/dataset/img25.jpg'],\n",
       " ['tests/dataset/tests/dataset/tests/dataset/tests/dataset/img1.jpg',\n",
       "  'tests/dataset/tests/dataset/tests/dataset/tests/dataset/img8.jpg'],\n",
       " ['tests/dataset/tests/dataset/tests/dataset/tests/dataset/img1.jpg',\n",
       "  'tests/dataset/tests/dataset/tests/dataset/tests/dataset/img9.jpg'],\n",
       " ['tests/dataset/tests/dataset/tests/dataset/tests/dataset/img2.jpg',\n",
       "  'tests/dataset/tests/dataset/tests/dataset/tests/dataset/img8.jpg'],\n",
       " ['tests/dataset/tests/dataset/tests/dataset/tests/dataset/img2.jpg',\n",
       "  'tests/dataset/tests/dataset/tests/dataset/tests/dataset/img9.jpg'],\n",
       " ['tests/dataset/tests/dataset/tests/dataset/tests/dataset/img4.jpg',\n",
       "  'tests/dataset/tests/dataset/tests/dataset/tests/dataset/img8.jpg'],\n",
       " ['tests/dataset/tests/dataset/tests/dataset/tests/dataset/img4.jpg',\n",
       "  'tests/dataset/tests/dataset/tests/dataset/tests/dataset/img9.jpg'],\n",
       " ['tests/dataset/tests/dataset/tests/dataset/tests/dataset/img5.jpg',\n",
       "  'tests/dataset/tests/dataset/tests/dataset/tests/dataset/img8.jpg'],\n",
       " ['tests/dataset/tests/dataset/tests/dataset/tests/dataset/img5.jpg',\n",
       "  'tests/dataset/tests/dataset/tests/dataset/tests/dataset/img9.jpg'],\n",
       " ['tests/dataset/tests/dataset/tests/dataset/tests/dataset/img6.jpg',\n",
       "  'tests/dataset/tests/dataset/tests/dataset/tests/dataset/img8.jpg'],\n",
       " ['tests/dataset/tests/dataset/tests/dataset/tests/dataset/img6.jpg',\n",
       "  'tests/dataset/tests/dataset/tests/dataset/tests/dataset/img9.jpg'],\n",
       " ['tests/dataset/tests/dataset/tests/dataset/tests/dataset/img7.jpg',\n",
       "  'tests/dataset/tests/dataset/tests/dataset/tests/dataset/img8.jpg'],\n",
       " ['tests/dataset/tests/dataset/tests/dataset/tests/dataset/img7.jpg',\n",
       "  'tests/dataset/tests/dataset/tests/dataset/tests/dataset/img9.jpg'],\n",
       " ['tests/dataset/tests/dataset/tests/dataset/tests/dataset/img10.jpg',\n",
       "  'tests/dataset/tests/dataset/tests/dataset/tests/dataset/img8.jpg'],\n",
       " ['tests/dataset/tests/dataset/tests/dataset/tests/dataset/img10.jpg',\n",
       "  'tests/dataset/tests/dataset/tests/dataset/tests/dataset/img9.jpg'],\n",
       " ['tests/dataset/tests/dataset/tests/dataset/tests/dataset/img11.jpg',\n",
       "  'tests/dataset/tests/dataset/tests/dataset/tests/dataset/img8.jpg'],\n",
       " ['tests/dataset/tests/dataset/tests/dataset/tests/dataset/img11.jpg',\n",
       "  'tests/dataset/tests/dataset/tests/dataset/tests/dataset/img9.jpg'],\n",
       " ['tests/dataset/tests/dataset/tests/dataset/tests/dataset/img1.jpg',\n",
       "  'tests/dataset/tests/dataset/tests/dataset/tests/dataset/img3.jpg'],\n",
       " ['tests/dataset/tests/dataset/tests/dataset/tests/dataset/img1.jpg',\n",
       "  'tests/dataset/tests/dataset/tests/dataset/tests/dataset/img12.jpg'],\n",
       " ['tests/dataset/tests/dataset/tests/dataset/tests/dataset/img2.jpg',\n",
       "  'tests/dataset/tests/dataset/tests/dataset/tests/dataset/img3.jpg'],\n",
       " ['tests/dataset/tests/dataset/tests/dataset/tests/dataset/img2.jpg',\n",
       "  'tests/dataset/tests/dataset/tests/dataset/tests/dataset/img12.jpg'],\n",
       " ['tests/dataset/tests/dataset/tests/dataset/tests/dataset/img4.jpg',\n",
       "  'tests/dataset/tests/dataset/tests/dataset/tests/dataset/img3.jpg'],\n",
       " ['tests/dataset/tests/dataset/tests/dataset/tests/dataset/img4.jpg',\n",
       "  'tests/dataset/tests/dataset/tests/dataset/tests/dataset/img12.jpg'],\n",
       " ['tests/dataset/tests/dataset/tests/dataset/tests/dataset/img5.jpg',\n",
       "  'tests/dataset/tests/dataset/tests/dataset/tests/dataset/img3.jpg'],\n",
       " ['tests/dataset/tests/dataset/tests/dataset/tests/dataset/img5.jpg',\n",
       "  'tests/dataset/tests/dataset/tests/dataset/tests/dataset/img12.jpg'],\n",
       " ['tests/dataset/tests/dataset/tests/dataset/tests/dataset/img6.jpg',\n",
       "  'tests/dataset/tests/dataset/tests/dataset/tests/dataset/img3.jpg'],\n",
       " ['tests/dataset/tests/dataset/tests/dataset/tests/dataset/img6.jpg',\n",
       "  'tests/dataset/tests/dataset/tests/dataset/tests/dataset/img12.jpg'],\n",
       " ['tests/dataset/tests/dataset/tests/dataset/tests/dataset/img7.jpg',\n",
       "  'tests/dataset/tests/dataset/tests/dataset/tests/dataset/img3.jpg'],\n",
       " ['tests/dataset/tests/dataset/tests/dataset/tests/dataset/img7.jpg',\n",
       "  'tests/dataset/tests/dataset/tests/dataset/tests/dataset/img12.jpg'],\n",
       " ['tests/dataset/tests/dataset/tests/dataset/tests/dataset/img10.jpg',\n",
       "  'tests/dataset/tests/dataset/tests/dataset/tests/dataset/img3.jpg'],\n",
       " ['tests/dataset/tests/dataset/tests/dataset/tests/dataset/img10.jpg',\n",
       "  'tests/dataset/tests/dataset/tests/dataset/tests/dataset/img12.jpg'],\n",
       " ['tests/dataset/tests/dataset/tests/dataset/tests/dataset/img11.jpg',\n",
       "  'tests/dataset/tests/dataset/tests/dataset/tests/dataset/img3.jpg'],\n",
       " ['tests/dataset/tests/dataset/tests/dataset/tests/dataset/img11.jpg',\n",
       "  'tests/dataset/tests/dataset/tests/dataset/tests/dataset/img12.jpg'],\n",
       " ['tests/dataset/tests/dataset/tests/dataset/tests/dataset/img1.jpg',\n",
       "  'tests/dataset/tests/dataset/tests/dataset/tests/dataset/img13.jpg'],\n",
       " ['tests/dataset/tests/dataset/tests/dataset/tests/dataset/img1.jpg',\n",
       "  'tests/dataset/tests/dataset/tests/dataset/tests/dataset/img14.jpg'],\n",
       " ['tests/dataset/tests/dataset/tests/dataset/tests/dataset/img1.jpg',\n",
       "  'tests/dataset/tests/dataset/tests/dataset/tests/dataset/img15.jpg'],\n",
       " ['tests/dataset/tests/dataset/tests/dataset/tests/dataset/img2.jpg',\n",
       "  'tests/dataset/tests/dataset/tests/dataset/tests/dataset/img13.jpg'],\n",
       " ['tests/dataset/tests/dataset/tests/dataset/tests/dataset/img2.jpg',\n",
       "  'tests/dataset/tests/dataset/tests/dataset/tests/dataset/img14.jpg'],\n",
       " ['tests/dataset/tests/dataset/tests/dataset/tests/dataset/img2.jpg',\n",
       "  'tests/dataset/tests/dataset/tests/dataset/tests/dataset/img15.jpg'],\n",
       " ['tests/dataset/tests/dataset/tests/dataset/tests/dataset/img4.jpg',\n",
       "  'tests/dataset/tests/dataset/tests/dataset/tests/dataset/img13.jpg'],\n",
       " ['tests/dataset/tests/dataset/tests/dataset/tests/dataset/img4.jpg',\n",
       "  'tests/dataset/tests/dataset/tests/dataset/tests/dataset/img14.jpg'],\n",
       " ['tests/dataset/tests/dataset/tests/dataset/tests/dataset/img4.jpg',\n",
       "  'tests/dataset/tests/dataset/tests/dataset/tests/dataset/img15.jpg'],\n",
       " ['tests/dataset/tests/dataset/tests/dataset/tests/dataset/img5.jpg',\n",
       "  'tests/dataset/tests/dataset/tests/dataset/tests/dataset/img13.jpg'],\n",
       " ['tests/dataset/tests/dataset/tests/dataset/tests/dataset/img5.jpg',\n",
       "  'tests/dataset/tests/dataset/tests/dataset/tests/dataset/img14.jpg'],\n",
       " ['tests/dataset/tests/dataset/tests/dataset/tests/dataset/img5.jpg',\n",
       "  'tests/dataset/tests/dataset/tests/dataset/tests/dataset/img15.jpg'],\n",
       " ['tests/dataset/tests/dataset/tests/dataset/tests/dataset/img6.jpg',\n",
       "  'tests/dataset/tests/dataset/tests/dataset/tests/dataset/img13.jpg'],\n",
       " ['tests/dataset/tests/dataset/tests/dataset/tests/dataset/img6.jpg',\n",
       "  'tests/dataset/tests/dataset/tests/dataset/tests/dataset/img14.jpg'],\n",
       " ['tests/dataset/tests/dataset/tests/dataset/tests/dataset/img6.jpg',\n",
       "  'tests/dataset/tests/dataset/tests/dataset/tests/dataset/img15.jpg'],\n",
       " ['tests/dataset/tests/dataset/tests/dataset/tests/dataset/img7.jpg',\n",
       "  'tests/dataset/tests/dataset/tests/dataset/tests/dataset/img13.jpg'],\n",
       " ['tests/dataset/tests/dataset/tests/dataset/tests/dataset/img7.jpg',\n",
       "  'tests/dataset/tests/dataset/tests/dataset/tests/dataset/img14.jpg'],\n",
       " ['tests/dataset/tests/dataset/tests/dataset/tests/dataset/img7.jpg',\n",
       "  'tests/dataset/tests/dataset/tests/dataset/tests/dataset/img15.jpg'],\n",
       " ['tests/dataset/tests/dataset/tests/dataset/tests/dataset/img10.jpg',\n",
       "  'tests/dataset/tests/dataset/tests/dataset/tests/dataset/img13.jpg'],\n",
       " ['tests/dataset/tests/dataset/tests/dataset/tests/dataset/img10.jpg',\n",
       "  'tests/dataset/tests/dataset/tests/dataset/tests/dataset/img14.jpg'],\n",
       " ['tests/dataset/tests/dataset/tests/dataset/tests/dataset/img10.jpg',\n",
       "  'tests/dataset/tests/dataset/tests/dataset/tests/dataset/img15.jpg'],\n",
       " ['tests/dataset/tests/dataset/tests/dataset/tests/dataset/img11.jpg',\n",
       "  'tests/dataset/tests/dataset/tests/dataset/tests/dataset/img13.jpg'],\n",
       " ['tests/dataset/tests/dataset/tests/dataset/tests/dataset/img11.jpg',\n",
       "  'tests/dataset/tests/dataset/tests/dataset/tests/dataset/img14.jpg'],\n",
       " ['tests/dataset/tests/dataset/tests/dataset/tests/dataset/img11.jpg',\n",
       "  'tests/dataset/tests/dataset/tests/dataset/tests/dataset/img15.jpg'],\n",
       " ['tests/dataset/tests/dataset/tests/dataset/tests/dataset/img1.jpg',\n",
       "  'tests/dataset/tests/dataset/tests/dataset/tests/dataset/img16.jpg'],\n",
       " ['tests/dataset/tests/dataset/tests/dataset/tests/dataset/img1.jpg',\n",
       "  'tests/dataset/tests/dataset/tests/dataset/tests/dataset/img17.jpg'],\n",
       " ['tests/dataset/tests/dataset/tests/dataset/tests/dataset/img2.jpg',\n",
       "  'tests/dataset/tests/dataset/tests/dataset/tests/dataset/img16.jpg'],\n",
       " ['tests/dataset/tests/dataset/tests/dataset/tests/dataset/img2.jpg',\n",
       "  'tests/dataset/tests/dataset/tests/dataset/tests/dataset/img17.jpg'],\n",
       " ['tests/dataset/tests/dataset/tests/dataset/tests/dataset/img4.jpg',\n",
       "  'tests/dataset/tests/dataset/tests/dataset/tests/dataset/img16.jpg'],\n",
       " ['tests/dataset/tests/dataset/tests/dataset/tests/dataset/img4.jpg',\n",
       "  'tests/dataset/tests/dataset/tests/dataset/tests/dataset/img17.jpg'],\n",
       " ['tests/dataset/tests/dataset/tests/dataset/tests/dataset/img5.jpg',\n",
       "  'tests/dataset/tests/dataset/tests/dataset/tests/dataset/img16.jpg'],\n",
       " ['tests/dataset/tests/dataset/tests/dataset/tests/dataset/img5.jpg',\n",
       "  'tests/dataset/tests/dataset/tests/dataset/tests/dataset/img17.jpg'],\n",
       " ['tests/dataset/tests/dataset/tests/dataset/tests/dataset/img6.jpg',\n",
       "  'tests/dataset/tests/dataset/tests/dataset/tests/dataset/img16.jpg'],\n",
       " ['tests/dataset/tests/dataset/tests/dataset/tests/dataset/img6.jpg',\n",
       "  'tests/dataset/tests/dataset/tests/dataset/tests/dataset/img17.jpg'],\n",
       " ['tests/dataset/tests/dataset/tests/dataset/tests/dataset/img7.jpg',\n",
       "  'tests/dataset/tests/dataset/tests/dataset/tests/dataset/img16.jpg'],\n",
       " ['tests/dataset/tests/dataset/tests/dataset/tests/dataset/img7.jpg',\n",
       "  'tests/dataset/tests/dataset/tests/dataset/tests/dataset/img17.jpg'],\n",
       " ['tests/dataset/tests/dataset/tests/dataset/tests/dataset/img10.jpg',\n",
       "  'tests/dataset/tests/dataset/tests/dataset/tests/dataset/img16.jpg'],\n",
       " ['tests/dataset/tests/dataset/tests/dataset/tests/dataset/img10.jpg',\n",
       "  'tests/dataset/tests/dataset/tests/dataset/tests/dataset/img17.jpg'],\n",
       " ['tests/dataset/tests/dataset/tests/dataset/tests/dataset/img11.jpg',\n",
       "  'tests/dataset/tests/dataset/tests/dataset/tests/dataset/img16.jpg'],\n",
       " ['tests/dataset/tests/dataset/tests/dataset/tests/dataset/img11.jpg',\n",
       "  'tests/dataset/tests/dataset/tests/dataset/tests/dataset/img17.jpg'],\n",
       " ['tests/dataset/tests/dataset/tests/dataset/tests/dataset/img1.jpg',\n",
       "  'tests/dataset/tests/dataset/tests/dataset/tests/dataset/img18.jpg'],\n",
       " ['tests/dataset/tests/dataset/tests/dataset/tests/dataset/img1.jpg',\n",
       "  'tests/dataset/tests/dataset/tests/dataset/tests/dataset/img19.jpg'],\n",
       " ['tests/dataset/tests/dataset/tests/dataset/tests/dataset/img2.jpg',\n",
       "  'tests/dataset/tests/dataset/tests/dataset/tests/dataset/img18.jpg'],\n",
       " ['tests/dataset/tests/dataset/tests/dataset/tests/dataset/img2.jpg',\n",
       "  'tests/dataset/tests/dataset/tests/dataset/tests/dataset/img19.jpg'],\n",
       " ['tests/dataset/tests/dataset/tests/dataset/tests/dataset/img4.jpg',\n",
       "  'tests/dataset/tests/dataset/tests/dataset/tests/dataset/img18.jpg'],\n",
       " ['tests/dataset/tests/dataset/tests/dataset/tests/dataset/img4.jpg',\n",
       "  'tests/dataset/tests/dataset/tests/dataset/tests/dataset/img19.jpg'],\n",
       " ['tests/dataset/tests/dataset/tests/dataset/tests/dataset/img5.jpg',\n",
       "  'tests/dataset/tests/dataset/tests/dataset/tests/dataset/img18.jpg'],\n",
       " ['tests/dataset/tests/dataset/tests/dataset/tests/dataset/img5.jpg',\n",
       "  'tests/dataset/tests/dataset/tests/dataset/tests/dataset/img19.jpg'],\n",
       " ['tests/dataset/tests/dataset/tests/dataset/tests/dataset/img6.jpg',\n",
       "  'tests/dataset/tests/dataset/tests/dataset/tests/dataset/img18.jpg'],\n",
       " ['tests/dataset/tests/dataset/tests/dataset/tests/dataset/img6.jpg',\n",
       "  'tests/dataset/tests/dataset/tests/dataset/tests/dataset/img19.jpg'],\n",
       " ['tests/dataset/tests/dataset/tests/dataset/tests/dataset/img7.jpg',\n",
       "  'tests/dataset/tests/dataset/tests/dataset/tests/dataset/img18.jpg'],\n",
       " ['tests/dataset/tests/dataset/tests/dataset/tests/dataset/img7.jpg',\n",
       "  'tests/dataset/tests/dataset/tests/dataset/tests/dataset/img19.jpg'],\n",
       " ['tests/dataset/tests/dataset/tests/dataset/tests/dataset/img10.jpg',\n",
       "  'tests/dataset/tests/dataset/tests/dataset/tests/dataset/img18.jpg'],\n",
       " ['tests/dataset/tests/dataset/tests/dataset/tests/dataset/img10.jpg',\n",
       "  'tests/dataset/tests/dataset/tests/dataset/tests/dataset/img19.jpg'],\n",
       " ['tests/dataset/tests/dataset/tests/dataset/tests/dataset/img11.jpg',\n",
       "  'tests/dataset/tests/dataset/tests/dataset/tests/dataset/img18.jpg'],\n",
       " ['tests/dataset/tests/dataset/tests/dataset/tests/dataset/img11.jpg',\n",
       "  'tests/dataset/tests/dataset/tests/dataset/tests/dataset/img19.jpg'],\n",
       " ['tests/dataset/tests/dataset/tests/dataset/tests/dataset/img1.jpg',\n",
       "  'tests/dataset/tests/dataset/tests/dataset/tests/dataset/img20.jpg'],\n",
       " ['tests/dataset/tests/dataset/tests/dataset/tests/dataset/img1.jpg',\n",
       "  'tests/dataset/tests/dataset/tests/dataset/tests/dataset/img21.jpg'],\n",
       " ['tests/dataset/tests/dataset/tests/dataset/tests/dataset/img2.jpg',\n",
       "  'tests/dataset/tests/dataset/tests/dataset/tests/dataset/img20.jpg'],\n",
       " ['tests/dataset/tests/dataset/tests/dataset/tests/dataset/img2.jpg',\n",
       "  'tests/dataset/tests/dataset/tests/dataset/tests/dataset/img21.jpg'],\n",
       " ['tests/dataset/tests/dataset/tests/dataset/tests/dataset/img4.jpg',\n",
       "  'tests/dataset/tests/dataset/tests/dataset/tests/dataset/img20.jpg'],\n",
       " ['tests/dataset/tests/dataset/tests/dataset/tests/dataset/img4.jpg',\n",
       "  'tests/dataset/tests/dataset/tests/dataset/tests/dataset/img21.jpg'],\n",
       " ['tests/dataset/tests/dataset/tests/dataset/tests/dataset/img5.jpg',\n",
       "  'tests/dataset/tests/dataset/tests/dataset/tests/dataset/img20.jpg'],\n",
       " ['tests/dataset/tests/dataset/tests/dataset/tests/dataset/img5.jpg',\n",
       "  'tests/dataset/tests/dataset/tests/dataset/tests/dataset/img21.jpg'],\n",
       " ['tests/dataset/tests/dataset/tests/dataset/tests/dataset/img6.jpg',\n",
       "  'tests/dataset/tests/dataset/tests/dataset/tests/dataset/img20.jpg'],\n",
       " ['tests/dataset/tests/dataset/tests/dataset/tests/dataset/img6.jpg',\n",
       "  'tests/dataset/tests/dataset/tests/dataset/tests/dataset/img21.jpg'],\n",
       " ['tests/dataset/tests/dataset/tests/dataset/tests/dataset/img7.jpg',\n",
       "  'tests/dataset/tests/dataset/tests/dataset/tests/dataset/img20.jpg'],\n",
       " ['tests/dataset/tests/dataset/tests/dataset/tests/dataset/img7.jpg',\n",
       "  'tests/dataset/tests/dataset/tests/dataset/tests/dataset/img21.jpg'],\n",
       " ['tests/dataset/tests/dataset/tests/dataset/tests/dataset/img10.jpg',\n",
       "  'tests/dataset/tests/dataset/tests/dataset/tests/dataset/img20.jpg'],\n",
       " ['tests/dataset/tests/dataset/tests/dataset/tests/dataset/img10.jpg',\n",
       "  'tests/dataset/tests/dataset/tests/dataset/tests/dataset/img21.jpg'],\n",
       " ['tests/dataset/tests/dataset/tests/dataset/tests/dataset/img11.jpg',\n",
       "  'tests/dataset/tests/dataset/tests/dataset/tests/dataset/img20.jpg'],\n",
       " ['tests/dataset/tests/dataset/tests/dataset/tests/dataset/img11.jpg',\n",
       "  'tests/dataset/tests/dataset/tests/dataset/tests/dataset/img21.jpg'],\n",
       " ['tests/dataset/tests/dataset/tests/dataset/tests/dataset/img1.jpg',\n",
       "  'tests/dataset/tests/dataset/tests/dataset/tests/dataset/img22.jpg'],\n",
       " ['tests/dataset/tests/dataset/tests/dataset/tests/dataset/img1.jpg',\n",
       "  'tests/dataset/tests/dataset/tests/dataset/tests/dataset/img23.jpg'],\n",
       " ['tests/dataset/tests/dataset/tests/dataset/tests/dataset/img2.jpg',\n",
       "  'tests/dataset/tests/dataset/tests/dataset/tests/dataset/img22.jpg'],\n",
       " ['tests/dataset/tests/dataset/tests/dataset/tests/dataset/img2.jpg',\n",
       "  'tests/dataset/tests/dataset/tests/dataset/tests/dataset/img23.jpg'],\n",
       " ['tests/dataset/tests/dataset/tests/dataset/tests/dataset/img4.jpg',\n",
       "  'tests/dataset/tests/dataset/tests/dataset/tests/dataset/img22.jpg'],\n",
       " ['tests/dataset/tests/dataset/tests/dataset/tests/dataset/img4.jpg',\n",
       "  'tests/dataset/tests/dataset/tests/dataset/tests/dataset/img23.jpg'],\n",
       " ['tests/dataset/tests/dataset/tests/dataset/tests/dataset/img5.jpg',\n",
       "  'tests/dataset/tests/dataset/tests/dataset/tests/dataset/img22.jpg'],\n",
       " ['tests/dataset/tests/dataset/tests/dataset/tests/dataset/img5.jpg',\n",
       "  'tests/dataset/tests/dataset/tests/dataset/tests/dataset/img23.jpg'],\n",
       " ['tests/dataset/tests/dataset/tests/dataset/tests/dataset/img6.jpg',\n",
       "  'tests/dataset/tests/dataset/tests/dataset/tests/dataset/img22.jpg'],\n",
       " ['tests/dataset/tests/dataset/tests/dataset/tests/dataset/img6.jpg',\n",
       "  'tests/dataset/tests/dataset/tests/dataset/tests/dataset/img23.jpg'],\n",
       " ['tests/dataset/tests/dataset/tests/dataset/tests/dataset/img7.jpg',\n",
       "  'tests/dataset/tests/dataset/tests/dataset/tests/dataset/img22.jpg'],\n",
       " ['tests/dataset/tests/dataset/tests/dataset/tests/dataset/img7.jpg',\n",
       "  'tests/dataset/tests/dataset/tests/dataset/tests/dataset/img23.jpg'],\n",
       " ['tests/dataset/tests/dataset/tests/dataset/tests/dataset/img10.jpg',\n",
       "  'tests/dataset/tests/dataset/tests/dataset/tests/dataset/img22.jpg'],\n",
       " ['tests/dataset/tests/dataset/tests/dataset/tests/dataset/img10.jpg',\n",
       "  'tests/dataset/tests/dataset/tests/dataset/tests/dataset/img23.jpg'],\n",
       " ['tests/dataset/tests/dataset/tests/dataset/tests/dataset/img11.jpg',\n",
       "  'tests/dataset/tests/dataset/tests/dataset/tests/dataset/img22.jpg'],\n",
       " ['tests/dataset/tests/dataset/tests/dataset/tests/dataset/img11.jpg',\n",
       "  'tests/dataset/tests/dataset/tests/dataset/tests/dataset/img23.jpg'],\n",
       " ['tests/dataset/tests/dataset/tests/dataset/tests/dataset/img1.jpg',\n",
       "  'tests/dataset/tests/dataset/tests/dataset/tests/dataset/img24.jpg'],\n",
       " ['tests/dataset/tests/dataset/tests/dataset/tests/dataset/img1.jpg',\n",
       "  'tests/dataset/tests/dataset/tests/dataset/tests/dataset/img25.jpg'],\n",
       " ['tests/dataset/tests/dataset/tests/dataset/tests/dataset/img2.jpg',\n",
       "  'tests/dataset/tests/dataset/tests/dataset/tests/dataset/img24.jpg'],\n",
       " ['tests/dataset/tests/dataset/tests/dataset/tests/dataset/img2.jpg',\n",
       "  'tests/dataset/tests/dataset/tests/dataset/tests/dataset/img25.jpg'],\n",
       " ['tests/dataset/tests/dataset/tests/dataset/tests/dataset/img4.jpg',\n",
       "  'tests/dataset/tests/dataset/tests/dataset/tests/dataset/img24.jpg'],\n",
       " ['tests/dataset/tests/dataset/tests/dataset/tests/dataset/img4.jpg',\n",
       "  'tests/dataset/tests/dataset/tests/dataset/tests/dataset/img25.jpg'],\n",
       " ['tests/dataset/tests/dataset/tests/dataset/tests/dataset/img5.jpg',\n",
       "  'tests/dataset/tests/dataset/tests/dataset/tests/dataset/img24.jpg'],\n",
       " ['tests/dataset/tests/dataset/tests/dataset/tests/dataset/img5.jpg',\n",
       "  'tests/dataset/tests/dataset/tests/dataset/tests/dataset/img25.jpg'],\n",
       " ['tests/dataset/tests/dataset/tests/dataset/tests/dataset/img6.jpg',\n",
       "  'tests/dataset/tests/dataset/tests/dataset/tests/dataset/img24.jpg'],\n",
       " ['tests/dataset/tests/dataset/tests/dataset/tests/dataset/img6.jpg',\n",
       "  'tests/dataset/tests/dataset/tests/dataset/tests/dataset/img25.jpg'],\n",
       " ['tests/dataset/tests/dataset/tests/dataset/tests/dataset/img7.jpg',\n",
       "  'tests/dataset/tests/dataset/tests/dataset/tests/dataset/img24.jpg'],\n",
       " ['tests/dataset/tests/dataset/tests/dataset/tests/dataset/img7.jpg',\n",
       "  'tests/dataset/tests/dataset/tests/dataset/tests/dataset/img25.jpg'],\n",
       " ['tests/dataset/tests/dataset/tests/dataset/tests/dataset/img10.jpg',\n",
       "  'tests/dataset/tests/dataset/tests/dataset/tests/dataset/img24.jpg'],\n",
       " ['tests/dataset/tests/dataset/tests/dataset/tests/dataset/img10.jpg',\n",
       "  'tests/dataset/tests/dataset/tests/dataset/tests/dataset/img25.jpg'],\n",
       " ['tests/dataset/tests/dataset/tests/dataset/tests/dataset/img11.jpg',\n",
       "  'tests/dataset/tests/dataset/tests/dataset/tests/dataset/img24.jpg'],\n",
       " ['tests/dataset/tests/dataset/tests/dataset/tests/dataset/img11.jpg',\n",
       "  'tests/dataset/tests/dataset/tests/dataset/tests/dataset/img25.jpg'],\n",
       " ['tests/dataset/tests/dataset/tests/dataset/tests/dataset/img8.jpg',\n",
       "  'tests/dataset/tests/dataset/tests/dataset/tests/dataset/img3.jpg'],\n",
       " ['tests/dataset/tests/dataset/tests/dataset/tests/dataset/img8.jpg',\n",
       "  'tests/dataset/tests/dataset/tests/dataset/tests/dataset/img12.jpg'],\n",
       " ['tests/dataset/tests/dataset/tests/dataset/tests/dataset/img9.jpg',\n",
       "  'tests/dataset/tests/dataset/tests/dataset/tests/dataset/img3.jpg'],\n",
       " ['tests/dataset/tests/dataset/tests/dataset/tests/dataset/img9.jpg',\n",
       "  'tests/dataset/tests/dataset/tests/dataset/tests/dataset/img12.jpg'],\n",
       " ['tests/dataset/tests/dataset/tests/dataset/tests/dataset/img8.jpg',\n",
       "  'tests/dataset/tests/dataset/tests/dataset/tests/dataset/img13.jpg'],\n",
       " ['tests/dataset/tests/dataset/tests/dataset/tests/dataset/img8.jpg',\n",
       "  'tests/dataset/tests/dataset/tests/dataset/tests/dataset/img14.jpg'],\n",
       " ['tests/dataset/tests/dataset/tests/dataset/tests/dataset/img8.jpg',\n",
       "  'tests/dataset/tests/dataset/tests/dataset/tests/dataset/img15.jpg'],\n",
       " ['tests/dataset/tests/dataset/tests/dataset/tests/dataset/img9.jpg',\n",
       "  'tests/dataset/tests/dataset/tests/dataset/tests/dataset/img13.jpg'],\n",
       " ['tests/dataset/tests/dataset/tests/dataset/tests/dataset/img9.jpg',\n",
       "  'tests/dataset/tests/dataset/tests/dataset/tests/dataset/img14.jpg'],\n",
       " ['tests/dataset/tests/dataset/tests/dataset/tests/dataset/img9.jpg',\n",
       "  'tests/dataset/tests/dataset/tests/dataset/tests/dataset/img15.jpg'],\n",
       " ['tests/dataset/tests/dataset/tests/dataset/tests/dataset/img8.jpg',\n",
       "  'tests/dataset/tests/dataset/tests/dataset/tests/dataset/img16.jpg'],\n",
       " ['tests/dataset/tests/dataset/tests/dataset/tests/dataset/img8.jpg',\n",
       "  'tests/dataset/tests/dataset/tests/dataset/tests/dataset/img17.jpg'],\n",
       " ['tests/dataset/tests/dataset/tests/dataset/tests/dataset/img9.jpg',\n",
       "  'tests/dataset/tests/dataset/tests/dataset/tests/dataset/img16.jpg'],\n",
       " ['tests/dataset/tests/dataset/tests/dataset/tests/dataset/img9.jpg',\n",
       "  'tests/dataset/tests/dataset/tests/dataset/tests/dataset/img17.jpg'],\n",
       " ['tests/dataset/tests/dataset/tests/dataset/tests/dataset/img8.jpg',\n",
       "  'tests/dataset/tests/dataset/tests/dataset/tests/dataset/img18.jpg'],\n",
       " ['tests/dataset/tests/dataset/tests/dataset/tests/dataset/img8.jpg',\n",
       "  'tests/dataset/tests/dataset/tests/dataset/tests/dataset/img19.jpg'],\n",
       " ['tests/dataset/tests/dataset/tests/dataset/tests/dataset/img9.jpg',\n",
       "  'tests/dataset/tests/dataset/tests/dataset/tests/dataset/img18.jpg'],\n",
       " ['tests/dataset/tests/dataset/tests/dataset/tests/dataset/img9.jpg',\n",
       "  'tests/dataset/tests/dataset/tests/dataset/tests/dataset/img19.jpg'],\n",
       " ['tests/dataset/tests/dataset/tests/dataset/tests/dataset/img8.jpg',\n",
       "  'tests/dataset/tests/dataset/tests/dataset/tests/dataset/img20.jpg'],\n",
       " ['tests/dataset/tests/dataset/tests/dataset/tests/dataset/img8.jpg',\n",
       "  'tests/dataset/tests/dataset/tests/dataset/tests/dataset/img21.jpg'],\n",
       " ['tests/dataset/tests/dataset/tests/dataset/tests/dataset/img9.jpg',\n",
       "  'tests/dataset/tests/dataset/tests/dataset/tests/dataset/img20.jpg'],\n",
       " ['tests/dataset/tests/dataset/tests/dataset/tests/dataset/img9.jpg',\n",
       "  'tests/dataset/tests/dataset/tests/dataset/tests/dataset/img21.jpg'],\n",
       " ['tests/dataset/tests/dataset/tests/dataset/tests/dataset/img8.jpg',\n",
       "  'tests/dataset/tests/dataset/tests/dataset/tests/dataset/img22.jpg'],\n",
       " ['tests/dataset/tests/dataset/tests/dataset/tests/dataset/img8.jpg',\n",
       "  'tests/dataset/tests/dataset/tests/dataset/tests/dataset/img23.jpg'],\n",
       " ['tests/dataset/tests/dataset/tests/dataset/tests/dataset/img9.jpg',\n",
       "  'tests/dataset/tests/dataset/tests/dataset/tests/dataset/img22.jpg'],\n",
       " ['tests/dataset/tests/dataset/tests/dataset/tests/dataset/img9.jpg',\n",
       "  'tests/dataset/tests/dataset/tests/dataset/tests/dataset/img23.jpg'],\n",
       " ['tests/dataset/tests/dataset/tests/dataset/tests/dataset/img8.jpg',\n",
       "  'tests/dataset/tests/dataset/tests/dataset/tests/dataset/img24.jpg'],\n",
       " ['tests/dataset/tests/dataset/tests/dataset/tests/dataset/img8.jpg',\n",
       "  'tests/dataset/tests/dataset/tests/dataset/tests/dataset/img25.jpg'],\n",
       " ['tests/dataset/tests/dataset/tests/dataset/tests/dataset/img9.jpg',\n",
       "  'tests/dataset/tests/dataset/tests/dataset/tests/dataset/img24.jpg'],\n",
       " ['tests/dataset/tests/dataset/tests/dataset/tests/dataset/img9.jpg',\n",
       "  'tests/dataset/tests/dataset/tests/dataset/tests/dataset/img25.jpg'],\n",
       " ['tests/dataset/tests/dataset/tests/dataset/tests/dataset/img3.jpg',\n",
       "  'tests/dataset/tests/dataset/tests/dataset/tests/dataset/img13.jpg'],\n",
       " ['tests/dataset/tests/dataset/tests/dataset/tests/dataset/img3.jpg',\n",
       "  'tests/dataset/tests/dataset/tests/dataset/tests/dataset/img14.jpg'],\n",
       " ['tests/dataset/tests/dataset/tests/dataset/tests/dataset/img3.jpg',\n",
       "  'tests/dataset/tests/dataset/tests/dataset/tests/dataset/img15.jpg'],\n",
       " ['tests/dataset/tests/dataset/tests/dataset/tests/dataset/img12.jpg',\n",
       "  'tests/dataset/tests/dataset/tests/dataset/tests/dataset/img13.jpg'],\n",
       " ['tests/dataset/tests/dataset/tests/dataset/tests/dataset/img12.jpg',\n",
       "  'tests/dataset/tests/dataset/tests/dataset/tests/dataset/img14.jpg'],\n",
       " ['tests/dataset/tests/dataset/tests/dataset/tests/dataset/img12.jpg',\n",
       "  'tests/dataset/tests/dataset/tests/dataset/tests/dataset/img15.jpg'],\n",
       " ['tests/dataset/tests/dataset/tests/dataset/tests/dataset/img3.jpg',\n",
       "  'tests/dataset/tests/dataset/tests/dataset/tests/dataset/img16.jpg'],\n",
       " ['tests/dataset/tests/dataset/tests/dataset/tests/dataset/img3.jpg',\n",
       "  'tests/dataset/tests/dataset/tests/dataset/tests/dataset/img17.jpg'],\n",
       " ['tests/dataset/tests/dataset/tests/dataset/tests/dataset/img12.jpg',\n",
       "  'tests/dataset/tests/dataset/tests/dataset/tests/dataset/img16.jpg'],\n",
       " ['tests/dataset/tests/dataset/tests/dataset/tests/dataset/img12.jpg',\n",
       "  'tests/dataset/tests/dataset/tests/dataset/tests/dataset/img17.jpg'],\n",
       " ['tests/dataset/tests/dataset/tests/dataset/tests/dataset/img3.jpg',\n",
       "  'tests/dataset/tests/dataset/tests/dataset/tests/dataset/img18.jpg'],\n",
       " ['tests/dataset/tests/dataset/tests/dataset/tests/dataset/img3.jpg',\n",
       "  'tests/dataset/tests/dataset/tests/dataset/tests/dataset/img19.jpg'],\n",
       " ['tests/dataset/tests/dataset/tests/dataset/tests/dataset/img12.jpg',\n",
       "  'tests/dataset/tests/dataset/tests/dataset/tests/dataset/img18.jpg'],\n",
       " ['tests/dataset/tests/dataset/tests/dataset/tests/dataset/img12.jpg',\n",
       "  'tests/dataset/tests/dataset/tests/dataset/tests/dataset/img19.jpg'],\n",
       " ['tests/dataset/tests/dataset/tests/dataset/tests/dataset/img3.jpg',\n",
       "  'tests/dataset/tests/dataset/tests/dataset/tests/dataset/img20.jpg'],\n",
       " ['tests/dataset/tests/dataset/tests/dataset/tests/dataset/img3.jpg',\n",
       "  'tests/dataset/tests/dataset/tests/dataset/tests/dataset/img21.jpg'],\n",
       " ['tests/dataset/tests/dataset/tests/dataset/tests/dataset/img12.jpg',\n",
       "  'tests/dataset/tests/dataset/tests/dataset/tests/dataset/img20.jpg'],\n",
       " ['tests/dataset/tests/dataset/tests/dataset/tests/dataset/img12.jpg',\n",
       "  'tests/dataset/tests/dataset/tests/dataset/tests/dataset/img21.jpg'],\n",
       " ['tests/dataset/tests/dataset/tests/dataset/tests/dataset/img3.jpg',\n",
       "  'tests/dataset/tests/dataset/tests/dataset/tests/dataset/img22.jpg'],\n",
       " ['tests/dataset/tests/dataset/tests/dataset/tests/dataset/img3.jpg',\n",
       "  'tests/dataset/tests/dataset/tests/dataset/tests/dataset/img23.jpg'],\n",
       " ['tests/dataset/tests/dataset/tests/dataset/tests/dataset/img12.jpg',\n",
       "  'tests/dataset/tests/dataset/tests/dataset/tests/dataset/img22.jpg'],\n",
       " ['tests/dataset/tests/dataset/tests/dataset/tests/dataset/img12.jpg',\n",
       "  'tests/dataset/tests/dataset/tests/dataset/tests/dataset/img23.jpg'],\n",
       " ['tests/dataset/tests/dataset/tests/dataset/tests/dataset/img3.jpg',\n",
       "  'tests/dataset/tests/dataset/tests/dataset/tests/dataset/img24.jpg'],\n",
       " ['tests/dataset/tests/dataset/tests/dataset/tests/dataset/img3.jpg',\n",
       "  'tests/dataset/tests/dataset/tests/dataset/tests/dataset/img25.jpg'],\n",
       " ['tests/dataset/tests/dataset/tests/dataset/tests/dataset/img12.jpg',\n",
       "  'tests/dataset/tests/dataset/tests/dataset/tests/dataset/img24.jpg'],\n",
       " ['tests/dataset/tests/dataset/tests/dataset/tests/dataset/img12.jpg',\n",
       "  'tests/dataset/tests/dataset/tests/dataset/tests/dataset/img25.jpg'],\n",
       " ['tests/dataset/tests/dataset/tests/dataset/tests/dataset/img13.jpg',\n",
       "  'tests/dataset/tests/dataset/tests/dataset/tests/dataset/img16.jpg'],\n",
       " ['tests/dataset/tests/dataset/tests/dataset/tests/dataset/img13.jpg',\n",
       "  'tests/dataset/tests/dataset/tests/dataset/tests/dataset/img17.jpg'],\n",
       " ['tests/dataset/tests/dataset/tests/dataset/tests/dataset/img14.jpg',\n",
       "  'tests/dataset/tests/dataset/tests/dataset/tests/dataset/img16.jpg'],\n",
       " ['tests/dataset/tests/dataset/tests/dataset/tests/dataset/img14.jpg',\n",
       "  'tests/dataset/tests/dataset/tests/dataset/tests/dataset/img17.jpg'],\n",
       " ['tests/dataset/tests/dataset/tests/dataset/tests/dataset/img15.jpg',\n",
       "  'tests/dataset/tests/dataset/tests/dataset/tests/dataset/img16.jpg'],\n",
       " ['tests/dataset/tests/dataset/tests/dataset/tests/dataset/img15.jpg',\n",
       "  'tests/dataset/tests/dataset/tests/dataset/tests/dataset/img17.jpg'],\n",
       " ['tests/dataset/tests/dataset/tests/dataset/tests/dataset/img13.jpg',\n",
       "  'tests/dataset/tests/dataset/tests/dataset/tests/dataset/img18.jpg'],\n",
       " ['tests/dataset/tests/dataset/tests/dataset/tests/dataset/img13.jpg',\n",
       "  'tests/dataset/tests/dataset/tests/dataset/tests/dataset/img19.jpg'],\n",
       " ['tests/dataset/tests/dataset/tests/dataset/tests/dataset/img14.jpg',\n",
       "  'tests/dataset/tests/dataset/tests/dataset/tests/dataset/img18.jpg'],\n",
       " ['tests/dataset/tests/dataset/tests/dataset/tests/dataset/img14.jpg',\n",
       "  'tests/dataset/tests/dataset/tests/dataset/tests/dataset/img19.jpg'],\n",
       " ['tests/dataset/tests/dataset/tests/dataset/tests/dataset/img15.jpg',\n",
       "  'tests/dataset/tests/dataset/tests/dataset/tests/dataset/img18.jpg'],\n",
       " ['tests/dataset/tests/dataset/tests/dataset/tests/dataset/img15.jpg',\n",
       "  'tests/dataset/tests/dataset/tests/dataset/tests/dataset/img19.jpg'],\n",
       " ['tests/dataset/tests/dataset/tests/dataset/tests/dataset/img13.jpg',\n",
       "  'tests/dataset/tests/dataset/tests/dataset/tests/dataset/img20.jpg'],\n",
       " ['tests/dataset/tests/dataset/tests/dataset/tests/dataset/img13.jpg',\n",
       "  'tests/dataset/tests/dataset/tests/dataset/tests/dataset/img21.jpg'],\n",
       " ['tests/dataset/tests/dataset/tests/dataset/tests/dataset/img14.jpg',\n",
       "  'tests/dataset/tests/dataset/tests/dataset/tests/dataset/img20.jpg'],\n",
       " ['tests/dataset/tests/dataset/tests/dataset/tests/dataset/img14.jpg',\n",
       "  'tests/dataset/tests/dataset/tests/dataset/tests/dataset/img21.jpg'],\n",
       " ['tests/dataset/tests/dataset/tests/dataset/tests/dataset/img15.jpg',\n",
       "  'tests/dataset/tests/dataset/tests/dataset/tests/dataset/img20.jpg'],\n",
       " ['tests/dataset/tests/dataset/tests/dataset/tests/dataset/img15.jpg',\n",
       "  'tests/dataset/tests/dataset/tests/dataset/tests/dataset/img21.jpg'],\n",
       " ['tests/dataset/tests/dataset/tests/dataset/tests/dataset/img13.jpg',\n",
       "  'tests/dataset/tests/dataset/tests/dataset/tests/dataset/img22.jpg'],\n",
       " ['tests/dataset/tests/dataset/tests/dataset/tests/dataset/img13.jpg',\n",
       "  'tests/dataset/tests/dataset/tests/dataset/tests/dataset/img23.jpg'],\n",
       " ['tests/dataset/tests/dataset/tests/dataset/tests/dataset/img14.jpg',\n",
       "  'tests/dataset/tests/dataset/tests/dataset/tests/dataset/img22.jpg'],\n",
       " ['tests/dataset/tests/dataset/tests/dataset/tests/dataset/img14.jpg',\n",
       "  'tests/dataset/tests/dataset/tests/dataset/tests/dataset/img23.jpg'],\n",
       " ['tests/dataset/tests/dataset/tests/dataset/tests/dataset/img15.jpg',\n",
       "  'tests/dataset/tests/dataset/tests/dataset/tests/dataset/img22.jpg'],\n",
       " ['tests/dataset/tests/dataset/tests/dataset/tests/dataset/img15.jpg',\n",
       "  'tests/dataset/tests/dataset/tests/dataset/tests/dataset/img23.jpg'],\n",
       " ['tests/dataset/tests/dataset/tests/dataset/tests/dataset/img13.jpg',\n",
       "  'tests/dataset/tests/dataset/tests/dataset/tests/dataset/img24.jpg'],\n",
       " ['tests/dataset/tests/dataset/tests/dataset/tests/dataset/img13.jpg',\n",
       "  'tests/dataset/tests/dataset/tests/dataset/tests/dataset/img25.jpg'],\n",
       " ['tests/dataset/tests/dataset/tests/dataset/tests/dataset/img14.jpg',\n",
       "  'tests/dataset/tests/dataset/tests/dataset/tests/dataset/img24.jpg'],\n",
       " ['tests/dataset/tests/dataset/tests/dataset/tests/dataset/img14.jpg',\n",
       "  'tests/dataset/tests/dataset/tests/dataset/tests/dataset/img25.jpg'],\n",
       " ['tests/dataset/tests/dataset/tests/dataset/tests/dataset/img15.jpg',\n",
       "  'tests/dataset/tests/dataset/tests/dataset/tests/dataset/img24.jpg'],\n",
       " ['tests/dataset/tests/dataset/tests/dataset/tests/dataset/img15.jpg',\n",
       "  'tests/dataset/tests/dataset/tests/dataset/tests/dataset/img25.jpg'],\n",
       " ['tests/dataset/tests/dataset/tests/dataset/tests/dataset/img16.jpg',\n",
       "  'tests/dataset/tests/dataset/tests/dataset/tests/dataset/img18.jpg'],\n",
       " ['tests/dataset/tests/dataset/tests/dataset/tests/dataset/img16.jpg',\n",
       "  'tests/dataset/tests/dataset/tests/dataset/tests/dataset/img19.jpg'],\n",
       " ['tests/dataset/tests/dataset/tests/dataset/tests/dataset/img17.jpg',\n",
       "  'tests/dataset/tests/dataset/tests/dataset/tests/dataset/img18.jpg'],\n",
       " ['tests/dataset/tests/dataset/tests/dataset/tests/dataset/img17.jpg',\n",
       "  'tests/dataset/tests/dataset/tests/dataset/tests/dataset/img19.jpg'],\n",
       " ['tests/dataset/tests/dataset/tests/dataset/tests/dataset/img16.jpg',\n",
       "  'tests/dataset/tests/dataset/tests/dataset/tests/dataset/img20.jpg'],\n",
       " ['tests/dataset/tests/dataset/tests/dataset/tests/dataset/img16.jpg',\n",
       "  'tests/dataset/tests/dataset/tests/dataset/tests/dataset/img21.jpg'],\n",
       " ['tests/dataset/tests/dataset/tests/dataset/tests/dataset/img17.jpg',\n",
       "  'tests/dataset/tests/dataset/tests/dataset/tests/dataset/img20.jpg'],\n",
       " ['tests/dataset/tests/dataset/tests/dataset/tests/dataset/img17.jpg',\n",
       "  'tests/dataset/tests/dataset/tests/dataset/tests/dataset/img21.jpg'],\n",
       " ['tests/dataset/tests/dataset/tests/dataset/tests/dataset/img16.jpg',\n",
       "  'tests/dataset/tests/dataset/tests/dataset/tests/dataset/img22.jpg'],\n",
       " ['tests/dataset/tests/dataset/tests/dataset/tests/dataset/img16.jpg',\n",
       "  'tests/dataset/tests/dataset/tests/dataset/tests/dataset/img23.jpg'],\n",
       " ['tests/dataset/tests/dataset/tests/dataset/tests/dataset/img17.jpg',\n",
       "  'tests/dataset/tests/dataset/tests/dataset/tests/dataset/img22.jpg'],\n",
       " ['tests/dataset/tests/dataset/tests/dataset/tests/dataset/img17.jpg',\n",
       "  'tests/dataset/tests/dataset/tests/dataset/tests/dataset/img23.jpg'],\n",
       " ['tests/dataset/tests/dataset/tests/dataset/tests/dataset/img16.jpg',\n",
       "  'tests/dataset/tests/dataset/tests/dataset/tests/dataset/img24.jpg'],\n",
       " ['tests/dataset/tests/dataset/tests/dataset/tests/dataset/img16.jpg',\n",
       "  'tests/dataset/tests/dataset/tests/dataset/tests/dataset/img25.jpg'],\n",
       " ['tests/dataset/tests/dataset/tests/dataset/tests/dataset/img17.jpg',\n",
       "  'tests/dataset/tests/dataset/tests/dataset/tests/dataset/img24.jpg'],\n",
       " ['tests/dataset/tests/dataset/tests/dataset/tests/dataset/img17.jpg',\n",
       "  'tests/dataset/tests/dataset/tests/dataset/tests/dataset/img25.jpg'],\n",
       " ['tests/dataset/tests/dataset/tests/dataset/tests/dataset/img18.jpg',\n",
       "  'tests/dataset/tests/dataset/tests/dataset/tests/dataset/img20.jpg'],\n",
       " ['tests/dataset/tests/dataset/tests/dataset/tests/dataset/img18.jpg',\n",
       "  'tests/dataset/tests/dataset/tests/dataset/tests/dataset/img21.jpg'],\n",
       " ['tests/dataset/tests/dataset/tests/dataset/tests/dataset/img19.jpg',\n",
       "  'tests/dataset/tests/dataset/tests/dataset/tests/dataset/img20.jpg'],\n",
       " ['tests/dataset/tests/dataset/tests/dataset/tests/dataset/img19.jpg',\n",
       "  'tests/dataset/tests/dataset/tests/dataset/tests/dataset/img21.jpg'],\n",
       " ['tests/dataset/tests/dataset/tests/dataset/tests/dataset/img18.jpg',\n",
       "  'tests/dataset/tests/dataset/tests/dataset/tests/dataset/img22.jpg'],\n",
       " ['tests/dataset/tests/dataset/tests/dataset/tests/dataset/img18.jpg',\n",
       "  'tests/dataset/tests/dataset/tests/dataset/tests/dataset/img23.jpg'],\n",
       " ['tests/dataset/tests/dataset/tests/dataset/tests/dataset/img19.jpg',\n",
       "  'tests/dataset/tests/dataset/tests/dataset/tests/dataset/img22.jpg'],\n",
       " ['tests/dataset/tests/dataset/tests/dataset/tests/dataset/img19.jpg',\n",
       "  'tests/dataset/tests/dataset/tests/dataset/tests/dataset/img23.jpg'],\n",
       " ['tests/dataset/tests/dataset/tests/dataset/tests/dataset/img18.jpg',\n",
       "  'tests/dataset/tests/dataset/tests/dataset/tests/dataset/img24.jpg'],\n",
       " ['tests/dataset/tests/dataset/tests/dataset/tests/dataset/img18.jpg',\n",
       "  'tests/dataset/tests/dataset/tests/dataset/tests/dataset/img25.jpg'],\n",
       " ['tests/dataset/tests/dataset/tests/dataset/tests/dataset/img19.jpg',\n",
       "  'tests/dataset/tests/dataset/tests/dataset/tests/dataset/img24.jpg'],\n",
       " ['tests/dataset/tests/dataset/tests/dataset/tests/dataset/img19.jpg',\n",
       "  'tests/dataset/tests/dataset/tests/dataset/tests/dataset/img25.jpg'],\n",
       " ['tests/dataset/tests/dataset/tests/dataset/tests/dataset/img20.jpg',\n",
       "  'tests/dataset/tests/dataset/tests/dataset/tests/dataset/img22.jpg'],\n",
       " ['tests/dataset/tests/dataset/tests/dataset/tests/dataset/img20.jpg',\n",
       "  'tests/dataset/tests/dataset/tests/dataset/tests/dataset/img23.jpg'],\n",
       " ['tests/dataset/tests/dataset/tests/dataset/tests/dataset/img21.jpg',\n",
       "  'tests/dataset/tests/dataset/tests/dataset/tests/dataset/img22.jpg'],\n",
       " ['tests/dataset/tests/dataset/tests/dataset/tests/dataset/img21.jpg',\n",
       "  'tests/dataset/tests/dataset/tests/dataset/tests/dataset/img23.jpg'],\n",
       " ['tests/dataset/tests/dataset/tests/dataset/tests/dataset/img20.jpg',\n",
       "  'tests/dataset/tests/dataset/tests/dataset/tests/dataset/img24.jpg'],\n",
       " ['tests/dataset/tests/dataset/tests/dataset/tests/dataset/img20.jpg',\n",
       "  'tests/dataset/tests/dataset/tests/dataset/tests/dataset/img25.jpg'],\n",
       " ['tests/dataset/tests/dataset/tests/dataset/tests/dataset/img21.jpg',\n",
       "  'tests/dataset/tests/dataset/tests/dataset/tests/dataset/img24.jpg'],\n",
       " ['tests/dataset/tests/dataset/tests/dataset/tests/dataset/img21.jpg',\n",
       "  'tests/dataset/tests/dataset/tests/dataset/tests/dataset/img25.jpg'],\n",
       " ['tests/dataset/tests/dataset/tests/dataset/tests/dataset/img22.jpg',\n",
       "  'tests/dataset/tests/dataset/tests/dataset/tests/dataset/img24.jpg'],\n",
       " ['tests/dataset/tests/dataset/tests/dataset/tests/dataset/img22.jpg',\n",
       "  'tests/dataset/tests/dataset/tests/dataset/tests/dataset/img25.jpg'],\n",
       " ['tests/dataset/tests/dataset/tests/dataset/tests/dataset/img23.jpg',\n",
       "  'tests/dataset/tests/dataset/tests/dataset/tests/dataset/img24.jpg'],\n",
       " ['tests/dataset/tests/dataset/tests/dataset/tests/dataset/img23.jpg',\n",
       "  'tests/dataset/tests/dataset/tests/dataset/tests/dataset/img25.jpg']]"
      ]
     },
     "execution_count": 95,
     "metadata": {},
     "output_type": "execute_result"
    }
   ],
   "source": [
    "instances"
   ]
  },
  {
   "cell_type": "code",
   "execution_count": 44,
   "metadata": {},
   "outputs": [],
   "source": [
    "model_name = \"VGG-Face\"\n",
    "distance_metric = \"cosine\""
   ]
  },
  {
   "cell_type": "code",
   "execution_count": null,
   "metadata": {},
   "outputs": [],
   "source": [
    "resp_obj = DeepFace.verify(instances, model_name = model_name, distance_metric = distance_metric)"
   ]
  },
  {
   "cell_type": "code",
   "execution_count": 46,
   "metadata": {},
   "outputs": [],
   "source": [
    "distances = []\n",
    "for i in range(0, len(instances)):\n",
    "    distance = round(resp_obj[\"pair_%s\" % (i+1)][\"distance\"], 4)\n",
    "    distances.append(distance)"
   ]
  },
  {
   "cell_type": "code",
   "execution_count": 47,
   "metadata": {},
   "outputs": [],
   "source": [
    "df[\"distance\"] = distances"
   ]
  },
  {
   "cell_type": "code",
   "execution_count": 60,
   "metadata": {},
   "outputs": [],
   "source": [
    "j=0\n",
    "k=0\n",
    "for i in range(0, len(instances)):\n",
    "    if df.decision[i] == \"Yes\":\n",
    "        j = j + 1\n",
    "    else:\n",
    "        k = k + 1\n",
    "    "
   ]
  },
  {
   "cell_type": "code",
   "execution_count": 61,
   "metadata": {},
   "outputs": [
    {
     "name": "stdout",
     "output_type": "stream",
     "text": [
      "Number of true positive:  38\n",
      "Number of false positive:  262\n"
     ]
    }
   ],
   "source": [
    "print(\"Number of true positive: \", j)\n",
    "print(\"Number of false positive: \", k)"
   ]
  },
  {
   "cell_type": "code",
   "execution_count": 62,
   "metadata": {},
   "outputs": [],
   "source": [
    "tp_mean = round(df[df.decision == \"Yes\"].mean().values[0], 4)\n",
    "tp_std = round(df[df.decision == \"Yes\"].std().values[0], 4)\n",
    "fp_mean = round(df[df.decision == \"No\"].mean().values[0], 4)\n",
    "fp_std = round(df[df.decision == \"No\"].std().values[0], 4)"
   ]
  },
  {
   "cell_type": "code",
   "execution_count": 63,
   "metadata": {},
   "outputs": [
    {
     "name": "stdout",
     "output_type": "stream",
     "text": [
      "Mean of true positives:  0.2298\n",
      "Std of true positives:  0.0849\n",
      "Mean of false positives:  0.6424\n",
      "Std of false positives:  0.1144\n"
     ]
    }
   ],
   "source": [
    "print(\"Mean of true positives: \", tp_mean)\n",
    "print(\"Std of true positives: \", tp_std)\n",
    "print(\"Mean of false positives: \", fp_mean)\n",
    "print(\"Std of false positives: \", fp_std)"
   ]
  },
  {
   "cell_type": "code",
   "execution_count": 64,
   "metadata": {},
   "outputs": [
    {
     "data": {
      "text/plain": [
       "<matplotlib.axes._subplots.AxesSubplot at 0x22a2691fa30>"
      ]
     },
     "execution_count": 64,
     "metadata": {},
     "output_type": "execute_result"
    },
    {
     "data": {
      "image/png": "[encoded data removed]",
      "text/plain": [
       "<Figure size 432x288 with 1 Axes>"
      ]
     },
     "metadata": {
      "needs_background": "light"
     },
     "output_type": "display_data"
    }
   ],
   "source": [
    "df[df.decision == \"Yes\"].distance.plot.kde()\n",
    "df[df.decision == \"No\"].distance.plot.kde()"
   ]
  },
  {
   "cell_type": "code",
   "execution_count": 65,
   "metadata": {},
   "outputs": [],
   "source": [
    "from chefboost import Chefboost as chef"
   ]
  },
  {
   "cell_type": "code",
   "execution_count": 66,
   "metadata": {},
   "outputs": [],
   "source": [
    "config = {'algorithm': 'C4.5'}"
   ]
  },
  {
   "cell_type": "code",
   "execution_count": 67,
   "metadata": {},
   "outputs": [
    {
     "name": "stdout",
     "output_type": "stream",
     "text": [
      "[INFO]:  4 CPU cores will be allocated in parallel running\n",
      "C4.5  tree is going to be built...\n",
      "-------------------------\n",
      "finished in  1.0664899349212646  seconds\n",
      "-------------------------\n",
      "Evaluate  train set\n",
      "-------------------------\n",
      "Accuracy:  95.0 % on  300  instances\n",
      "Labels:  ['Yes' 'No']\n",
      "Confusion matrix:  [[23, 0], [15, 262]]\n",
      "Precision:  100.0 %, Recall:  60.5263 %, F1:  75.4098 %\n"
     ]
    }
   ],
   "source": [
    "tmp_df = df[['distance', 'decision']].rename(columns = {\"decision\": \"Decision\"}).copy()\n",
    "model = chef.fit(tmp_df, config)"
   ]
  },
  {
   "cell_type": "code",
   "execution_count": 74,
   "metadata": {},
   "outputs": [
    {
     "name": "stdout",
     "output_type": "stream",
     "text": [
      "threshold:  0.3147\n"
     ]
    }
   ],
   "source": [
    "sigma = 2\n",
    "#2 sigma corresponds 95.45% confidence, and 3 sigma corresponds 99.73% confidence\n",
    "\n",
    "#threshold = round(tp_mean + sigma * tp_std, 4)\n",
    "threshold = 0.3147 #comes from c4.5 algorithm\n",
    "print(\"threshold: \", threshold)"
   ]
  },
  {
   "cell_type": "code",
   "execution_count": 75,
   "metadata": {},
   "outputs": [
    {
     "data": {
      "text/plain": [
       "0.4654"
      ]
     },
     "execution_count": 75,
     "metadata": {},
     "output_type": "execute_result"
    }
   ],
   "source": [
    "df[df.decision == 'Yes'].distance.max()"
   ]
  },
  {
   "cell_type": "code",
   "execution_count": 76,
   "metadata": {},
   "outputs": [
    {
     "data": {
      "text/plain": [
       "0.3524"
      ]
     },
     "execution_count": 76,
     "metadata": {},
     "output_type": "execute_result"
    }
   ],
   "source": [
    "df[df.decision == 'No'].distance.min()"
   ]
  },
  {
   "cell_type": "code",
   "execution_count": 77,
   "metadata": {},
   "outputs": [],
   "source": [
    "df[\"prediction\"] = \"No\""
   ]
  },
  {
   "cell_type": "code",
   "execution_count": 78,
   "metadata": {},
   "outputs": [],
   "source": [
    "idx = df[df.distance <= threshold].index\n",
    "df.loc[idx, 'prediction'] = 'Yes'"
   ]
  },
  {
   "cell_type": "code",
   "execution_count": 79,
   "metadata": {},
   "outputs": [
    {
     "data": {
      "text/html": [
       "<div>\n",
       "<style scoped>\n",
       "    .dataframe tbody tr th:only-of-type {\n",
       "        vertical-align: middle;\n",
       "    }\n",
       "\n",
       "    .dataframe tbody tr th {\n",
       "        vertical-align: top;\n",
       "    }\n",
       "\n",
       "    .dataframe thead th {\n",
       "        text-align: right;\n",
       "    }\n",
       "</style>\n",
       "<table border=\"1\" class=\"dataframe\">\n",
       "  <thead>\n",
       "    <tr style=\"text-align: right;\">\n",
       "      <th></th>\n",
       "      <th>file_x</th>\n",
       "      <th>file_y</th>\n",
       "      <th>decision</th>\n",
       "      <th>distance</th>\n",
       "      <th>prediction</th>\n",
       "    </tr>\n",
       "  </thead>\n",
       "  <tbody>\n",
       "    <tr>\n",
       "      <th>258</th>\n",
       "      <td>tests/dataset/img15.jpg</td>\n",
       "      <td>tests/dataset/img24.jpg</td>\n",
       "      <td>No</td>\n",
       "      <td>0.4727</td>\n",
       "      <td>No</td>\n",
       "    </tr>\n",
       "    <tr>\n",
       "      <th>261</th>\n",
       "      <td>tests/dataset/img16.jpg</td>\n",
       "      <td>tests/dataset/img19.jpg</td>\n",
       "      <td>No</td>\n",
       "      <td>0.4999</td>\n",
       "      <td>No</td>\n",
       "    </tr>\n",
       "    <tr>\n",
       "      <th>263</th>\n",
       "      <td>tests/dataset/img17.jpg</td>\n",
       "      <td>tests/dataset/img19.jpg</td>\n",
       "      <td>No</td>\n",
       "      <td>0.4804</td>\n",
       "      <td>No</td>\n",
       "    </tr>\n",
       "    <tr>\n",
       "      <th>84</th>\n",
       "      <td>tests/dataset/img6.jpg</td>\n",
       "      <td>tests/dataset/img15.jpg</td>\n",
       "      <td>No</td>\n",
       "      <td>0.7016</td>\n",
       "      <td>No</td>\n",
       "    </tr>\n",
       "    <tr>\n",
       "      <th>24</th>\n",
       "      <td>tests/dataset/img6.jpg</td>\n",
       "      <td>tests/dataset/img11.jpg</td>\n",
       "      <td>Yes</td>\n",
       "      <td>0.2556</td>\n",
       "      <td>Yes</td>\n",
       "    </tr>\n",
       "  </tbody>\n",
       "</table>\n",
       "</div>"
      ],
      "text/plain": [
       "                      file_x                   file_y decision  distance  \\\n",
       "258  tests/dataset/img15.jpg  tests/dataset/img24.jpg       No    0.4727   \n",
       "261  tests/dataset/img16.jpg  tests/dataset/img19.jpg       No    0.4999   \n",
       "263  tests/dataset/img17.jpg  tests/dataset/img19.jpg       No    0.4804   \n",
       "84    tests/dataset/img6.jpg  tests/dataset/img15.jpg       No    0.7016   \n",
       "24    tests/dataset/img6.jpg  tests/dataset/img11.jpg      Yes    0.2556   \n",
       "\n",
       "    prediction  \n",
       "258         No  \n",
       "261         No  \n",
       "263         No  \n",
       "84          No  \n",
       "24         Yes  "
      ]
     },
     "execution_count": 79,
     "metadata": {},
     "output_type": "execute_result"
    }
   ],
   "source": [
    "df.sample(5)"
   ]
  },
  {
   "cell_type": "code",
   "execution_count": 80,
   "metadata": {},
   "outputs": [
    {
     "data": {
      "text/plain": [
       "array([[262,   0],\n",
       "       [  5,  33]], dtype=int64)"
      ]
     },
     "execution_count": 80,
     "metadata": {},
     "output_type": "execute_result"
    }
   ],
   "source": [
    "cm = confusion_matrix(df.decision.values, df.prediction.values)\n",
    "cm"
   ]
  },
  {
   "cell_type": "code",
   "execution_count": 81,
   "metadata": {},
   "outputs": [],
   "source": [
    "tn, fp, fn, tp = cm.ravel()"
   ]
  },
  {
   "cell_type": "code",
   "execution_count": 82,
   "metadata": {},
   "outputs": [
    {
     "data": {
      "text/plain": [
       "(262, 0, 5, 33)"
      ]
     },
     "execution_count": 82,
     "metadata": {},
     "output_type": "execute_result"
    }
   ],
   "source": [
    "tn, fp, fn, tp"
   ]
  },
  {
   "cell_type": "code",
   "execution_count": 83,
   "metadata": {},
   "outputs": [],
   "source": [
    "recall = tp / (tp + fn)\n",
    "precision = tp / (tp + fp)\n",
    "accuracy = (tp + tn)/(tn + fp +  fn + tp)\n",
    "f1 = 2 * (precision * recall) / (precision + recall)"
   ]
  },
  {
   "cell_type": "code",
   "execution_count": 84,
   "metadata": {},
   "outputs": [
    {
     "name": "stdout",
     "output_type": "stream",
     "text": [
      "Precision:  100.0 %\n",
      "Recall:  86.8421052631579 %\n",
      "F1 score  92.95774647887323 %\n",
      "Accuracy:  98.33333333333333 %\n"
     ]
    }
   ],
   "source": [
    "print(\"Precision: \", 100*precision,\"%\")\n",
    "print(\"Recall: \", 100*recall,\"%\")\n",
    "print(\"F1 score \",100*f1, \"%\")\n",
    "print(\"Accuracy: \", 100*accuracy,\"%\")"
   ]
  },
  {
   "cell_type": "code",
   "execution_count": 85,
   "metadata": {},
   "outputs": [],
   "source": [
    "df.to_csv(\"threshold_pivot.csv\", index = False)"
   ]
  },
  {
   "cell_type": "markdown",
   "metadata": {},
   "source": [
    "TEST2"
   ]
  },
  {
   "cell_type": "code",
   "execution_count": 183,
   "metadata": {},
   "outputs": [],
   "source": [
    "idendities = {\n",
    "    \"Angelina\": [\"img1.jpg\", \"img2.jpg\", \"img4.jpg\", \"img5.jpg\", \"img6.jpg\", \"img7.jpg\", \"img10.jpg\", \"img11.jpg\"],\n",
    "    \"Scarlett\": [\"img8.jpg\", \"img9.jpg\"],\n",
    "    \"Jennifer\": [\"img3.jpg\", \"img12.jpg\"],\n",
    "    \"Mark\": [\"img13.jpg\", \"img14.jpg\", \"img15.jpg\"],\n",
    "    \"Jack\": [\"img16.jpg\", \"img17.jpg\"],\n",
    "    \"Elon\": [\"img18.jpg\", \"img19.jpg\"],\n",
    "    \"Jeff\": [\"img20.jpg\", \"img21.jpg\"],\n",
    "    \"Marissa\": [\"img22.jpg\", \"img23.jpg\"],\n",
    "    \"Sundar\": [\"img24.jpg\", \"img25.jpg\"]\n",
    "}"
   ]
  },
  {
   "cell_type": "code",
   "execution_count": 184,
   "metadata": {},
   "outputs": [],
   "source": [
    "positives = []\n",
    "\n",
    "for key, values in idendities.items():\n",
    "    \n",
    "    #print(key)\n",
    "    for i in range(0, len(values)-1):\n",
    "        for j in range(i+1, len(values)):\n",
    "            #print(values[i], \" and \", values[j])\n",
    "            positive = []\n",
    "            positive.append(values[i])\n",
    "            positive.append(values[j])\n",
    "            positives.append(positive)"
   ]
  },
  {
   "cell_type": "code",
   "execution_count": 185,
   "metadata": {},
   "outputs": [],
   "source": [
    "positives = pd.DataFrame(positives, columns = [\"file_x\", \"file_y\"])\n",
    "positives[\"decision\"] = \"Yes\""
   ]
  },
  {
   "cell_type": "code",
   "execution_count": 186,
   "metadata": {},
   "outputs": [],
   "source": [
    "samples_list = list(idendities.values())"
   ]
  },
  {
   "cell_type": "code",
   "execution_count": 187,
   "metadata": {},
   "outputs": [],
   "source": [
    "negatives = []\n",
    "\n",
    "for i in range(0, len(idendities) - 1):\n",
    "    for j in range(i+1, len(idendities)):\n",
    "        #print(samples_list[i], \" vs \",samples_list[j]) \n",
    "        cross_product = itertools.product(samples_list[i], samples_list[j])\n",
    "        cross_product = list(cross_product)\n",
    "        #print(cross_product)\n",
    "        \n",
    "        for cross_sample in cross_product:\n",
    "            #print(cross_sample[0], \" vs \", cross_sample[1])\n",
    "            negative = []\n",
    "            negative.append(cross_sample[0])\n",
    "            negative.append(cross_sample[1])\n",
    "            negatives.append(negative)"
   ]
  },
  {
   "cell_type": "code",
   "execution_count": 188,
   "metadata": {},
   "outputs": [],
   "source": [
    "negatives = pd.DataFrame(negatives, columns = [\"file_x\", \"file_y\"])\n",
    "negatives[\"decision\"] = \"No\""
   ]
  },
  {
   "cell_type": "code",
   "execution_count": 189,
   "metadata": {},
   "outputs": [],
   "source": [
    "df = pd.concat([positives, negatives]).reset_index(drop = True)"
   ]
  },
  {
   "cell_type": "code",
   "execution_count": 190,
   "metadata": {},
   "outputs": [],
   "source": [
    "df.file_x = \"tests/dataset/\"+df.file_x\n",
    "df.file_y = \"tests/dataset/\"+df.file_y"
   ]
  },
  {
   "cell_type": "code",
   "execution_count": 191,
   "metadata": {},
   "outputs": [],
   "source": [
    "instances = df[[\"file_x\", \"file_y\"]].values.tolist()"
   ]
  },
  {
   "cell_type": "code",
   "execution_count": 192,
   "metadata": {},
   "outputs": [],
   "source": [
    "model_name = \"ArcFace\"\n",
    "# distance_metric = \"cosine\"\n",
    "distance_metric = \"euclidean_l2\"\n",
    "detector_backend = 'retinaface'"
   ]
  },
  {
   "cell_type": "code",
   "execution_count": null,
   "metadata": {},
   "outputs": [],
   "source": [
    "resp_obj = DeepFace.verify(instances, model_name = model_name, distance_metric = distance_metric, detector_backend = detector_backend)"
   ]
  },
  {
   "cell_type": "code",
   "execution_count": 194,
   "metadata": {},
   "outputs": [],
   "source": [
    "distances = []\n",
    "for i in range(0, len(instances)):\n",
    "    distance = round(resp_obj[\"pair_%s\" % (i+1)][\"distance\"], 4)\n",
    "    distances.append(distance)"
   ]
  },
  {
   "cell_type": "code",
   "execution_count": 195,
   "metadata": {},
   "outputs": [],
   "source": [
    "df[\"distance\"] = distances"
   ]
  },
  {
   "cell_type": "code",
   "execution_count": 196,
   "metadata": {},
   "outputs": [
    {
     "name": "stdout",
     "output_type": "stream",
     "text": [
      "Number of true positive:  38\n",
      "Number of false positive:  262\n"
     ]
    }
   ],
   "source": [
    "j=0\n",
    "k=0\n",
    "for i in range(0, len(instances)):\n",
    "    if df.decision[i] == \"Yes\":\n",
    "        j = j + 1\n",
    "    else:\n",
    "        k = k + 1\n",
    "\n",
    "print(\"Number of true positive: \", j)\n",
    "print(\"Number of false positive: \", k)"
   ]
  },
  {
   "cell_type": "code",
   "execution_count": 197,
   "metadata": {},
   "outputs": [
    {
     "name": "stdout",
     "output_type": "stream",
     "text": [
      "Mean of true positives:  0.825\n",
      "Std of true positives:  0.1503\n",
      "Mean of false positives:  1.3724\n",
      "Std of false positives:  0.0714\n"
     ]
    }
   ],
   "source": [
    "tp_mean = round(df[df.decision == \"Yes\"].mean().values[0], 4)\n",
    "tp_std = round(df[df.decision == \"Yes\"].std().values[0], 4)\n",
    "fp_mean = round(df[df.decision == \"No\"].mean().values[0], 4)\n",
    "fp_std = round(df[df.decision == \"No\"].std().values[0], 4)\n",
    "\n",
    "\n",
    "print(\"Mean of true positives: \", tp_mean)\n",
    "print(\"Std of true positives: \", tp_std)\n",
    "print(\"Mean of false positives: \", fp_mean)\n",
    "print(\"Std of false positives: \", fp_std)"
   ]
  },
  {
   "cell_type": "code",
   "execution_count": 198,
   "metadata": {},
   "outputs": [
    {
     "data": {
      "text/plain": [
       "<matplotlib.axes._subplots.AxesSubplot at 0x22aa17302b0>"
      ]
     },
     "execution_count": 198,
     "metadata": {},
     "output_type": "execute_result"
    },
    {
     "data": {
      "image/png": "[encoded data removed]",
      "text/plain": [
       "<Figure size 432x288 with 1 Axes>"
      ]
     },
     "metadata": {
      "needs_background": "light"
     },
     "output_type": "display_data"
    }
   ],
   "source": [
    "df[df.decision == \"Yes\"].distance.plot.kde()\n",
    "df[df.decision == \"No\"].distance.plot.kde()"
   ]
  },
  {
   "cell_type": "code",
   "execution_count": 199,
   "metadata": {},
   "outputs": [],
   "source": [
    "config = {'algorithm': 'C4.5'}"
   ]
  },
  {
   "cell_type": "code",
   "execution_count": 200,
   "metadata": {},
   "outputs": [
    {
     "name": "stdout",
     "output_type": "stream",
     "text": [
      "[INFO]:  4 CPU cores will be allocated in parallel running\n",
      "C4.5  tree is going to be built...\n",
      "-------------------------\n",
      "finished in  1.4111926555633545  seconds\n",
      "-------------------------\n",
      "Evaluate  train set\n",
      "-------------------------\n",
      "Accuracy:  100.0 % on  300  instances\n",
      "Labels:  ['Yes' 'No']\n",
      "Confusion matrix:  [[38, 0], [0, 262]]\n",
      "Precision:  100.0 %, Recall:  100.0 %, F1:  100.0 %\n"
     ]
    }
   ],
   "source": [
    "tmp_df = df[['distance', 'decision']].rename(columns = {\"decision\": \"Decision\"}).copy()\n",
    "model = chef.fit(tmp_df, config)"
   ]
  },
  {
   "cell_type": "code",
   "execution_count": 201,
   "metadata": {},
   "outputs": [
    {
     "name": "stdout",
     "output_type": "stream",
     "text": [
      "threshold:  0.3147\n"
     ]
    }
   ],
   "source": [
    "sigma = 2\n",
    "#2 sigma corresponds 95.45% confidence, and 3 sigma corresponds 99.73% confidence\n",
    "\n",
    "#threshold = round(tp_mean + sigma * tp_std, 4)\n",
    "threshold = 0.3147 #comes from c4.5 algorithm\n",
    "print(\"threshold: \", threshold)"
   ]
  },
  {
   "cell_type": "code",
   "execution_count": 202,
   "metadata": {},
   "outputs": [
    {
     "data": {
      "text/plain": [
       "1.0965"
      ]
     },
     "execution_count": 202,
     "metadata": {},
     "output_type": "execute_result"
    }
   ],
   "source": [
    "df[df.decision == 'Yes'].distance.max()"
   ]
  },
  {
   "cell_type": "code",
   "execution_count": 203,
   "metadata": {},
   "outputs": [
    {
     "data": {
      "text/plain": [
       "1.1409"
      ]
     },
     "execution_count": 203,
     "metadata": {},
     "output_type": "execute_result"
    }
   ],
   "source": [
    "df[df.decision == 'No'].distance.min()"
   ]
  },
  {
   "cell_type": "code",
   "execution_count": 204,
   "metadata": {},
   "outputs": [],
   "source": [
    "df[\"prediction\"] = \"No\""
   ]
  },
  {
   "cell_type": "code",
   "execution_count": 205,
   "metadata": {},
   "outputs": [],
   "source": [
    "idx = df[df.distance <= threshold].index\n",
    "df.loc[idx, 'prediction'] = 'Yes'"
   ]
  },
  {
   "cell_type": "code",
   "execution_count": 206,
   "metadata": {},
   "outputs": [
    {
     "data": {
      "text/html": [
       "<div>\n",
       "<style scoped>\n",
       "    .dataframe tbody tr th:only-of-type {\n",
       "        vertical-align: middle;\n",
       "    }\n",
       "\n",
       "    .dataframe tbody tr th {\n",
       "        vertical-align: top;\n",
       "    }\n",
       "\n",
       "    .dataframe thead th {\n",
       "        text-align: right;\n",
       "    }\n",
       "</style>\n",
       "<table border=\"1\" class=\"dataframe\">\n",
       "  <thead>\n",
       "    <tr style=\"text-align: right;\">\n",
       "      <th></th>\n",
       "      <th>file_x</th>\n",
       "      <th>file_y</th>\n",
       "      <th>decision</th>\n",
       "      <th>distance</th>\n",
       "      <th>prediction</th>\n",
       "    </tr>\n",
       "  </thead>\n",
       "  <tbody>\n",
       "    <tr>\n",
       "      <th>55</th>\n",
       "      <td>tests/dataset/img1.jpg</td>\n",
       "      <td>tests/dataset/img12.jpg</td>\n",
       "      <td>No</td>\n",
       "      <td>1.3961</td>\n",
       "      <td>No</td>\n",
       "    </tr>\n",
       "    <tr>\n",
       "      <th>201</th>\n",
       "      <td>tests/dataset/img8.jpg</td>\n",
       "      <td>tests/dataset/img25.jpg</td>\n",
       "      <td>No</td>\n",
       "      <td>1.4338</td>\n",
       "      <td>No</td>\n",
       "    </tr>\n",
       "    <tr>\n",
       "      <th>138</th>\n",
       "      <td>tests/dataset/img10.jpg</td>\n",
       "      <td>tests/dataset/img20.jpg</td>\n",
       "      <td>No</td>\n",
       "      <td>1.4073</td>\n",
       "      <td>No</td>\n",
       "    </tr>\n",
       "    <tr>\n",
       "      <th>241</th>\n",
       "      <td>tests/dataset/img15.jpg</td>\n",
       "      <td>tests/dataset/img19.jpg</td>\n",
       "      <td>No</td>\n",
       "      <td>1.3602</td>\n",
       "      <td>No</td>\n",
       "    </tr>\n",
       "    <tr>\n",
       "      <th>87</th>\n",
       "      <td>tests/dataset/img7.jpg</td>\n",
       "      <td>tests/dataset/img15.jpg</td>\n",
       "      <td>No</td>\n",
       "      <td>1.3840</td>\n",
       "      <td>No</td>\n",
       "    </tr>\n",
       "  </tbody>\n",
       "</table>\n",
       "</div>"
      ],
      "text/plain": [
       "                      file_x                   file_y decision  distance  \\\n",
       "55    tests/dataset/img1.jpg  tests/dataset/img12.jpg       No    1.3961   \n",
       "201   tests/dataset/img8.jpg  tests/dataset/img25.jpg       No    1.4338   \n",
       "138  tests/dataset/img10.jpg  tests/dataset/img20.jpg       No    1.4073   \n",
       "241  tests/dataset/img15.jpg  tests/dataset/img19.jpg       No    1.3602   \n",
       "87    tests/dataset/img7.jpg  tests/dataset/img15.jpg       No    1.3840   \n",
       "\n",
       "    prediction  \n",
       "55          No  \n",
       "201         No  \n",
       "138         No  \n",
       "241         No  \n",
       "87          No  "
      ]
     },
     "execution_count": 206,
     "metadata": {},
     "output_type": "execute_result"
    }
   ],
   "source": [
    "df.sample(5)"
   ]
  },
  {
   "cell_type": "code",
   "execution_count": 207,
   "metadata": {},
   "outputs": [
    {
     "data": {
      "text/plain": [
       "array([[262,   0],\n",
       "       [ 38,   0]], dtype=int64)"
      ]
     },
     "execution_count": 207,
     "metadata": {},
     "output_type": "execute_result"
    }
   ],
   "source": [
    "cm = confusion_matrix(df.decision.values, df.prediction.values)\n",
    "cm"
   ]
  },
  {
   "cell_type": "code",
   "execution_count": 208,
   "metadata": {},
   "outputs": [
    {
     "data": {
      "text/plain": [
       "(262, 0, 38, 0)"
      ]
     },
     "execution_count": 208,
     "metadata": {},
     "output_type": "execute_result"
    }
   ],
   "source": [
    "# tn, fp, fn, tp = cm.ravel()\n",
    "# tn, fp, fn, tp\n",
    "tn, fp, fn, tp = cm.ravel()\n",
    "tn, fp, fn, tp"
   ]
  },
  {
   "cell_type": "code",
   "execution_count": 209,
   "metadata": {},
   "outputs": [],
   "source": [
    "recall = tp / (tp + fn)\n",
    "precision = tp / (tp + fp)\n",
    "accuracy = (tp + tn)/(tn + fp +  fn + tp)\n",
    "f1 = 2 * (precision * recall) / (precision + recall)"
   ]
  },
  {
   "cell_type": "code",
   "execution_count": 210,
   "metadata": {},
   "outputs": [
    {
     "name": "stdout",
     "output_type": "stream",
     "text": [
      "Precision:  nan %\n",
      "Recall:  0.0 %\n",
      "F1 score  nan %\n",
      "Accuracy:  87.33333333333333 %\n"
     ]
    }
   ],
   "source": [
    "print(\"Precision: \", 100*precision,\"%\")\n",
    "print(\"Recall: \", 100*recall,\"%\")\n",
    "print(\"F1 score \",100*f1, \"%\")\n",
    "print(\"Accuracy: \", 100*accuracy,\"%\")"
   ]
  },
  {
   "cell_type": "code",
   "execution_count": 213,
   "metadata": {},
   "outputs": [
    {
     "data": {
      "image/png": "[encoded data removed]",
      "text/plain": [
       "<Figure size 432x288 with 1 Axes>"
      ]
     },
     "metadata": {
      "needs_background": "light"
     },
     "output_type": "display_data"
    }
   ],
   "source": [
    "import matplotlib.pyplot as plt\n",
    "from retinaface import RetinaFace\n",
    "\n",
    "faces = RetinaFace.extract_faces(img_path = \"tests/dataset/img1.jpg\", align = True)\n",
    "for face in faces:\n",
    "  plt.imshow(face)\n",
    "  plt.show()"
   ]
  },
  {
   "cell_type": "markdown",
   "metadata": {},
   "source": [
    "TEST NEW CODE"
   ]
  }
 ],
 "metadata": {
  "kernelspec": {
   "display_name": "Python 3.9.12 64-bit",
   "language": "python",
   "name": "python3"
  },
  "language_info": {
   "codemirror_mode": {
    "name": "ipython",
    "version": 3
   },
   "file_extension": ".py",
   "mimetype": "text/x-python",
   "name": "python",
   "nbconvert_exporter": "python",
   "pygments_lexer": "ipython3",
   "version": "3.9.12"
  },
  "vscode": {
   "interpreter": {
    "hash": "81794d4967e6c3204c66dcd87b604927b115b27c00565d3d43f05ba2f3a2cb0d"
   }
  }
 },
 "nbformat": 4,
 "nbformat_minor": 4
}
