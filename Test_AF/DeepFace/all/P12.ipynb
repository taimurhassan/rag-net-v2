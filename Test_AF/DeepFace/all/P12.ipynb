{
 "cells": [
  {
   "cell_type": "code",
   "execution_count": 4,
   "metadata": {},
   "outputs": [],
   "source": [
    "import os\n",
    "file_list=os.listdir(r\"/home/mohamad/Downloads/Deep (1)/droneSURF/ActiveTracking/Evening/Location1/11,12/2018_03_11_18_07_21/Person12\")\n",
    "type(file_list)\n",
    "file_list.remove('coordinates.txt')"
   ]
  },
  {
   "cell_type": "code",
   "execution_count": 5,
   "metadata": {},
   "outputs": [
    {
     "data": {
      "text/plain": [
       "1272"
      ]
     },
     "execution_count": 5,
     "metadata": {},
     "output_type": "execute_result"
    }
   ],
   "source": [
    "len(file_list)"
   ]
  },
  {
   "cell_type": "code",
   "execution_count": 7,
   "metadata": {},
   "outputs": [
    {
     "name": "stdout",
     "output_type": "stream",
     "text": [
      "Done\n"
     ]
    }
   ],
   "source": [
    "# open file in write mode\n",
    "\n",
    "with open(r'/home/mohamad/Downloads/Deep (1)/p2.txt', 'w') as fp:\n",
    "\n",
    "    for item in file_list:\n",
    "\n",
    "        # write each item on a new line\n",
    "\n",
    "        fp.write(\"'%s', \" % item)\n",
    "\n",
    "    print('Done')"
   ]
  },
  {
   "cell_type": "code",
   "execution_count": 2,
   "metadata": {},
   "outputs": [],
   "source": [
    "import pandas as pd\n",
    "import itertools\n",
    "from sklearn.metrics import confusion_matrix\n",
    "from tqdm import tqdm\n",
    "# tqdm.pandas()"
   ]
  },
  {
   "cell_type": "code",
   "execution_count": 3,
   "metadata": {},
   "outputs": [],
   "source": [
    "idendities = {\n",
    "    \"1\": [\"down.jpg\", \"front.jpg\", \"sideleft.jpg\", \"sideright.jpg\"],\n",
    "    \"2\": [\n",
    "        'frame1014.jpg', 'frame248.jpg', 'frame657.jpg', 'frame1200.jpg', 'frame28.jpg', 'frame31.jpg', 'frame538.jpg', 'frame514.jpg', 'frame920.jpg', 'frame388.jpg', 'frame215.jpg', 'frame52.jpg', 'frame981.jpg', 'frame105.jpg', 'frame170.jpg', 'frame235.jpg', 'frame199.jpg', 'frame850.jpg', 'frame1230.jpg', 'frame6.jpg', 'frame216.jpg', 'frame185.jpg', 'frame1185.jpg', 'frame1039.jpg', 'frame777.jpg', 'frame907.jpg', 'frame902.jpg', 'frame1212.jpg', 'frame698.jpg', 'frame284.jpg', 'frame477.jpg', 'frame625.jpg', 'frame1205.jpg', 'frame73.jpg', 'frame1125.jpg', 'frame799.jpg', 'frame911.jpg', 'frame61.jpg', 'frame470.jpg', 'frame1130.jpg', 'frame324.jpg', 'frame1187.jpg', 'frame354.jpg', 'frame389.jpg', 'frame1222.jpg', 'frame4.jpg', 'frame638.jpg', 'frame596.jpg', 'frame140.jpg', 'frame1211.jpg', 'frame641.jpg', 'frame82.jpg', 'frame688.jpg', 'frame634.jpg', 'frame1149.jpg', 'frame695.jpg', 'frame138.jpg', 'frame748.jpg', 'frame15.jpg', 'frame120.jpg', 'frame776.jpg', 'frame650.jpg', 'frame387.jpg', 'frame1245.jpg', 'frame826.jpg', 'frame726.jpg', 'frame735.jpg', 'frame705.jpg', 'frame687.jpg', 'frame1128.jpg', 'frame526.jpg', 'frame760.jpg', 'frame632.jpg', 'frame709.jpg', 'frame1094.jpg', 'frame264.jpg', 'frame451.jpg', 'frame796.jpg', 'frame1237.jpg', 'frame300.jpg', 'frame1075.jpg', 'frame1034.jpg', 'frame442.jpg', 'frame671.jpg', 'frame210.jpg', 'frame550.jpg', 'frame126.jpg', 'frame465.jpg', 'frame426.jpg', 'frame512.jpg', 'frame313.jpg', 'frame979.jpg', 'frame822.jpg', 'frame24.jpg', 'frame1079.jpg', 'frame139.jpg', 'frame316.jpg', 'frame368.jpg', 'frame196.jpg', 'frame405.jpg', 'frame67.jpg', 'frame606.jpg', 'frame3.jpg', 'frame525.jpg', 'frame1066.jpg', 'frame673.jpg', 'frame1223.jpg', 'frame39.jpg', 'frame265.jpg', 'frame14.jpg', 'frame746.jpg', 'frame658.jpg', 'frame1112.jpg', 'frame413.jpg', 'frame1169.jpg', 'frame534.jpg', 'frame424.jpg', 'frame79.jpg', 'frame1082.jpg', 'frame959.jpg', 'frame708.jpg', 'frame802.jpg', 'frame611.jpg', 'frame27.jpg', 'frame794.jpg', 'frame1144.jpg', 'frame65.jpg', 'frame132.jpg', 'frame373.jpg', 'frame919.jpg', 'frame325.jpg', 'frame1198.jpg', 'frame280.jpg', 'frame88.jpg', 'frame764.jpg', 'frame535.jpg', 'frame273.jpg', 'frame1268.jpg', 'frame236.jpg', 'frame364.jpg', 'frame70.jpg', 'frame676.jpg', 'frame1261.jpg', 'frame1158.jpg', 'frame498.jpg', 'frame1111.jpg', 'frame1012.jpg', 'frame121.jpg', 'frame225.jpg', 'frame727.jpg', 'frame423.jpg', 'frame935.jpg', 'frame69.jpg', 'frame400.jpg', 'frame269.jpg', 'frame403.jpg', 'frame1016.jpg', 'frame570.jpg', 'frame642.jpg', 'frame604.jpg', 'frame949.jpg', 'frame147.jpg', 'frame888.jpg', 'frame819.jpg', 'frame967.jpg', 'frame586.jpg', 'frame16.jpg', 'frame1004.jpg', 'frame1018.jpg', 'frame1017.jpg', 'frame908.jpg', 'frame1238.jpg', 'frame1229.jpg', 'frame555.jpg', 'frame383.jpg', 'frame195.jpg', 'frame380.jpg', 'frame250.jpg', 'frame399.jpg', 'frame81.jpg', 'frame462.jpg', 'frame1163.jpg', 'frame154.jpg', 'frame135.jpg', 'frame485.jpg', 'frame558.jpg', 'frame378.jpg', 'frame957.jpg', 'frame503.jpg', 'frame547.jpg', 'frame338.jpg', 'frame352.jpg', 'frame1065.jpg', 'frame956.jpg', 'frame212.jpg', 'frame686.jpg', 'frame274.jpg', 'frame600.jpg', 'frame130.jpg', 'frame472.jpg', 'frame651.jpg', 'frame900.jpg', 'frame455.jpg', 'frame408.jpg', 'frame712.jpg', 'frame1114.jpg', 'frame995.jpg', 'frame398.jpg', 'frame1000.jpg', 'frame376.jpg', 'frame318.jpg', 'frame994.jpg', 'frame945.jpg', 'frame1096.jpg', 'frame757.jpg', 'frame816.jpg', 'frame684.jpg', 'frame1175.jpg', 'frame289.jpg', 'frame622.jpg', 'frame247.jpg', 'frame86.jpg', 'frame527.jpg', 'frame1161.jpg', 'frame381.jpg', 'frame1141.jpg', 'frame217.jpg', 'frame295.jpg', 'frame337.jpg', 'frame464.jpg', 'frame880.jpg', 'frame1131.jpg', 'frame186.jpg', 'frame1142.jpg', 'frame238.jpg', 'frame101.jpg', 'frame285.jpg', 'frame1109.jpg', 'frame944.jpg', 'frame58.jpg', 'frame95.jpg', 'frame103.jpg', 'frame305.jpg', 'frame792.jpg', 'frame32.jpg', 'frame461.jpg', 'frame180.jpg', 'frame258.jpg', 'frame1064.jpg', 'frame704.jpg', 'frame1183.jpg', 'frame1040.jpg', 'frame564.jpg', 'frame1192.jpg', 'frame1231.jpg', 'frame894.jpg', 'frame339.jpg', 'frame662.jpg', 'frame1067.jpg', 'frame347.jpg', 'frame807.jpg', 'frame495.jpg', 'frame618.jpg', 'frame469.jpg', 'frame594.jpg', 'frame242.jpg', 'frame111.jpg', 'frame172.jpg', 'frame491.jpg', 'frame791.jpg', 'frame710.jpg', 'frame545.jpg', 'frame667.jpg', 'frame1062.jpg', 'frame468.jpg', 'frame592.jpg', 'frame773.jpg', 'frame877.jpg', 'frame445.jpg', 'frame433.jpg', 'frame327.jpg', 'frame46.jpg', 'frame1085.jpg', 'frame156.jpg', 'frame805.jpg', 'frame1037.jpg', 'frame556.jpg', 'frame42.jpg', 'frame853.jpg', 'frame436.jpg', 'frame766.jpg', 'frame360.jpg', 'frame811.jpg', 'frame1093.jpg', 'frame857.jpg', 'frame964.jpg', 'frame412.jpg', 'frame104.jpg', 'frame679.jpg', 'frame59.jpg', 'frame628.jpg', 'frame435.jpg', 'frame518.jpg', 'frame255.jpg', 'frame752.jpg', 'frame1195.jpg', 'frame835.jpg', 'frame45.jpg', 'frame1217.jpg', 'frame579.jpg', 'frame359.jpg', 'frame1257.jpg', 'frame1089.jpg', 'frame854.jpg', 'frame312.jpg', 'frame785.jpg', 'frame670.jpg', 'frame466.jpg', 'frame97.jpg', 'frame779.jpg', 'frame1113.jpg', 'frame806.jpg', 'frame523.jpg', 'frame209.jpg', 'frame459.jpg', 'frame241.jpg', 'frame700.jpg', 'frame40.jpg', 'frame677.jpg', 'frame291.jpg', 'frame203.jpg', 'frame397.jpg', 'frame161.jpg', 'frame780.jpg', 'frame1022.jpg', 'frame1059.jpg', 'frame127.jpg', 'frame842.jpg', 'frame683.jpg', 'frame943.jpg', 'frame1240.jpg', 'frame306.jpg', 'frame348.jpg', 'frame899.jpg', 'frame931.jpg', 'frame21.jpg', 'frame53.jpg', 'frame731.jpg', 'frame1201.jpg', 'frame906.jpg', 'frame531.jpg', 'frame38.jpg', 'frame438.jpg', 'frame624.jpg', 'frame94.jpg', 'frame411.jpg', 'frame737.jpg', 'frame793.jpg', 'frame1256.jpg', 'frame500.jpg', 'frame214.jpg', 'frame1235.jpg', 'frame245.jpg', 'frame1122.jpg', 'frame1061.jpg', 'frame20.jpg', 'frame549.jpg', 'frame719.jpg', 'frame960.jpg', 'frame557.jpg', 'frame272.jpg', 'frame177.jpg', 'frame296.jpg', 'frame220.jpg', 'frame1250.jpg', 'frame278.jpg', 'frame124.jpg', 'frame317.jpg', 'frame898.jpg', 'frame189.jpg', 'frame222.jpg', 'frame552.jpg', 'frame157.jpg', 'frame1121.jpg', 'frame971.jpg', 'frame1021.jpg', 'frame444.jpg', 'frame1098.jpg', 'frame1219.jpg', 'frame824.jpg', 'frame320.jpg', 'frame1249.jpg', 'frame351.jpg', 'frame706.jpg', 'frame665.jpg', 'frame1007.jpg', 'frame1119.jpg', 'frame1220.jpg', 'frame10.jpg', 'frame1002.jpg', 'frame808.jpg', 'frame228.jpg', 'frame208.jpg', 'frame528.jpg', 'frame870.jpg', 'frame115.jpg', 'frame363.jpg', 'frame1124.jpg', 'frame1254.jpg', 'frame1133.jpg', 'frame114.jpg', 'frame458.jpg', 'frame474.jpg', 'frame1170.jpg', 'frame450.jpg', 'frame722.jpg', 'frame789.jpg', 'frame521.jpg', 'frame721.jpg', 'frame648.jpg', 'frame645.jpg', 'frame1030.jpg', 'frame958.jpg', 'frame839.jpg', \n",
    "        'frame476.jpg', 'frame49.jpg', 'frame1252.jpg', 'frame997.jpg'\n",
    "        ]\n",
    "    }"
   ]
  },
  {
   "cell_type": "code",
   "execution_count": null,
   "metadata": {},
   "outputs": [],
   "source": [
    "idendities"
   ]
  },
  {
   "cell_type": "code",
   "execution_count": 5,
   "metadata": {},
   "outputs": [],
   "source": [
    "positives = []\n",
    "\n",
    "for key, values in idendities.items():\n",
    "    \n",
    "    #print(key)\n",
    "    for i in range(0, len(values)-1):\n",
    "        for j in range(i+1, len(values)):\n",
    "            #print(values[i], \" and \", values[j])\n",
    "            positive = []\n",
    "            positive.append(values[i])\n",
    "            positive.append(values[j])\n",
    "            positives.append(positive)"
   ]
  },
  {
   "cell_type": "code",
   "execution_count": 6,
   "metadata": {},
   "outputs": [],
   "source": [
    "positives = pd.DataFrame(positives, columns = [\"file_x\", \"file_y\"])\n",
    "positives[\"decision\"] = \"Yes\""
   ]
  },
  {
   "cell_type": "code",
   "execution_count": 7,
   "metadata": {},
   "outputs": [],
   "source": [
    "samples_list = list(idendities.values())"
   ]
  },
  {
   "cell_type": "code",
   "execution_count": 8,
   "metadata": {},
   "outputs": [],
   "source": [
    "negatives = []\n",
    "\n",
    "for i in range(0, len(idendities) - 1):\n",
    "    for j in range(i+1, len(idendities)):\n",
    "        #print(samples_list[i], \" vs \",samples_list[j]) \n",
    "        cross_product = itertools.product(samples_list[i], samples_list[j])\n",
    "        cross_product = list(cross_product)\n",
    "        #print(cross_product)\n",
    "        \n",
    "        for cross_sample in cross_product:\n",
    "            #print(cross_sample[0], \" vs \", cross_sample[1])\n",
    "            negative = []\n",
    "            negative.append(cross_sample[0])\n",
    "            negative.append(cross_sample[1])\n",
    "            negatives.append(negative)"
   ]
  },
  {
   "cell_type": "code",
   "execution_count": 9,
   "metadata": {},
   "outputs": [],
   "source": [
    "negatives = pd.DataFrame(negatives, columns = [\"file_x\", \"file_y\"])\n",
    "negatives[\"decision\"] = \"No\""
   ]
  },
  {
   "cell_type": "code",
   "execution_count": 10,
   "metadata": {},
   "outputs": [],
   "source": [
    "df = pd.concat([positives, negatives]).reset_index(drop = True)"
   ]
  },
  {
   "cell_type": "code",
   "execution_count": 11,
   "metadata": {},
   "outputs": [],
   "source": [
    "negatives[\"decision\"] = \"Yes\""
   ]
  },
  {
   "cell_type": "code",
   "execution_count": 12,
   "metadata": {},
   "outputs": [
    {
     "data": {
      "text/plain": [
       "Yes    7328\n",
       "Name: decision, dtype: int64"
      ]
     },
     "execution_count": 12,
     "metadata": {},
     "output_type": "execute_result"
    }
   ],
   "source": [
    "negatives.decision.value_counts()"
   ]
  },
  {
   "cell_type": "code",
   "execution_count": 13,
   "metadata": {},
   "outputs": [],
   "source": [
    "negatives.file_x = \"droneSURF/12/\" + negatives.file_x\n",
    "negatives.file_y = \"droneSURF/12/\" + negatives.file_y"
   ]
  },
  {
   "cell_type": "code",
   "execution_count": 14,
   "metadata": {},
   "outputs": [],
   "source": [
    "instances = negatives[[\"file_x\", \"file_y\"]].values.tolist()"
   ]
  },
  {
   "cell_type": "code",
   "execution_count": 15,
   "metadata": {},
   "outputs": [
    {
     "data": {
      "text/plain": [
       "7328"
      ]
     },
     "execution_count": 15,
     "metadata": {},
     "output_type": "execute_result"
    }
   ],
   "source": [
    "len(instances)"
   ]
  },
  {
   "cell_type": "code",
   "execution_count": null,
   "metadata": {},
   "outputs": [],
   "source": [
    "instances"
   ]
  },
  {
   "cell_type": "code",
   "execution_count": 17,
   "metadata": {},
   "outputs": [],
   "source": [
    "from deepface import DeepFace\n",
    " \n",
    "model_name = \"ArcFace\"\n",
    "distance_metric = \"euclidean_l2\"\n",
    "detector_backend = 'retinaface'"
   ]
  },
  {
   "cell_type": "code",
   "execution_count": 18,
   "metadata": {},
   "outputs": [
    {
     "name": "stderr",
     "output_type": "stream",
     "text": [
      "Verification:   1%|          | 44/7328 [03:01<7:52:17,  3.89s/it]"
     ]
    }
   ],
   "source": [
    "resp_obj12 = DeepFace.verify(instances, model_name = model_name, distance_metric = distance_metric, enforce_detection = False, detector_backend = detector_backend)"
   ]
  },
  {
   "cell_type": "code",
   "execution_count": null,
   "metadata": {},
   "outputs": [],
   "source": [
    "# load json module\n",
    "import json\n",
    "\n",
    "# create json object from dictionary\n",
    "json = json.dumps(resp_obj12)\n",
    "\n",
    "# open file for writing, \"w\" \n",
    "f = open(\"dict12.json\",\"w\")\n",
    "\n",
    "# write json object to file\n",
    "f.write(json)\n",
    "\n",
    "# close file\n",
    "f.close()"
   ]
  },
  {
   "cell_type": "code",
   "execution_count": null,
   "metadata": {},
   "outputs": [],
   "source": [
    "# importing the module\n",
    "import json\n",
    " \n",
    "# Opening JSON file\n",
    "with open('dict12.json') as json_file:\n",
    "    data = json.load(json_file)"
   ]
  },
  {
   "cell_type": "code",
   "execution_count": null,
   "metadata": {},
   "outputs": [],
   "source": [
    "distances = []\n",
    "for i in range(0, len(instances)):\n",
    "    distance = round(resp_obj12[\"pair_%s\" % (i+1)][\"distance\"], 4)\n",
    "    distances.append(distance)"
   ]
  },
  {
   "cell_type": "code",
   "execution_count": null,
   "metadata": {},
   "outputs": [],
   "source": [
    "negatives[\"distance\"] = distances"
   ]
  },
  {
   "cell_type": "code",
   "execution_count": null,
   "metadata": {},
   "outputs": [],
   "source": [
    "j=0\n",
    "k=0\n",
    "for i in range(0, len(instances)):\n",
    "    if negatives.decision[i] == \"Yes\":\n",
    "        j = j + 1\n",
    "    else:\n",
    "        k = k + 1\n",
    "    "
   ]
  },
  {
   "cell_type": "code",
   "execution_count": null,
   "metadata": {},
   "outputs": [],
   "source": [
    "print(\"Number of true positive: \", j)\n",
    "print(\"Number of false positive: \", k)"
   ]
  },
  {
   "cell_type": "code",
   "execution_count": null,
   "metadata": {},
   "outputs": [],
   "source": [
    "tp_mean = round(negatives[negatives.decision == \"Yes\"].mean().values[0], 4)\n",
    "tp_std = round(negatives[negatives.decision == \"Yes\"].std().values[0], 4)\n",
    "fp_mean = round(negatives[negatives.decision == \"No\"].mean().values[0], 4)\n",
    "fp_std = round(negatives[negatives.decision == \"No\"].std().values[0], 4)"
   ]
  },
  {
   "cell_type": "code",
   "execution_count": null,
   "metadata": {},
   "outputs": [],
   "source": [
    "print(\"Mean of true positives: \", tp_mean)\n",
    "print(\"Std of true positives: \", tp_std)\n",
    "print(\"Mean of false positives: \", fp_mean)\n",
    "print(\"Std of false positives: \", fp_std)"
   ]
  },
  {
   "cell_type": "code",
   "execution_count": null,
   "metadata": {},
   "outputs": [],
   "source": [
    "negatives[negatives.decision == \"Yes\"].distance.plot.kde()\n",
    "negatives[negatives.decision == \"No\"].distance.plot.kde()"
   ]
  },
  {
   "cell_type": "code",
   "execution_count": null,
   "metadata": {},
   "outputs": [],
   "source": [
    "from chefboost import Chefboost as chef"
   ]
  },
  {
   "cell_type": "code",
   "execution_count": null,
   "metadata": {},
   "outputs": [],
   "source": [
    "config = {'algorithm': 'C4.5'}"
   ]
  },
  {
   "cell_type": "code",
   "execution_count": null,
   "metadata": {},
   "outputs": [],
   "source": [
    "tmp_df = negatives[['distance', 'decision']].rename(columns = {\"decision\": \"Decision\"}).copy()\n",
    "model = chef.fit(tmp_df, config)"
   ]
  },
  {
   "cell_type": "code",
   "execution_count": null,
   "metadata": {},
   "outputs": [],
   "source": [
    "threshold = 1.13"
   ]
  },
  {
   "cell_type": "code",
   "execution_count": null,
   "metadata": {},
   "outputs": [],
   "source": [
    "negatives[negatives.decision == 'Yes'].distance.max()"
   ]
  },
  {
   "cell_type": "code",
   "execution_count": null,
   "metadata": {},
   "outputs": [],
   "source": [
    "negatives[negatives.decision == 'No'].distance.min()"
   ]
  },
  {
   "cell_type": "code",
   "execution_count": null,
   "metadata": {},
   "outputs": [],
   "source": [
    "negatives[\"prediction\"] = \"No\""
   ]
  },
  {
   "cell_type": "code",
   "execution_count": null,
   "metadata": {},
   "outputs": [],
   "source": [
    "idx = negatives[negatives.distance <= threshold].index\n",
    "negatives.loc[idx, 'prediction'] = 'Yes'"
   ]
  },
  {
   "cell_type": "code",
   "execution_count": null,
   "metadata": {},
   "outputs": [],
   "source": [
    "negatives.sample(5)"
   ]
  },
  {
   "cell_type": "code",
   "execution_count": null,
   "metadata": {},
   "outputs": [],
   "source": [
    "cm = confusion_matrix(negatives.decision.values, negatives.prediction.values)\n",
    "cm"
   ]
  },
  {
   "cell_type": "code",
   "execution_count": null,
   "metadata": {},
   "outputs": [],
   "source": [
    "tn, fp, fn, tp = cm.ravel()\n",
    "tn, fp, fn, tp"
   ]
  },
  {
   "cell_type": "code",
   "execution_count": null,
   "metadata": {},
   "outputs": [],
   "source": [
    "recall = tp / (tp + fn)\n",
    "precision = tp / (tp + fp)\n",
    "accuracy = (tp + tn)/(tn + fp +  fn + tp)\n",
    "f1 = 2 * (precision * recall) / (precision + recall)"
   ]
  },
  {
   "cell_type": "code",
   "execution_count": null,
   "metadata": {},
   "outputs": [],
   "source": [
    "print(\"Precision: \", 100*precision,\"%\")\n",
    "print(\"Recall: \", 100*recall,\"%\")\n",
    "print(\"F1 score \",100*f1, \"%\")\n",
    "print(\"Accuracy: \", 100*accuracy,\"%\")"
   ]
  },
  {
   "cell_type": "code",
   "execution_count": null,
   "metadata": {},
   "outputs": [],
   "source": [
    "negatives.to_csv(\"P12.csv\", index = False)"
   ]
  }
 ],
 "metadata": {
  "kernelspec": {
   "display_name": "Python 3.8.10 64-bit",
   "language": "python",
   "name": "python3"
  },
  "language_info": {
   "codemirror_mode": {
    "name": "ipython",
    "version": 3
   },
   "file_extension": ".py",
   "mimetype": "text/x-python",
   "name": "python",
   "nbconvert_exporter": "python",
   "pygments_lexer": "ipython3",
   "version": "3.8.10"
  },
  "orig_nbformat": 4,
  "vscode": {
   "interpreter": {
    "hash": "e7370f93d1d0cde622a1f8e1c04877d8463912d04d973331ad4851f04de6915a"
   }
  }
 },
 "nbformat": 4,
 "nbformat_minor": 2
}
