{
 "cells": [
  {
   "cell_type": "code",
   "execution_count": 8,
   "metadata": {},
   "outputs": [],
   "source": [
    "import os\n",
    "file_list=os.listdir(r\"/home/mohamad/Downloads/Deep (1)/droneSURF/ActiveTracking/Evening/Location1/11,12/2018_03_11_18_07_21/Person11\")\n",
    "type(file_list)\n",
    "file_list.remove('coordinates.txt')"
   ]
  },
  {
   "cell_type": "code",
   "execution_count": 9,
   "metadata": {},
   "outputs": [
    {
     "data": {
      "text/plain": [
       "1236"
      ]
     },
     "execution_count": 9,
     "metadata": {},
     "output_type": "execute_result"
    }
   ],
   "source": [
    "len(file_list)"
   ]
  },
  {
   "cell_type": "code",
   "execution_count": 6,
   "metadata": {},
   "outputs": [
    {
     "name": "stdout",
     "output_type": "stream",
     "text": [
      "Done\n"
     ]
    }
   ],
   "source": [
    "# open file in write mode\n",
    "\n",
    "with open(r'/home/mohamad/Downloads/Deep (1)/p2.txt', 'w') as fp:\n",
    "\n",
    "    for item in file_list:\n",
    "\n",
    "        # write each item on a new line\n",
    "\n",
    "        fp.write(\"'%s', \" % item)\n",
    "\n",
    "    print('Done')"
   ]
  },
  {
   "cell_type": "code",
   "execution_count": 2,
   "metadata": {},
   "outputs": [],
   "source": [
    "import pandas as pd\n",
    "import itertools\n",
    "from sklearn.metrics import confusion_matrix\n",
    "from tqdm import tqdm\n",
    "# tqdm.pandas()"
   ]
  },
  {
   "cell_type": "code",
   "execution_count": 3,
   "metadata": {},
   "outputs": [],
   "source": [
    "idendities = {\n",
    "    \"1\": [\"down.jpg\", \"front.jpg\", \"sideleft.jpg\", \"sideright.jpg\"],\n",
    "    \"2\": [\n",
    "        'frame750.jpg', 'frame674.jpg', 'frame482.jpg', 'frame1072.jpg', 'frame1272.jpg', 'frame946.jpg', 'frame769.jpg', 'frame940.jpg', 'frame349.jpg', 'frame394.jpg', 'frame279.jpg', 'frame893.jpg', 'frame649.jpg', 'frame191.jpg', 'frame344.jpg', 'frame891.jpg', 'frame1011.jpg', 'frame330.jpg', 'frame200.jpg', 'frame479.jpg', 'frame194.jpg', 'frame192.jpg', 'frame492.jpg', 'frame991.jpg', 'frame197.jpg', 'frame393.jpg', 'frame365.jpg', 'frame593.jpg', 'frame372.jpg', 'frame1083.jpg', 'frame35.jpg', 'frame290.jpg', 'frame257.jpg', 'frame690.jpg', 'frame585.jpg', 'frame198.jpg', 'frame1191.jpg', 'frame553.jpg', 'frame993.jpg', 'frame1102.jpg', 'frame34.jpg', 'frame1140.jpg', 'frame1045.jpg', 'frame529.jpg', 'frame996.jpg', 'frame307.jpg', 'frame813.jpg', 'frame188.jpg', 'frame434.jpg', 'frame223.jpg', 'frame1049.jpg', 'frame176.jpg', 'frame181.jpg', 'frame483.jpg', 'frame1008.jpg', 'frame829.jpg', 'frame509.jpg', 'frame47.jpg', 'frame1032.jpg', 'frame767.jpg', 'frame106.jpg', 'frame1099.jpg', 'frame1069.jpg', 'frame1101.jpg', 'frame921.jpg', 'frame828.jpg', 'frame927.jpg', 'frame759.jpg', 'frame62.jpg', 'frame520.jpg', 'frame427.jpg', 'frame502.jpg', 'frame1139.jpg', 'frame395.jpg', 'frame239.jpg', 'frame1265.jpg', 'frame629.jpg', 'frame303.jpg', 'frame425.jpg', 'frame1027.jpg', 'frame938.jpg', 'frame416.jpg', 'frame51.jpg', 'frame955.jpg', 'frame118.jpg', 'frame166.jpg', 'frame572.jpg', 'frame1146.jpg', 'frame143.jpg', 'frame1236.jpg', 'frame353.jpg', 'frame948.jpg', 'frame1009.jpg', 'frame663.jpg', 'frame309.jpg', 'frame122.jpg', 'frame286.jpg', 'frame693.jpg', 'frame328.jpg', 'frame1126.jpg', 'frame815.jpg', 'frame71.jpg', 'frame297.jpg', 'frame298.jpg', 'frame566.jpg', 'frame486.jpg', 'frame974.jpg', 'frame685.jpg', 'frame742.jpg', 'frame1267.jpg', 'frame858.jpg', 'frame362.jpg', 'frame1086.jpg', 'frame326.jpg', 'frame9.jpg', 'frame266.jpg', 'frame110.jpg', 'frame519.jpg', 'frame1208.jpg', 'frame234.jpg', 'frame72.jpg', 'frame1259.jpg', 'frame654.jpg', 'frame874.jpg', 'frame1028.jpg', 'frame786.jpg', 'frame961.jpg', 'frame392.jpg', 'frame1180.jpg', 'frame717.jpg', 'frame1137.jpg', 'frame755.jpg', 'frame827.jpg', 'frame515.jpg', 'frame530.jpg', 'frame370.jpg', 'frame749.jpg', 'frame597.jpg', 'frame457.jpg', 'frame1081.jpg', 'frame1054.jpg', 'frame432.jpg', 'frame5.jpg', 'frame1127.jpg', 'frame951.jpg', 'frame1043.jpg', 'frame490.jpg', 'frame1193.jpg', 'frame190.jpg', 'frame431.jpg', 'frame237.jpg', 'frame366.jpg', 'frame259.jpg', 'frame1246.jpg', 'frame640.jpg', 'frame1145.jpg', 'frame778.jpg', 'frame546.jpg', 'frame417.jpg', 'frame714.jpg', 'frame668.jpg', 'frame583.jpg', 'frame936.jpg', 'frame623.jpg', 'frame246.jpg', 'frame635.jpg', 'frame825.jpg', 'frame768.jpg', 'frame866.jpg', 'frame798.jpg', 'frame702.jpg', 'frame1203.jpg', 'frame1207.jpg', 'frame970.jpg', 'frame57.jpg', 'frame703.jpg', 'frame422.jpg', 'frame843.jpg', 'frame1118.jpg', 'frame680.jpg', 'frame1258.jpg', 'frame437.jpg', 'frame329.jpg', 'frame577.jpg', 'frame1247.jpg', 'frame569.jpg', 'frame162.jpg', 'frame1015.jpg', 'frame355.jpg', 'frame1073.jpg', 'frame460.jpg', 'frame1242.jpg', 'frame754.jpg', 'frame876.jpg', 'frame1153.jpg', 'frame926.jpg', 'frame409.jpg', 'frame7.jpg', 'frame567.jpg', 'frame881.jpg', 'frame992.jpg', 'frame311.jpg', 'frame1143.jpg', 'frame377.jpg', 'frame401.jpg', 'frame771.jpg', 'frame420.jpg', 'frame655.jpg', 'frame107.jpg', 'frame1263.jpg', 'frame999.jpg', 'frame429.jpg', 'frame1154.jpg', 'frame1228.jpg', 'frame256.jpg', 'frame1105.jpg', 'frame321.jpg', 'frame954.jpg', 'frame415.jpg', 'frame976.jpg', 'frame909.jpg', 'frame287.jpg', 'frame846.jpg', 'frame55.jpg', 'frame678.jpg', 'frame11.jpg', 'frame232.jpg', 'frame1226.jpg', 'frame1076.jpg', 'frame574.jpg', 'frame25.jpg', 'frame716.jpg', 'frame1070.jpg', 'frame382.jpg', 'frame315.jpg', 'frame540.jpg', 'frame619.jpg', 'frame751.jpg', 'frame283.jpg', 'frame308.jpg', 'frame660.jpg', 'frame609.jpg', 'frame501.jpg', 'frame254.jpg', 'frame929.jpg', 'frame41.jpg', 'frame729.jpg', 'frame563.jpg', 'frame871.jpg', 'frame23.jpg', 'frame1213.jpg', 'frame202.jpg', 'frame861.jpg', 'frame636.jpg', 'frame831.jpg', 'frame263.jpg', 'frame627.jpg', 'frame661.jpg', 'frame76.jpg', 'frame1063.jpg', 'frame1179.jpg', 'frame1189.jpg', 'frame60.jpg', 'frame1035.jpg', 'frame763.jpg', 'frame975.jpg', 'frame43.jpg', 'frame335.jpg', 'frame973.jpg', 'frame803.jpg', 'frame1047.jpg', 'frame288.jpg', 'frame384.jpg', 'frame1051.jpg', 'frame146.jpg', 'frame456.jpg', 'frame568.jpg', 'frame614.jpg', 'frame496.jpg', 'frame836.jpg', 'frame22.jpg', 'frame1132.jpg', 'frame862.jpg', 'frame163.jpg', 'frame626.jpg', 'frame1138.jpg', 'frame116.jpg', 'frame845.jpg', 'frame963.jpg', 'frame753.jpg', 'frame1104.jpg', 'frame340.jpg', 'frame1023.jpg', 'frame823.jpg', 'frame414.jpg', 'frame125.jpg', 'frame150.jpg', 'frame869.jpg', 'frame915.jpg', 'frame834.jpg', 'frame109.jpg', 'frame1171.jpg', 'frame1234.jpg', 'frame333.jpg', 'frame175.jpg', 'frame987.jpg', 'frame253.jpg', 'frame797.jpg', 'frame1092.jpg', 'frame452.jpg', 'frame844.jpg', 'frame187.jpg', 'frame889.jpg', 'frame576.jpg', 'frame544.jpg', 'frame925.jpg', 'frame783.jpg', 'frame206.jpg', 'frame814.jpg', 'frame565.jpg', 'frame44.jpg', 'frame268.jpg', 'frame941.jpg', 'frame275.jpg', 'frame505.jpg', 'frame447.jpg', 'frame1077.jpg', 'frame1253.jpg', 'frame282.jpg', 'frame933.jpg', 'frame664.jpg', 'frame886.jpg', 'frame910.jpg', 'frame790.jpg', 'frame656.jpg', 'frame1156.jpg', 'frame917.jpg', 'frame1214.jpg', 'frame50.jpg', 'frame252.jpg', 'frame506.jpg', 'frame507.jpg', 'frame972.jpg', 'frame158.jpg', 'frame219.jpg', 'frame782.jpg', 'frame1031.jpg', 'frame820.jpg', 'frame402.jpg', 'frame965.jpg', 'frame345.jpg', 'frame77.jpg', 'frame267.jpg', 'frame1232.jpg', 'frame1019.jpg', 'frame580.jpg', 'frame1209.jpg', 'frame396.jpg', 'frame639.jpg', 'frame1087.jpg', 'frame591.jpg', 'frame969.jpg', 'frame1165.jpg', 'frame244.jpg', 'frame1206.jpg', 'frame875.jpg', 'frame1084.jpg', 'frame508.jpg', 'frame1178.jpg', 'frame204.jpg', 'frame463.jpg', 'frame141.jpg', 'frame930.jpg', 'frame1050.jpg', 'frame980.jpg', 'frame621.jpg', 'frame144.jpg', 'frame887.jpg', 'frame605.jpg', 'frame131.jpg', 'frame1182.jpg', 'frame725.jpg', 'frame723.jpg', 'frame599.jpg', 'frame584.jpg', 'frame332.jpg', 'frame1108.jpg', 'frame1221.jpg', 'frame761.jpg', 'frame243.jpg', 'frame1260.jpg', 'frame692.jpg', 'frame1058.jpg', 'frame1005.jpg', 'frame666.jpg', 'frame800.jpg', 'frame1148.jpg', 'frame582.jpg', 'frame868.jpg', 'frame543.jpg', 'frame165.jpg', 'frame75.jpg', 'frame694.jpg', 'frame701.jpg', 'frame19.jpg', 'frame1239.jpg', 'frame1116.jpg', 'frame1097.jpg', 'frame418.jpg', 'frame539.jpg', 'frame1042.jpg', 'frame1090.jpg', 'frame598.jpg', 'frame856.jpg', 'frame149.jpg', 'frame918.jpg', 'frame848.jpg', 'frame310.jpg', 'frame1233.jpg', 'frame1255.jpg', 'frame1044.jpg', 'frame2.jpg', 'frame747.jpg', 'frame575.jpg', 'frame1088.jpg', 'frame587.jpg', 'frame851.jpg', 'frame478.jpg', 'frame488.jpg', 'frame644.jpg', 'frame801.jpg', 'frame102.jpg', 'frame261.jpg', 'frame711.jpg', 'frame1071.jpg', 'frame865.jpg', 'frame616.jpg', 'frame1166.jpg', 'frame213.jpg', 'frame453.jpg', 'frame653.jpg', 'frame201.jpg', 'frame271.jpg', 'frame66.jpg', 'frame631.jpg', 'frame744.jpg', 'frame322.jpg', 'frame1227.jpg', 'frame406.jpg', 'frame350.jpg', 'frame302.jpg', 'frame1155.jpg', 'frame270.jpg', 'frame1060.jpg', 'frame1046.jpg', 'frame787.jpg', 'frame536.jpg', 'frame542.jpg', 'frame630.jpg', 'frame1053.jpg', 'frame475.jpg', 'frame205.jpg', 'frame430.jpg', 'frame942.jpg', 'frame985.jpg', 'frame12.jpg', 'frame830.jpg', 'frame561.jpg', 'frame589.jpg', 'frame221.jpg', 'frame148.jpg', 'frame1197.jpg', 'frame504.jpg', 'frame968.jpg', 'frame912.jpg', 'frame990.jpg', 'frame578.jpg', 'frame1033.jpg', 'frame1152.jpg', 'frame986.jpg', 'frame736.jpg', 'frame588.jpg', 'frame516.jpg', 'frame953.jpg', 'frame1266.jpg', 'frame183.jpg', 'frame314.jpg', 'frame1204.jpg', 'frame440.jpg', 'frame421.jpg', 'frame696.jpg', 'frame1168.jpg', 'frame281.jpg', 'frame1270.jpg', 'frame1264.jpg', 'frame13.jpg', 'frame30.jpg', 'frame947.jpg', 'frame517.jpg', 'frame646.jpg', 'frame26.jpg', 'frame1188.jpg', 'frame226.jpg', 'frame775.jpg', 'frame449.jpg', 'frame1176.jpg', 'frame233.jpg', 'frame602.jpg', 'frame1164.jpg', 'frame319.jpg', 'frame878.jpg', 'frame982.jpg', 'frame1174.jpg', 'frame448.jpg', 'frame249.jpg', 'frame487.jpg', 'frame795.jpg', 'frame633.jpg', 'frame772.jpg', 'frame885.jpg', 'frame375.jpg', 'frame407.jpg', 'frame950.jpg', 'frame892.jpg', 'frame404.jpg', 'frame809.jpg', 'frame341.jpg', 'frame334.jpg', 'frame896.jpg', 'frame1026.jpg', 'frame652.jpg', 'frame385.jpg', 'frame211.jpg', 'frame613.jpg', 'frame54.jpg', 'frame905.jpg', 'frame904.jpg', 'frame675.jpg', 'frame612.jpg', 'frame1202.jpg', 'frame142.jpg', 'frame895.jpg', 'frame1196.jpg', 'frame922.jpg', 'frame1056.jpg', 'frame18.jpg', 'frame1157.jpg', 'frame924.jpg', 'frame833.jpg', 'frame1172.jpg', 'frame707.jpg', 'frame978.jpg', 'frame1001.jpg', 'frame1055.jpg', 'frame1151.jpg', 'frame1120.jpg', 'frame855.jpg', 'frame56.jpg', 'frame1048.jpg', 'frame724.jpg', 'frame171.jpg', 'frame386.jpg', 'frame837.jpg', 'frame681.jpg', 'frame1218.jpg', 'frame781.jpg', 'frame1194.jpg', 'frame439.jpg', 'frame229.jpg', 'frame1013.jpg', 'frame454.jpg', 'frame804.jpg', 'frame174.jpg', 'frame928.jpg', 'frame1215.jpg', 'frame119.jpg', 'frame847.jpg', 'frame117.jpg', 'frame774.jpg', 'frame1038.jpg', 'frame136.jpg', 'frame489.jpg', 'frame361.jpg', 'frame573.jpg', 'frame637.jpg', 'frame1177.jpg', 'frame682.jpg', 'frame473.jpg', 'frame159.jpg', 'frame784.jpg', 'frame1269.jpg', 'frame984.jpg', 'frame293.jpg', 'frame732.jpg', 'frame734.jpg', 'frame720.jpg', 'frame738.jpg', 'frame1190.jpg', 'frame48.jpg', 'frame63.jpg', 'frame1225.jpg', 'frame1091.jpg', 'frame916.jpg', 'frame1074.jpg', 'frame1199.jpg', 'frame914.jpg', 'frame369.jpg', 'frame356.jpg', 'frame168.jpg', 'frame762.jpg', 'frame1010.jpg', 'frame571.jpg', 'frame511.jpg', \n",
    "        'frame80.jpg', 'frame884.jpg', 'frame672.jpg', 'frame1078.jpg', 'frame1134.jpg', 'frame151.jpg', 'frame299.jpg', 'frame818.jpg', 'frame419.jpg', 'frame178.jpg', 'frame227.jpg', 'frame1006.jpg', 'frame689.jpg', 'frame1041.jpg', 'frame966.jpg', 'frame160.jpg', 'frame1123.jpg', 'frame1248.jpg', 'frame164.jpg', 'frame129.jpg', 'frame1159.jpg', 'frame1181.jpg', 'frame659.jpg', 'frame733.jpg', 'frame1115.jpg', 'frame1052.jpg', 'frame1025.jpg', 'frame480.jpg', 'frame207.jpg', 'frame864.jpg', 'frame1216.jpg', 'frame343.jpg', 'frame357.jpg', 'frame1117.jpg', 'frame691.jpg', 'frame610.jpg', 'frame1184.jpg', 'frame699.jpg', 'frame1129.jpg', 'frame756.jpg', 'frame537.jpg', 'frame883.jpg', 'frame128.jpg', 'frame443.jpg', 'frame494.jpg', 'frame952.jpg', 'frame428.jpg', 'frame728.jpg', 'frame1243.jpg', 'frame1173.jpg', 'frame391.jpg', 'frame481.jpg', 'frame852.jpg', 'frame697.jpg', 'frame988.jpg', 'frame231.jpg', 'frame410.jpg', 'frame620.jpg', 'frame867.jpg', 'frame643.jpg', 'frame64.jpg', 'frame939.jpg', 'frame607.jpg', 'frame1095.jpg', 'frame467.jpg', 'frame1103.jpg', 'frame838.jpg', 'frame493.jpg', 'frame603.jpg', 'frame913.jpg', 'frame989.jpg', 'frame37.jpg', 'frame133.jpg', 'frame123.jpg', 'frame1110.jpg', 'frame1147.jpg', 'frame513.jpg', 'frame1029.jpg', 'frame134.jpg', 'frame821.jpg', 'frame739.jpg', 'frame294.jpg', 'frame193.jpg', 'frame718.jpg', 'frame617.jpg', 'frame615.jpg', 'frame841.jpg', 'frame446.jpg', 'frame817.jpg', 'frame78.jpg', 'frame74.jpg', 'frame581.jpg', 'frame1150.jpg', 'frame371.jpg', 'frame173.jpg', 'frame863.jpg', 'frame379.jpg', 'frame743.jpg', 'frame510.jpg', 'frame897.jpg', 'frame872.jpg', 'frame390.jpg', 'frame367.jpg', 'frame860.jpg', 'frame998.jpg', 'frame1057.jpg', 'frame29.jpg', 'frame108.jpg', 'frame167.jpg', 'frame741.jpg', 'frame1167.jpg', 'frame770.jpg', 'frame1100.jpg', 'frame224.jpg', 'frame715.jpg', 'frame849.jpg', 'frame1271.jpg', 'frame554.jpg', 'frame608.jpg', 'frame541.jpg', 'frame1241.jpg', 'frame1068.jpg', 'frame590.jpg', 'frame932.jpg', 'frame1210.jpg', 'frame342.jpg', 'frame740.jpg', 'frame934.jpg', 'frame522.jpg', 'frame251.jpg', 'frame1244.jpg', 'frame1262.jpg', 'frame230.jpg', 'frame873.jpg', 'frame179.jpg', 'frame810.jpg', 'frame112.jpg', 'frame441.jpg', 'frame1036.jpg', 'frame471.jpg', 'frame901.jpg', 'frame36.jpg', 'frame497.jpg', 'frame879.jpg', 'frame155.jpg', 'frame832.jpg', 'frame788.jpg', 'frame1162.jpg', 'frame262.jpg', 'frame184.jpg', 'frame1273.jpg', 'frame499.jpg', 'frame882.jpg', 'frame182.jpg', 'frame859.jpg', 'frame484.jpg', 'frame33.jpg', 'frame562.jpg', 'frame983.jpg', 'frame301.jpg', 'frame1224.jpg', 'frame240.jpg', 'frame601.jpg', 'frame903.jpg', 'frame8.jpg', 'frame745.jpg', 'frame1251.jpg', 'frame559.jpg', 'frame137.jpg', 'frame840.jpg', 'frame713.jpg', 'frame1024.jpg', 'frame890.jpg', 'frame647.jpg', 'frame145.jpg', 'frame260.jpg', 'frame1186.jpg', 'frame1020.jpg', 'frame336.jpg', 'frame1160.jpg', 'frame113.jpg', 'frame812.jpg', 'frame304.jpg', 'frame962.jpg', 'frame292.jpg', 'frame560.jpg', 'frame977.jpg', 'frame374.jpg', 'frame218.jpg', 'frame923.jpg', 'frame551.jpg', 'frame17.jpg', 'frame323.jpg', 'frame1003.jpg', 'frame331.jpg', 'frame765.jpg', 'frame1080.jpg', 'frame937.jpg', 'frame358.jpg', 'frame548.jpg', 'frame595.jpg', 'frame524.jpg', 'frame169.jpg', 'frame758.jpg', 'frame669.jpg', 'frame1014.jpg', 'frame248.jpg', 'frame657.jpg', 'frame1200.jpg', 'frame28.jpg', 'frame31.jpg', 'frame538.jpg', 'frame514.jpg', 'frame920.jpg', 'frame388.jpg', 'frame215.jpg', 'frame52.jpg', 'frame981.jpg', 'frame105.jpg', 'frame170.jpg', 'frame235.jpg', 'frame199.jpg', 'frame850.jpg', 'frame1230.jpg', 'frame6.jpg', 'frame216.jpg', 'frame185.jpg', 'frame1185.jpg', 'frame1039.jpg', 'frame777.jpg', 'frame907.jpg', 'frame902.jpg', 'frame1212.jpg', 'frame698.jpg', 'frame284.jpg', 'frame477.jpg', 'frame625.jpg', 'frame1205.jpg', 'frame73.jpg', 'frame1125.jpg', 'frame799.jpg', 'frame911.jpg', 'frame61.jpg', 'frame470.jpg', 'frame1130.jpg', 'frame324.jpg', 'frame1187.jpg', 'frame354.jpg', 'frame389.jpg', 'frame1222.jpg', 'frame4.jpg', 'frame638.jpg', 'frame596.jpg', 'frame140.jpg', 'frame1211.jpg', 'frame641.jpg', 'frame688.jpg', 'frame634.jpg', 'frame1149.jpg', 'frame695.jpg', 'frame138.jpg', 'frame748.jpg', 'frame15.jpg', 'frame120.jpg', 'frame776.jpg', 'frame650.jpg', 'frame387.jpg', 'frame1245.jpg', 'frame826.jpg', 'frame726.jpg', 'frame735.jpg', 'frame705.jpg', 'frame687.jpg', 'frame1128.jpg', 'frame526.jpg', 'frame760.jpg', 'frame632.jpg', 'frame709.jpg', 'frame1094.jpg', 'frame264.jpg', 'frame451.jpg', 'frame796.jpg', 'frame1237.jpg', 'frame300.jpg', 'frame1075.jpg', 'frame1034.jpg', 'frame442.jpg', 'frame671.jpg', 'frame210.jpg', 'frame550.jpg', 'frame126.jpg', 'frame465.jpg', 'frame426.jpg', 'frame512.jpg', 'frame313.jpg', 'frame979.jpg', 'frame822.jpg', 'frame24.jpg', 'frame1079.jpg', 'frame139.jpg', 'frame316.jpg', 'frame368.jpg', 'frame196.jpg', 'frame405.jpg', 'frame606.jpg', 'frame3.jpg', 'frame525.jpg', 'frame1066.jpg', 'frame673.jpg', 'frame1223.jpg', 'frame39.jpg', 'frame265.jpg', 'frame14.jpg', 'frame746.jpg', 'frame658.jpg', 'frame1112.jpg', 'frame413.jpg', 'frame1169.jpg', 'frame534.jpg', 'frame424.jpg', 'frame79.jpg', 'frame1082.jpg', 'frame959.jpg', 'frame708.jpg', 'frame802.jpg', 'frame611.jpg', 'frame27.jpg', 'frame794.jpg', 'frame1144.jpg', 'frame65.jpg', 'frame132.jpg', 'frame373.jpg', 'frame919.jpg', 'frame325.jpg', 'frame1198.jpg', 'frame280.jpg', 'frame764.jpg', 'frame535.jpg', 'frame273.jpg', 'frame1268.jpg', 'frame236.jpg', 'frame364.jpg', 'frame70.jpg', 'frame676.jpg', 'frame1261.jpg', 'frame1158.jpg', 'frame498.jpg', 'frame1111.jpg', 'frame1012.jpg', 'frame121.jpg', 'frame225.jpg', 'frame727.jpg', 'frame423.jpg', 'frame935.jpg', 'frame69.jpg', 'frame400.jpg', 'frame269.jpg', 'frame403.jpg', 'frame1016.jpg', 'frame570.jpg', 'frame642.jpg', 'frame604.jpg', 'frame949.jpg', 'frame147.jpg', 'frame888.jpg', 'frame819.jpg', 'frame967.jpg', 'frame586.jpg', 'frame16.jpg', 'frame1004.jpg', 'frame1018.jpg', 'frame1017.jpg', 'frame908.jpg', 'frame1238.jpg', 'frame1229.jpg', 'frame555.jpg', 'frame383.jpg', 'frame195.jpg', 'frame380.jpg', 'frame250.jpg', 'frame399.jpg', 'frame462.jpg', 'frame1163.jpg', 'frame154.jpg', 'frame135.jpg', 'frame485.jpg', 'frame558.jpg', 'frame378.jpg', 'frame957.jpg', 'frame503.jpg', 'frame547.jpg', 'frame338.jpg', 'frame352.jpg', 'frame1065.jpg', 'frame956.jpg', 'frame212.jpg', 'frame686.jpg', 'frame274.jpg', 'frame600.jpg', 'frame130.jpg', 'frame472.jpg', 'frame651.jpg', 'frame900.jpg', 'frame455.jpg', 'frame408.jpg', 'frame712.jpg', 'frame1114.jpg', 'frame995.jpg', 'frame398.jpg', 'frame1000.jpg', 'frame376.jpg', 'frame318.jpg', 'frame994.jpg', 'frame945.jpg', 'frame1096.jpg', 'frame757.jpg', 'frame816.jpg', 'frame684.jpg', 'frame1175.jpg', 'frame289.jpg', 'frame622.jpg', 'frame247.jpg', 'frame527.jpg', 'frame1161.jpg', 'frame381.jpg', 'frame1141.jpg', 'frame217.jpg', 'frame295.jpg', 'frame337.jpg', 'frame464.jpg', 'frame880.jpg', 'frame1131.jpg', 'frame186.jpg', 'frame1142.jpg', 'frame238.jpg', 'frame101.jpg', 'frame285.jpg', 'frame1109.jpg', 'frame944.jpg', 'frame58.jpg', 'frame103.jpg', 'frame305.jpg', 'frame792.jpg', 'frame32.jpg', 'frame461.jpg', 'frame180.jpg', 'frame258.jpg', 'frame1064.jpg', 'frame704.jpg', 'frame1183.jpg', 'frame1040.jpg', 'frame564.jpg', 'frame1192.jpg', 'frame1231.jpg', 'frame894.jpg', 'frame339.jpg', 'frame662.jpg', 'frame1067.jpg', 'frame807.jpg', 'frame495.jpg', 'frame618.jpg', 'frame469.jpg', 'frame594.jpg', 'frame242.jpg', 'frame111.jpg', 'frame172.jpg', 'frame491.jpg', 'frame791.jpg', 'frame710.jpg', 'frame545.jpg', 'frame667.jpg', 'frame1062.jpg', 'frame468.jpg', 'frame592.jpg', 'frame773.jpg', 'frame877.jpg', 'frame445.jpg', 'frame433.jpg', 'frame327.jpg', 'frame46.jpg', 'frame1085.jpg', 'frame156.jpg', 'frame805.jpg', 'frame1037.jpg', 'frame556.jpg', 'frame42.jpg', 'frame853.jpg', 'frame436.jpg', 'frame766.jpg', 'frame360.jpg', 'frame811.jpg', 'frame1093.jpg', 'frame857.jpg', 'frame964.jpg', 'frame412.jpg', 'frame104.jpg', 'frame679.jpg', 'frame59.jpg', 'frame628.jpg', 'frame435.jpg', 'frame518.jpg', 'frame255.jpg', 'frame752.jpg', 'frame1195.jpg', 'frame835.jpg', 'frame45.jpg', 'frame1217.jpg', 'frame579.jpg', 'frame359.jpg', 'frame1257.jpg', 'frame1089.jpg', 'frame854.jpg', 'frame312.jpg', 'frame785.jpg', 'frame670.jpg', 'frame466.jpg', 'frame779.jpg', 'frame1113.jpg', 'frame806.jpg', 'frame523.jpg', 'frame209.jpg', 'frame459.jpg', 'frame241.jpg', 'frame700.jpg', 'frame40.jpg', 'frame677.jpg', 'frame291.jpg', 'frame203.jpg', 'frame397.jpg', 'frame161.jpg', 'frame780.jpg', 'frame1022.jpg', 'frame1059.jpg', 'frame127.jpg', 'frame842.jpg', 'frame683.jpg', 'frame943.jpg', 'frame1240.jpg', 'frame306.jpg', 'frame348.jpg', 'frame899.jpg', 'frame931.jpg', 'frame21.jpg', 'frame53.jpg', 'frame1201.jpg', 'frame906.jpg', 'frame531.jpg', 'frame38.jpg', 'frame438.jpg', 'frame624.jpg', 'frame411.jpg', 'frame737.jpg', 'frame793.jpg', 'frame1256.jpg', 'frame500.jpg', 'frame214.jpg', 'frame1235.jpg', 'frame245.jpg', 'frame1122.jpg', 'frame1061.jpg', 'frame20.jpg', 'frame549.jpg', 'frame719.jpg', 'frame960.jpg', 'frame557.jpg', 'frame272.jpg', 'frame177.jpg', 'frame296.jpg', 'frame220.jpg', 'frame1250.jpg', 'frame278.jpg', 'frame124.jpg', 'frame317.jpg', 'frame898.jpg', 'frame189.jpg', 'frame222.jpg', 'frame552.jpg', 'frame157.jpg', 'frame1121.jpg', 'frame971.jpg', 'frame1021.jpg', 'frame444.jpg', 'frame1098.jpg', 'frame1219.jpg', 'frame824.jpg', 'frame320.jpg', 'frame1249.jpg', 'frame351.jpg', 'frame706.jpg', 'frame665.jpg', 'frame1007.jpg', 'frame1119.jpg', 'frame1220.jpg', 'frame10.jpg', 'frame1002.jpg', 'frame808.jpg', 'frame228.jpg', 'frame208.jpg', 'frame528.jpg', 'frame870.jpg', 'frame115.jpg', 'frame363.jpg', 'frame1124.jpg', 'frame1254.jpg', 'frame1133.jpg', 'frame114.jpg', 'frame458.jpg', 'frame474.jpg', 'frame1170.jpg', 'frame450.jpg', 'frame722.jpg', 'frame789.jpg', 'frame521.jpg', 'frame721.jpg', 'frame648.jpg', 'frame645.jpg', 'frame1030.jpg', \n",
    "        'frame958.jpg', 'frame839.jpg', 'frame476.jpg', 'frame49.jpg', 'frame1252.jpg', 'frame997.jpg'\n",
    "    ]\n",
    "    }"
   ]
  },
  {
   "cell_type": "code",
   "execution_count": null,
   "metadata": {},
   "outputs": [],
   "source": [
    "idendities"
   ]
  },
  {
   "cell_type": "code",
   "execution_count": 5,
   "metadata": {},
   "outputs": [],
   "source": [
    "positives = []\n",
    "\n",
    "for key, values in idendities.items():\n",
    "    \n",
    "    #print(key)\n",
    "    for i in range(0, len(values)-1):\n",
    "        for j in range(i+1, len(values)):\n",
    "            #print(values[i], \" and \", values[j])\n",
    "            positive = []\n",
    "            positive.append(values[i])\n",
    "            positive.append(values[j])\n",
    "            positives.append(positive)"
   ]
  },
  {
   "cell_type": "code",
   "execution_count": 6,
   "metadata": {},
   "outputs": [],
   "source": [
    "positives = pd.DataFrame(positives, columns = [\"file_x\", \"file_y\"])\n",
    "positives[\"decision\"] = \"Yes\""
   ]
  },
  {
   "cell_type": "code",
   "execution_count": 7,
   "metadata": {},
   "outputs": [],
   "source": [
    "samples_list = list(idendities.values())"
   ]
  },
  {
   "cell_type": "code",
   "execution_count": 8,
   "metadata": {},
   "outputs": [],
   "source": [
    "negatives = []\n",
    "\n",
    "for i in range(0, len(idendities) - 1):\n",
    "    for j in range(i+1, len(idendities)):\n",
    "        #print(samples_list[i], \" vs \",samples_list[j]) \n",
    "        cross_product = itertools.product(samples_list[i], samples_list[j])\n",
    "        cross_product = list(cross_product)\n",
    "        #print(cross_product)\n",
    "        \n",
    "        for cross_sample in cross_product:\n",
    "            #print(cross_sample[0], \" vs \", cross_sample[1])\n",
    "            negative = []\n",
    "            negative.append(cross_sample[0])\n",
    "            negative.append(cross_sample[1])\n",
    "            negatives.append(negative)"
   ]
  },
  {
   "cell_type": "code",
   "execution_count": 9,
   "metadata": {},
   "outputs": [],
   "source": [
    "negatives = pd.DataFrame(negatives, columns = [\"file_x\", \"file_y\"])\n",
    "negatives[\"decision\"] = \"No\""
   ]
  },
  {
   "cell_type": "code",
   "execution_count": 10,
   "metadata": {},
   "outputs": [],
   "source": [
    "df = pd.concat([positives, negatives]).reset_index(drop = True)"
   ]
  },
  {
   "cell_type": "code",
   "execution_count": 11,
   "metadata": {},
   "outputs": [],
   "source": [
    "negatives[\"decision\"] = \"Yes\""
   ]
  },
  {
   "cell_type": "code",
   "execution_count": 12,
   "metadata": {},
   "outputs": [
    {
     "data": {
      "text/plain": [
       "Yes    7328\n",
       "Name: decision, dtype: int64"
      ]
     },
     "execution_count": 12,
     "metadata": {},
     "output_type": "execute_result"
    }
   ],
   "source": [
    "negatives.decision.value_counts()"
   ]
  },
  {
   "cell_type": "code",
   "execution_count": 13,
   "metadata": {},
   "outputs": [],
   "source": [
    "negatives.file_x = \"droneSURF/11/\" + negatives.file_x\n",
    "negatives.file_y = \"droneSURF/11/\" + negatives.file_y"
   ]
  },
  {
   "cell_type": "code",
   "execution_count": 14,
   "metadata": {},
   "outputs": [],
   "source": [
    "instances = negatives[[\"file_x\", \"file_y\"]].values.tolist()"
   ]
  },
  {
   "cell_type": "code",
   "execution_count": 15,
   "metadata": {},
   "outputs": [
    {
     "data": {
      "text/plain": [
       "7328"
      ]
     },
     "execution_count": 15,
     "metadata": {},
     "output_type": "execute_result"
    }
   ],
   "source": [
    "len(instances)"
   ]
  },
  {
   "cell_type": "code",
   "execution_count": null,
   "metadata": {},
   "outputs": [],
   "source": [
    "instances"
   ]
  },
  {
   "cell_type": "code",
   "execution_count": 17,
   "metadata": {},
   "outputs": [],
   "source": [
    "from deepface import DeepFace\n",
    " \n",
    "model_name = \"ArcFace\"\n",
    "distance_metric = \"euclidean_l2\"\n",
    "detector_backend = 'retinaface'"
   ]
  },
  {
   "cell_type": "code",
   "execution_count": 18,
   "metadata": {},
   "outputs": [
    {
     "name": "stderr",
     "output_type": "stream",
     "text": [
      "Verification:   1%|          | 44/7328 [03:01<7:52:17,  3.89s/it]"
     ]
    }
   ],
   "source": [
    "resp_obj11 = DeepFace.verify(instances, model_name = model_name, distance_metric = distance_metric, enforce_detection = False, detector_backend = detector_backend)"
   ]
  },
  {
   "cell_type": "code",
   "execution_count": null,
   "metadata": {},
   "outputs": [],
   "source": [
    "# load json module\n",
    "import json\n",
    "\n",
    "# create json object from dictionary\n",
    "json = json.dumps(resp_obj11)\n",
    "\n",
    "# open file for writing, \"w\" \n",
    "f = open(\"dict11.json\",\"w\")\n",
    "\n",
    "# write json object to file\n",
    "f.write(json)\n",
    "\n",
    "# close file\n",
    "f.close()"
   ]
  },
  {
   "cell_type": "code",
   "execution_count": null,
   "metadata": {},
   "outputs": [],
   "source": [
    "# importing the module\n",
    "import json\n",
    " \n",
    "# Opening JSON file\n",
    "with open('dict11.json') as json_file:\n",
    "    data = json.load(json_file)"
   ]
  },
  {
   "cell_type": "code",
   "execution_count": null,
   "metadata": {},
   "outputs": [],
   "source": [
    "distances = []\n",
    "for i in range(0, len(instances)):\n",
    "    distance = round(resp_obj11[\"pair_%s\" % (i+1)][\"distance\"], 4)\n",
    "    distances.append(distance)"
   ]
  },
  {
   "cell_type": "code",
   "execution_count": null,
   "metadata": {},
   "outputs": [],
   "source": [
    "negatives[\"distance\"] = distances"
   ]
  },
  {
   "cell_type": "code",
   "execution_count": null,
   "metadata": {},
   "outputs": [],
   "source": [
    "j=0\n",
    "k=0\n",
    "for i in range(0, len(instances)):\n",
    "    if negatives.decision[i] == \"Yes\":\n",
    "        j = j + 1\n",
    "    else:\n",
    "        k = k + 1\n",
    "    "
   ]
  },
  {
   "cell_type": "code",
   "execution_count": null,
   "metadata": {},
   "outputs": [],
   "source": [
    "print(\"Number of true positive: \", j)\n",
    "print(\"Number of false positive: \", k)"
   ]
  },
  {
   "cell_type": "code",
   "execution_count": null,
   "metadata": {},
   "outputs": [],
   "source": [
    "tp_mean = round(negatives[negatives.decision == \"Yes\"].mean().values[0], 4)\n",
    "tp_std = round(negatives[negatives.decision == \"Yes\"].std().values[0], 4)\n",
    "fp_mean = round(negatives[negatives.decision == \"No\"].mean().values[0], 4)\n",
    "fp_std = round(negatives[negatives.decision == \"No\"].std().values[0], 4)"
   ]
  },
  {
   "cell_type": "code",
   "execution_count": null,
   "metadata": {},
   "outputs": [],
   "source": [
    "print(\"Mean of true positives: \", tp_mean)\n",
    "print(\"Std of true positives: \", tp_std)\n",
    "print(\"Mean of false positives: \", fp_mean)\n",
    "print(\"Std of false positives: \", fp_std)"
   ]
  },
  {
   "cell_type": "code",
   "execution_count": null,
   "metadata": {},
   "outputs": [],
   "source": [
    "negatives[negatives.decision == \"Yes\"].distance.plot.kde()\n",
    "negatives[negatives.decision == \"No\"].distance.plot.kde()"
   ]
  },
  {
   "cell_type": "code",
   "execution_count": null,
   "metadata": {},
   "outputs": [],
   "source": [
    "from chefboost import Chefboost as chef"
   ]
  },
  {
   "cell_type": "code",
   "execution_count": null,
   "metadata": {},
   "outputs": [],
   "source": [
    "config = {'algorithm': 'C4.5'}"
   ]
  },
  {
   "cell_type": "code",
   "execution_count": null,
   "metadata": {},
   "outputs": [],
   "source": [
    "tmp_df = negatives[['distance', 'decision']].rename(columns = {\"decision\": \"Decision\"}).copy()\n",
    "model = chef.fit(tmp_df, config)"
   ]
  },
  {
   "cell_type": "code",
   "execution_count": null,
   "metadata": {},
   "outputs": [],
   "source": [
    "threshold = 1.13"
   ]
  },
  {
   "cell_type": "code",
   "execution_count": null,
   "metadata": {},
   "outputs": [],
   "source": [
    "negatives[negatives.decision == 'Yes'].distance.max()"
   ]
  },
  {
   "cell_type": "code",
   "execution_count": null,
   "metadata": {},
   "outputs": [],
   "source": [
    "negatives[negatives.decision == 'No'].distance.min()"
   ]
  },
  {
   "cell_type": "code",
   "execution_count": null,
   "metadata": {},
   "outputs": [],
   "source": [
    "negatives[\"prediction\"] = \"No\""
   ]
  },
  {
   "cell_type": "code",
   "execution_count": null,
   "metadata": {},
   "outputs": [],
   "source": [
    "idx = negatives[negatives.distance <= threshold].index\n",
    "negatives.loc[idx, 'prediction'] = 'Yes'"
   ]
  },
  {
   "cell_type": "code",
   "execution_count": null,
   "metadata": {},
   "outputs": [],
   "source": [
    "negatives.sample(5)"
   ]
  },
  {
   "cell_type": "code",
   "execution_count": null,
   "metadata": {},
   "outputs": [],
   "source": [
    "cm = confusion_matrix(negatives.decision.values, negatives.prediction.values)\n",
    "cm"
   ]
  },
  {
   "cell_type": "code",
   "execution_count": null,
   "metadata": {},
   "outputs": [],
   "source": [
    "tn, fp, fn, tp = cm.ravel()\n",
    "tn, fp, fn, tp"
   ]
  },
  {
   "cell_type": "code",
   "execution_count": null,
   "metadata": {},
   "outputs": [],
   "source": [
    "recall = tp / (tp + fn)\n",
    "precision = tp / (tp + fp)\n",
    "accuracy = (tp + tn)/(tn + fp +  fn + tp)\n",
    "f1 = 2 * (precision * recall) / (precision + recall)"
   ]
  },
  {
   "cell_type": "code",
   "execution_count": null,
   "metadata": {},
   "outputs": [],
   "source": [
    "print(\"Precision: \", 100*precision,\"%\")\n",
    "print(\"Recall: \", 100*recall,\"%\")\n",
    "print(\"F1 score \",100*f1, \"%\")\n",
    "print(\"Accuracy: \", 100*accuracy,\"%\")"
   ]
  },
  {
   "cell_type": "code",
   "execution_count": null,
   "metadata": {},
   "outputs": [],
   "source": [
    "negatives.to_csv(\"P11.csv\", index = False)"
   ]
  }
 ],
 "metadata": {
  "kernelspec": {
   "display_name": "Python 3.8.10 64-bit",
   "language": "python",
   "name": "python3"
  },
  "language_info": {
   "codemirror_mode": {
    "name": "ipython",
    "version": 3
   },
   "file_extension": ".py",
   "mimetype": "text/x-python",
   "name": "python",
   "nbconvert_exporter": "python",
   "pygments_lexer": "ipython3",
   "version": "3.8.10"
  },
  "orig_nbformat": 4,
  "vscode": {
   "interpreter": {
    "hash": "e7370f93d1d0cde622a1f8e1c04877d8463912d04d973331ad4851f04de6915a"
   }
  }
 },
 "nbformat": 4,
 "nbformat_minor": 2
}
